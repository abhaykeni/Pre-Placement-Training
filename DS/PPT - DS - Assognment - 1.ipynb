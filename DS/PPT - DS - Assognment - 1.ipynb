{
 "cells": [
  {
   "cell_type": "markdown",
   "id": "360cb726",
   "metadata": {},
   "source": [
    "1. Write a Python program to reverse a string without using any built-in string reversal functions."
   ]
  },
  {
   "cell_type": "code",
   "execution_count": 106,
   "id": "3afce66b",
   "metadata": {},
   "outputs": [
    {
     "data": {
      "text/plain": [
       "'erehT iH'"
      ]
     },
     "execution_count": 106,
     "metadata": {},
     "output_type": "execute_result"
    }
   ],
   "source": [
    "st = \"Hi There\"\n",
    "st[::-1]"
   ]
  },
  {
   "cell_type": "markdown",
   "id": "12422c92",
   "metadata": {},
   "source": [
    "2. Implement a function to check if a given string is a palindrome."
   ]
  },
  {
   "cell_type": "code",
   "execution_count": 7,
   "id": "8072921b",
   "metadata": {},
   "outputs": [
    {
     "data": {
      "text/plain": [
       "True"
      ]
     },
     "execution_count": 7,
     "metadata": {},
     "output_type": "execute_result"
    }
   ],
   "source": [
    "st = \"madam\"\n",
    "def pal(st):\n",
    "    if st == st[::-1]:\n",
    "        return True\n",
    "    else:\n",
    "        return False\n",
    "\n",
    "pal(st)"
   ]
  },
  {
   "cell_type": "markdown",
   "id": "bc65e3a9",
   "metadata": {},
   "source": [
    "3. Write a program to find the largest element in a given list."
   ]
  },
  {
   "cell_type": "code",
   "execution_count": 8,
   "id": "10ae7378",
   "metadata": {},
   "outputs": [
    {
     "data": {
      "text/plain": [
       "9"
      ]
     },
     "execution_count": 8,
     "metadata": {},
     "output_type": "execute_result"
    }
   ],
   "source": [
    "n = [1,2,3,4,5,6,7,8,9]\n",
    "\n",
    "max(n)"
   ]
  },
  {
   "cell_type": "markdown",
   "id": "2d72c4b5",
   "metadata": {},
   "source": [
    "4. Implement a function to count the occurrence of each element in a list."
   ]
  },
  {
   "cell_type": "code",
   "execution_count": 70,
   "id": "c269aab0",
   "metadata": {},
   "outputs": [
    {
     "data": {
      "text/plain": [
       "{1: 1, 2: 1, 3: 1, 4: 1, 5: 1, 6: 1, 7: 1, 8: 1, 9: 1}"
      ]
     },
     "execution_count": 70,
     "metadata": {},
     "output_type": "execute_result"
    }
   ],
   "source": [
    "n = [1,2,3,4,5,6,7,8,9]\n",
    "\n",
    "def hashmap(n):\n",
    "    hmap = dict()\n",
    "    for i in n:\n",
    "        if i in hmap.keys():\n",
    "            hmap[i] = hmap[i]+1\n",
    "        else:\n",
    "            hmap[i] = 1\n",
    "    return hmap\n",
    "\n",
    "hashmap(n)"
   ]
  },
  {
   "cell_type": "markdown",
   "id": "21f5142e",
   "metadata": {},
   "source": [
    "5. Write a Python program to find the second largest number in a list."
   ]
  },
  {
   "cell_type": "code",
   "execution_count": 12,
   "id": "ded384d4",
   "metadata": {},
   "outputs": [
    {
     "data": {
      "text/plain": [
       "8"
      ]
     },
     "execution_count": 12,
     "metadata": {},
     "output_type": "execute_result"
    }
   ],
   "source": [
    "n = [1,5,6,4,3,2,8,9,7]\n",
    "\n",
    "n.sort()\n",
    "n[-2]"
   ]
  },
  {
   "cell_type": "markdown",
   "id": "d0414a6b",
   "metadata": {},
   "source": [
    "6. Implement a function to remove duplicate elements from a list."
   ]
  },
  {
   "cell_type": "code",
   "execution_count": 13,
   "id": "5e10ae7a",
   "metadata": {},
   "outputs": [
    {
     "data": {
      "text/plain": [
       "{1, 2, 3}"
      ]
     },
     "execution_count": 13,
     "metadata": {},
     "output_type": "execute_result"
    }
   ],
   "source": [
    "n = [1,2,3,1,2,3,1,2,3]\n",
    "\n",
    "set(n)"
   ]
  },
  {
   "cell_type": "markdown",
   "id": "60e9721e",
   "metadata": {},
   "source": [
    "7. Write a program to calculate the factorial of a given number."
   ]
  },
  {
   "cell_type": "code",
   "execution_count": 3,
   "id": "ab807cbd",
   "metadata": {},
   "outputs": [
    {
     "data": {
      "text/plain": [
       "120"
      ]
     },
     "execution_count": 3,
     "metadata": {},
     "output_type": "execute_result"
    }
   ],
   "source": [
    "def fact(n):\n",
    "    if n == 0:\n",
    "        return 1\n",
    "    return n * fact(n-1)\n",
    "\n",
    "fact(5)"
   ]
  },
  {
   "cell_type": "markdown",
   "id": "f73f3671",
   "metadata": {},
   "source": [
    "8. Implement a function to check if a given number is prime."
   ]
  },
  {
   "cell_type": "code",
   "execution_count": 6,
   "id": "ec69c086",
   "metadata": {},
   "outputs": [
    {
     "data": {
      "text/plain": [
       "'Prime'"
      ]
     },
     "execution_count": 6,
     "metadata": {},
     "output_type": "execute_result"
    }
   ],
   "source": [
    "def isPrime(n):\n",
    "    count = 0\n",
    "    for i in range(2,n):\n",
    "        if n%i==0:\n",
    "            count = count + 1\n",
    "    \n",
    "    if count == 0:\n",
    "        return \"Prime\"\n",
    "    else:\n",
    "        return \"Not Prime\"\n",
    "    \n",
    "isPrime(n=13)"
   ]
  },
  {
   "cell_type": "markdown",
   "id": "9ab88efb",
   "metadata": {},
   "source": [
    "9. Write a Python program to sort a list of integers in ascending order."
   ]
  },
  {
   "cell_type": "code",
   "execution_count": 108,
   "id": "94137425",
   "metadata": {},
   "outputs": [
    {
     "data": {
      "text/plain": [
       "[0, 1, 2, 2, 3, 3, 5, 6, 7, 8, 8, 24, 34, 67]"
      ]
     },
     "execution_count": 108,
     "metadata": {},
     "output_type": "execute_result"
    }
   ],
   "source": [
    "l = [2,34,24,67,2,6,8,0,3,1,3,5,7,8]\n",
    "l.sort()\n",
    "l"
   ]
  },
  {
   "cell_type": "markdown",
   "id": "252a4c39",
   "metadata": {},
   "source": [
    "10. Implement a function to find the sum of all numbers in a list."
   ]
  },
  {
   "cell_type": "code",
   "execution_count": 11,
   "id": "f2423d48",
   "metadata": {},
   "outputs": [],
   "source": [
    "n = [1,2,3,4,5,6,7,8,9]\n",
    "\n",
    "def sumInList(n):\n",
    "    if len(n)==0:\n",
    "        return 0\n",
    "    return n[len(n)-1]+sumInList(n[0:len(n)-1:1])"
   ]
  },
  {
   "cell_type": "code",
   "execution_count": 12,
   "id": "d7e29975",
   "metadata": {},
   "outputs": [
    {
     "data": {
      "text/plain": [
       "45"
      ]
     },
     "execution_count": 12,
     "metadata": {},
     "output_type": "execute_result"
    }
   ],
   "source": [
    "sumInList(n)"
   ]
  },
  {
   "cell_type": "markdown",
   "id": "3c950d9c",
   "metadata": {},
   "source": [
    "11. Write a program to find the common elements between two lists."
   ]
  },
  {
   "cell_type": "code",
   "execution_count": 15,
   "id": "88a129d4",
   "metadata": {},
   "outputs": [
    {
     "name": "stdout",
     "output_type": "stream",
     "text": [
      "1 2 3 "
     ]
    }
   ],
   "source": [
    "n1 = [1,2,3,4,5,6,7,8,9]\n",
    "n2 = [1,2,3]\n",
    "\n",
    "if len(n1)>len(n2):\n",
    "    small = n2\n",
    "    large = n1\n",
    "else:\n",
    "    small = n1\n",
    "    large = n2\n",
    "    \n",
    "for i in set(small):\n",
    "    if i in large:\n",
    "        print(i,end=\" \")\n",
    "    "
   ]
  },
  {
   "cell_type": "markdown",
   "id": "43a55d20",
   "metadata": {},
   "source": [
    "12. Implement a function to check if a given string is an anagram of another string."
   ]
  },
  {
   "cell_type": "code",
   "execution_count": 29,
   "id": "562b0d7e",
   "metadata": {},
   "outputs": [],
   "source": [
    "def isAnagram(s1,s2):\n",
    "    s1 = [*s1]\n",
    "    s1.sort()\n",
    "    s2 = [*s2]\n",
    "    s2.sort()\n",
    "    \n",
    "    if s1 == s2:\n",
    "        return True\n",
    "    else:\n",
    "        return False"
   ]
  },
  {
   "cell_type": "code",
   "execution_count": 30,
   "id": "d7dfe106",
   "metadata": {},
   "outputs": [
    {
     "data": {
      "text/plain": [
       "True"
      ]
     },
     "execution_count": 30,
     "metadata": {},
     "output_type": "execute_result"
    }
   ],
   "source": [
    "s1 = \"bear\"\n",
    "s2 = \"bare\"\n",
    "isAnagram(s1,s2)"
   ]
  },
  {
   "cell_type": "markdown",
   "id": "7c0daaec",
   "metadata": {},
   "source": [
    "13. Write a Python program to generate all permutations of a given string."
   ]
  },
  {
   "cell_type": "code",
   "execution_count": 34,
   "id": "3c85aa8e",
   "metadata": {},
   "outputs": [
    {
     "name": "stdout",
     "output_type": "stream",
     "text": [
      "aba ab aa a ba b a  "
     ]
    }
   ],
   "source": [
    "def stringPerm(st,l,r,anx=\"\"):\n",
    "    if l>r:\n",
    "        print(anx,end=' ')\n",
    "        return None\n",
    "    stringPerm(st,l+1,r,anx+st[l])\n",
    "    stringPerm(st,l+1,r,anx)\n",
    "    \n",
    "st = \"aba\"\n",
    "n = len(st)\n",
    "stringPerm(st, 0, n - 1)"
   ]
  },
  {
   "cell_type": "markdown",
   "id": "fab0d6c3",
   "metadata": {},
   "source": [
    "14. Implement a function to calculate the Fibonacci sequence up to a given number of terms."
   ]
  },
  {
   "cell_type": "code",
   "execution_count": 37,
   "id": "651a4da8",
   "metadata": {},
   "outputs": [
    {
     "data": {
      "text/plain": [
       "34"
      ]
     },
     "execution_count": 37,
     "metadata": {},
     "output_type": "execute_result"
    }
   ],
   "source": [
    "def fib(n):\n",
    "    if n == 1:\n",
    "        return 0\n",
    "    if n == 2:\n",
    "        return 1\n",
    "    return fib(n-1)+fib(n-2)\n",
    "\n",
    "fib(10)"
   ]
  },
  {
   "cell_type": "markdown",
   "id": "12b9b764",
   "metadata": {},
   "source": [
    "15. Write a program to find the median of a list of numbers."
   ]
  },
  {
   "cell_type": "code",
   "execution_count": 38,
   "id": "1850df1f",
   "metadata": {},
   "outputs": [
    {
     "data": {
      "text/plain": [
       "6"
      ]
     },
     "execution_count": 38,
     "metadata": {},
     "output_type": "execute_result"
    }
   ],
   "source": [
    "n = [5,6,7,9,5,3,2,5,5,7,9,4,2,13,4,56,8,9,0,9,876,54,3,2,1,3,5,6,7,8]\n",
    "n.sort()\n",
    "n[len(n)//2]"
   ]
  },
  {
   "cell_type": "markdown",
   "id": "8e7d146d",
   "metadata": {},
   "source": [
    "16. Implement a function to check if a given list is sorted in non-decreasing order."
   ]
  },
  {
   "cell_type": "code",
   "execution_count": 7,
   "id": "c79b7131",
   "metadata": {},
   "outputs": [
    {
     "name": "stdout",
     "output_type": "stream",
     "text": [
      "False\n"
     ]
    }
   ],
   "source": [
    "n = [1,3,2,4,5,6,7]\n",
    "def isSorted(a):\n",
    "    i = 1\n",
    "    while(i<len(a)):\n",
    "        if a[i-1]>a[i]:\n",
    "            return False\n",
    "        i += 1\n",
    "    return True\n",
    "    \n",
    "print(isSorted(n))"
   ]
  },
  {
   "cell_type": "markdown",
   "id": "d451c032",
   "metadata": {},
   "source": [
    "17. Write a Python program to find the intersection of two lists."
   ]
  },
  {
   "cell_type": "code",
   "execution_count": 8,
   "id": "633be82a",
   "metadata": {},
   "outputs": [
    {
     "name": "stdout",
     "output_type": "stream",
     "text": [
      "1 2 3 "
     ]
    }
   ],
   "source": [
    "n1 = [1,2,3,4,5,6,7,8,9]\n",
    "n2 = [1,2,3]\n",
    "\n",
    "if len(n1)>len(n2):\n",
    "    small = n2\n",
    "    large = n1\n",
    "else:\n",
    "    small = n1\n",
    "    large = n2\n",
    "    \n",
    "for i in set(small):\n",
    "    if i in large:\n",
    "        print(i,end=\" \")"
   ]
  },
  {
   "cell_type": "markdown",
   "id": "113050ff",
   "metadata": {},
   "source": [
    "18. Implement a function to find the maximum subarray sum in a given list."
   ]
  },
  {
   "cell_type": "code",
   "execution_count": 104,
   "id": "e2b9de7f",
   "metadata": {},
   "outputs": [
    {
     "name": "stdout",
     "output_type": "stream",
     "text": [
      "Maximum contiguous sum is 7\n"
     ]
    }
   ],
   "source": [
    "def maxSubArraySum(a, size):\n",
    " \n",
    "    max_so_far = -32767\n",
    "    max_ending_here = 0\n",
    " \n",
    "    for i in range(0, size):\n",
    "        max_ending_here = max_ending_here + a[i]\n",
    "        if (max_so_far < max_ending_here):\n",
    "            max_so_far = max_ending_here\n",
    " \n",
    "        if max_ending_here < 0:\n",
    "            max_ending_here = 0\n",
    "    return max_so_far\n",
    " \n",
    "\n",
    "a = [-2, -3, 4, -1, -2, 1, 5, -3]\n",
    "print(\"Maximum contiguous sum is\", maxSubArraySum(a, len(a)))"
   ]
  },
  {
   "cell_type": "markdown",
   "id": "4492d79b",
   "metadata": {},
   "source": [
    "19. Write a program to remove all vowels from a given string."
   ]
  },
  {
   "cell_type": "code",
   "execution_count": 9,
   "id": "2697c126",
   "metadata": {},
   "outputs": [
    {
     "data": {
      "text/plain": [
       "'H Thr'"
      ]
     },
     "execution_count": 9,
     "metadata": {},
     "output_type": "execute_result"
    }
   ],
   "source": [
    "s = \"Hi There\"\n",
    "new_st = \"\"\n",
    "\n",
    "for i in s:\n",
    "    if i.lower() =='a' or i.lower() =='e' or i.lower() =='i' or i.lower() =='o' or i.lower() =='u':\n",
    "        continue\n",
    "    else:\n",
    "        new_st += i\n",
    "\n",
    "new_st"
   ]
  },
  {
   "cell_type": "markdown",
   "id": "3d13ddc9",
   "metadata": {},
   "source": [
    "20. Implement a function to reverse the order of words in a given sentence."
   ]
  },
  {
   "cell_type": "code",
   "execution_count": 16,
   "id": "9b33e24d",
   "metadata": {},
   "outputs": [
    {
     "data": {
      "text/plain": [
       "'iH woh era uoy ereht'"
      ]
     },
     "execution_count": 16,
     "metadata": {},
     "output_type": "execute_result"
    }
   ],
   "source": [
    "s = \"Hi how are you there\"\n",
    "\n",
    "def revSent(s):\n",
    "    lists = s.split()\n",
    "    count = 0\n",
    "    new = []\n",
    "    for i in lists:\n",
    "        new.append(i[::-1])\n",
    "    return \" \".join(new)\n",
    "\n",
    "revSent(s)"
   ]
  },
  {
   "cell_type": "markdown",
   "id": "beb169e8",
   "metadata": {},
   "source": [
    "21. Write a Python program to check if two strings are anagrams of each other."
   ]
  },
  {
   "cell_type": "code",
   "execution_count": 18,
   "id": "f3c1f5ab",
   "metadata": {},
   "outputs": [
    {
     "data": {
      "text/plain": [
       "True"
      ]
     },
     "execution_count": 18,
     "metadata": {},
     "output_type": "execute_result"
    }
   ],
   "source": [
    "def isAnagram(s1,s2):\n",
    "    s1 = [*s1]\n",
    "    s1.sort()\n",
    "    s2 = [*s2]\n",
    "    s2.sort()\n",
    "    \n",
    "    if s1 == s2:\n",
    "        return True\n",
    "    else:\n",
    "        return False\n",
    "    \n",
    "s1 = \"bear\"\n",
    "s2 = \"bare\"\n",
    "isAnagram(s1,s2)"
   ]
  },
  {
   "cell_type": "markdown",
   "id": "49782db5",
   "metadata": {},
   "source": [
    "22. Implement a function to find the first non-repeating character in a string."
   ]
  },
  {
   "cell_type": "code",
   "execution_count": 98,
   "id": "66a4baa0",
   "metadata": {},
   "outputs": [
    {
     "data": {
      "text/plain": [
       "'a'"
      ]
     },
     "execution_count": 98,
     "metadata": {},
     "output_type": "execute_result"
    }
   ],
   "source": [
    "def hashmap(n):\n",
    "    hmap = dict()\n",
    "    for i in n:\n",
    "        if i in hmap.keys():\n",
    "            hmap[i] = hmap[i]+1\n",
    "        else:\n",
    "            hmap[i] = 1\n",
    "    return hmap\n",
    "\n",
    "def firstOccur(n):\n",
    "    hmap = hashmap(n)\n",
    "    for i in n:\n",
    "        if hmap[i]==1:\n",
    "            return i\n",
    "    \n",
    "n = \"abbcdefcghef\"    \n",
    "firstOccur(n)"
   ]
  },
  {
   "cell_type": "markdown",
   "id": "83a4b262",
   "metadata": {},
   "source": [
    "23. Write a program to find the prime factors of a given number."
   ]
  },
  {
   "cell_type": "code",
   "execution_count": 96,
   "id": "0ea51d4c",
   "metadata": {},
   "outputs": [
    {
     "name": "stdout",
     "output_type": "stream",
     "text": [
      "2 3 "
     ]
    }
   ],
   "source": [
    "def findFactor(n):\n",
    "    l = []\n",
    "    for i in range(2,n):\n",
    "        if n%i==0:\n",
    "            l.append(i)\n",
    "    return l\n",
    "        \n",
    "def isPrime(l,n):\n",
    "    for x in l:\n",
    "        count = 0\n",
    "        for i in range(2,x):\n",
    "            if x%i==0:\n",
    "                count = count + 1\n",
    "        if count == 0:\n",
    "            print(x,end=\" \")\n",
    "    \n",
    "n = 24    \n",
    "def primeFactors(n):\n",
    "    l = findFactor(n)\n",
    "    isPrime(l,n)\n",
    "    \n",
    "primeFactors(n)"
   ]
  },
  {
   "cell_type": "markdown",
   "id": "03b3a9ed",
   "metadata": {},
   "source": [
    "24. Implement a function to check if a given number is a power of two."
   ]
  },
  {
   "cell_type": "code",
   "execution_count": 22,
   "id": "a402cfca",
   "metadata": {},
   "outputs": [
    {
     "data": {
      "text/plain": [
       "True"
      ]
     },
     "execution_count": 22,
     "metadata": {},
     "output_type": "execute_result"
    }
   ],
   "source": [
    "def powerOfTwo(n):\n",
    "    if n == 1:\n",
    "        return True\n",
    "    if n%2 != 0:\n",
    "        return False\n",
    "    \n",
    "    return powerOfTwo(n//2)\n",
    "\n",
    "powerOfTwo(8)"
   ]
  },
  {
   "cell_type": "markdown",
   "id": "8dbc3736",
   "metadata": {},
   "source": [
    "25. Write a Python program to merge two sorted lists into a single sorted list."
   ]
  },
  {
   "cell_type": "code",
   "execution_count": 26,
   "id": "8fc5e32e",
   "metadata": {},
   "outputs": [
    {
     "data": {
      "text/plain": [
       "[1, 2, 3, 4, 5, 6, 7, 8, 9, 10]"
      ]
     },
     "execution_count": 26,
     "metadata": {},
     "output_type": "execute_result"
    }
   ],
   "source": [
    "l1 = [1,3,5,7,9]\n",
    "l2 = [2,4,6,8,10]\n",
    "\n",
    "new = l1 + l2\n",
    "new.sort()\n",
    "new"
   ]
  },
  {
   "cell_type": "markdown",
   "id": "86dd04ac",
   "metadata": {},
   "source": [
    "26. Implement a function to find the mode of a list of numbers."
   ]
  },
  {
   "cell_type": "code",
   "execution_count": 33,
   "id": "672f5455",
   "metadata": {},
   "outputs": [
    {
     "data": {
      "text/plain": [
       "5"
      ]
     },
     "execution_count": 33,
     "metadata": {},
     "output_type": "execute_result"
    }
   ],
   "source": [
    "n = [1,2,3,4,4,5,5,5,6,7,8,9]\n",
    "\n",
    "def hashmap(n):\n",
    "    hmap = dict()\n",
    "    for i in n:\n",
    "        if i in hmap.keys():\n",
    "            hmap[i] = hmap[i]+1\n",
    "        else:\n",
    "            hmap[i] = 1\n",
    "    return hmap\n",
    "\n",
    "def findMode(n):\n",
    "    hmap = hashmap(n)\n",
    "    maxx = max(hmap.values())\n",
    "    for i in hmap.keys():\n",
    "        if hmap[i]==maxx:\n",
    "            return i\n",
    "    \n",
    "findMode(n)"
   ]
  },
  {
   "cell_type": "markdown",
   "id": "850229d0",
   "metadata": {},
   "source": [
    "27. Write a program to find the greatest common divisor (GCD) of two numbers."
   ]
  },
  {
   "cell_type": "code",
   "execution_count": 34,
   "id": "9e506cc5",
   "metadata": {},
   "outputs": [
    {
     "data": {
      "text/plain": [
       "4"
      ]
     },
     "execution_count": 34,
     "metadata": {},
     "output_type": "execute_result"
    }
   ],
   "source": [
    "def gcd(a,b):\n",
    "    if a%b==0:\n",
    "        return b\n",
    "    return gcd(b,a%b)\n",
    "\n",
    "gcd(8,4)"
   ]
  },
  {
   "cell_type": "markdown",
   "id": "d0503421",
   "metadata": {},
   "source": [
    "28. Implement a function to calculate the square root of a given number."
   ]
  },
  {
   "cell_type": "code",
   "execution_count": 38,
   "id": "2dfba9bc",
   "metadata": {},
   "outputs": [
    {
     "data": {
      "text/plain": [
       "4"
      ]
     },
     "execution_count": 38,
     "metadata": {},
     "output_type": "execute_result"
    }
   ],
   "source": [
    "def floorSqrt(x):\n",
    "    if (x == 0 or x == 1):\n",
    "        return x\n",
    "    start = 1\n",
    "    end = x//2\n",
    "    while (start <= end):\n",
    "        mid = (start + end) // 2\n",
    "        if (mid*mid == x):\n",
    "            return mid\n",
    "        if (mid * mid < x):\n",
    "            start = mid + 1\n",
    "            ans = mid\n",
    " \n",
    "        else:\n",
    "            end = mid-1\n",
    " \n",
    "    return ans\n",
    "\n",
    "floorSqrt(16)"
   ]
  },
  {
   "cell_type": "markdown",
   "id": "8c6979ed",
   "metadata": {},
   "source": [
    "29. Write a Python program to check if a given string is a valid palindrome ignoring non-alphanumeric characters."
   ]
  },
  {
   "cell_type": "code",
   "execution_count": 42,
   "id": "a52839f5",
   "metadata": {},
   "outputs": [
    {
     "data": {
      "text/plain": [
       "True"
      ]
     },
     "execution_count": 42,
     "metadata": {},
     "output_type": "execute_result"
    }
   ],
   "source": [
    "st = '@@@ma@d@am!!!'\n",
    "def isPalindrome(st):\n",
    "    new = \"\"\n",
    "    for i in st:\n",
    "        if i.isalnum():\n",
    "            new += i\n",
    "\n",
    "    if new == new[::-1]:\n",
    "        return True\n",
    "    else:\n",
    "        return False\n",
    "    \n",
    "isPalindrome(st)"
   ]
  },
  {
   "cell_type": "markdown",
   "id": "0cb5f7fc",
   "metadata": {},
   "source": [
    "30. Implement a function to find the minimum element in a rotated sorted list."
   ]
  },
  {
   "cell_type": "code",
   "execution_count": 44,
   "id": "2367efa2",
   "metadata": {},
   "outputs": [
    {
     "data": {
      "text/plain": [
       "1"
      ]
     },
     "execution_count": 44,
     "metadata": {},
     "output_type": "execute_result"
    }
   ],
   "source": [
    "n = [4,5,6,7,1,2,3]\n",
    "\n",
    "def minRotArray(n):\n",
    "    return min(n)\n",
    "\n",
    "minRotArray(n)"
   ]
  },
  {
   "cell_type": "markdown",
   "id": "f47781b2",
   "metadata": {},
   "source": [
    "31. Write a program to find the sum of all even numbers in a list."
   ]
  },
  {
   "cell_type": "code",
   "execution_count": 47,
   "id": "d7576436",
   "metadata": {},
   "outputs": [
    {
     "data": {
      "text/plain": [
       "12"
      ]
     },
     "execution_count": 47,
     "metadata": {},
     "output_type": "execute_result"
    }
   ],
   "source": [
    "n = [4,5,6,7,1,2,3]\n",
    "summ = 0\n",
    "for i in n:\n",
    "    if i%2 == 0:\n",
    "        summ +=i\n",
    "summ        "
   ]
  },
  {
   "cell_type": "markdown",
   "id": "326ffd77",
   "metadata": {},
   "source": [
    "32. Implement a function to calculate the power of a number using recursion."
   ]
  },
  {
   "cell_type": "code",
   "execution_count": 51,
   "id": "306b94dd",
   "metadata": {},
   "outputs": [
    {
     "data": {
      "text/plain": [
       "32"
      ]
     },
     "execution_count": 51,
     "metadata": {},
     "output_type": "execute_result"
    }
   ],
   "source": [
    "def powOfNum(n,power):\n",
    "    if power == 0:\n",
    "        return 1\n",
    "    return n*powOfNum(n,power-1)\n",
    "\n",
    "powOfNum(2,5)"
   ]
  },
  {
   "cell_type": "markdown",
   "id": "094bc366",
   "metadata": {},
   "source": [
    "33. Write a Python program to remove duplicates from a list while preserving the order."
   ]
  },
  {
   "cell_type": "code",
   "execution_count": 77,
   "id": "22c87e47",
   "metadata": {},
   "outputs": [
    {
     "data": {
      "text/plain": [
       "[10, 11, 15, 1, 2, 3, 4, 5, 6, 7, 8, 9]"
      ]
     },
     "execution_count": 77,
     "metadata": {},
     "output_type": "execute_result"
    }
   ],
   "source": [
    "n = [10,11,15,1,1,1,2,2,2,3,3,4,5,6,6,7,8,9,9]\n",
    "s = set(n)\n",
    "new = []\n",
    "\n",
    "def hashmap(n):\n",
    "    hmap = dict()\n",
    "    for i in n:\n",
    "        if i in hmap.keys():\n",
    "            hmap[i] = hmap[i]+1\n",
    "        else:\n",
    "            hmap[i] = 1\n",
    "    return hmap\n",
    "\n",
    "hmap = hashmap(n)\n",
    "for i in n:\n",
    "    if i in s and hmap[i]>0:\n",
    "        hmap[i]=0\n",
    "        new.append(i)\n",
    "new"
   ]
  },
  {
   "cell_type": "markdown",
   "id": "eb07f3e1",
   "metadata": {},
   "source": [
    "34. Implement a function to find the longest common prefix among a list of strings."
   ]
  },
  {
   "cell_type": "code",
   "execution_count": 105,
   "id": "f10fceab",
   "metadata": {},
   "outputs": [
    {
     "name": "stdout",
     "output_type": "stream",
     "text": [
      "The longest Common Prefix is : gee\n"
     ]
    }
   ],
   "source": [
    "def longestCommonPrefix( a):\n",
    "     \n",
    "    size = len(a)\n",
    "    if (size == 0):\n",
    "        return \"\"\n",
    " \n",
    "    if (size == 1):\n",
    "        return a[0]\n",
    "    a.sort()\n",
    "    end = min(len(a[0]), len(a[size - 1]))\n",
    "    i = 0\n",
    "    while (i < end and\n",
    "           a[0][i] == a[size - 1][i]):\n",
    "        i += 1\n",
    " \n",
    "    pre = a[0][0: i]\n",
    "    return pre\n",
    " \n",
    "\n",
    " \n",
    "input = [\"geeksforgeeks\", \"geeks\",\n",
    "                     \"geek\", \"geezer\"]\n",
    "print(\"The longest Common Prefix is :\",longestCommonPrefix(input))"
   ]
  },
  {
   "cell_type": "markdown",
   "id": "61cbcb75",
   "metadata": {},
   "source": [
    "35. Write a program to check if a given number is a perfect square."
   ]
  },
  {
   "cell_type": "code",
   "execution_count": 99,
   "id": "e783c241",
   "metadata": {},
   "outputs": [
    {
     "name": "stdout",
     "output_type": "stream",
     "text": [
      "Yes\n"
     ]
    }
   ],
   "source": [
    "n = 2500\n",
    " \n",
    "for i in range(n+1):\n",
    "    if i**2 == n:\n",
    "        print(\"Yes\")\n",
    "        break\n",
    "else:\n",
    "    print(\"No\")"
   ]
  },
  {
   "cell_type": "markdown",
   "id": "d9f999b0",
   "metadata": {},
   "source": [
    "36. Implement a function to calculate the product of all elements in a list."
   ]
  },
  {
   "cell_type": "code",
   "execution_count": 57,
   "id": "da676654",
   "metadata": {},
   "outputs": [
    {
     "data": {
      "text/plain": [
       "120"
      ]
     },
     "execution_count": 57,
     "metadata": {},
     "output_type": "execute_result"
    }
   ],
   "source": [
    "l = [1,2,3,4,5]\n",
    "\n",
    "def prod(l):\n",
    "    if len(l)==0:\n",
    "        return 1\n",
    "    return l[0]*prod(l[1::])\n",
    "\n",
    "prod(l)"
   ]
  },
  {
   "cell_type": "markdown",
   "id": "2737f7d5",
   "metadata": {},
   "source": [
    "37. Write a Python program to reverse the order of words in a sentence while preserving the word order."
   ]
  },
  {
   "cell_type": "code",
   "execution_count": 58,
   "id": "9a50da6e",
   "metadata": {},
   "outputs": [
    {
     "data": {
      "text/plain": [
       "'iH woh era uoy ereht'"
      ]
     },
     "execution_count": 58,
     "metadata": {},
     "output_type": "execute_result"
    }
   ],
   "source": [
    "s = \"Hi how are you there\"\n",
    "\n",
    "def revSent(s):\n",
    "    lists = s.split()\n",
    "    count = 0\n",
    "    new = []\n",
    "    for i in lists:\n",
    "        new.append(i[::-1])\n",
    "    return \" \".join(new)\n",
    "\n",
    "\n",
    "revSent(s)"
   ]
  },
  {
   "cell_type": "markdown",
   "id": "05804db3",
   "metadata": {},
   "source": [
    "38. Implement a function to find the missing number in a given list of consecutive numbers."
   ]
  },
  {
   "cell_type": "code",
   "execution_count": 61,
   "id": "4ae7d75f",
   "metadata": {},
   "outputs": [
    {
     "name": "stdout",
     "output_type": "stream",
     "text": [
      "5 7 "
     ]
    }
   ],
   "source": [
    "n = [1,2,3,4,6,8,9]\n",
    "\n",
    "for i in range(min(n),max(n)):\n",
    "    if i not in n:\n",
    "        print(i,end=\" \")"
   ]
  },
  {
   "cell_type": "markdown",
   "id": "11341936",
   "metadata": {},
   "source": [
    "39. Write a program to find the sum of digits of a given number."
   ]
  },
  {
   "cell_type": "code",
   "execution_count": 63,
   "id": "c87ba434",
   "metadata": {},
   "outputs": [
    {
     "data": {
      "text/plain": [
       "11"
      ]
     },
     "execution_count": 63,
     "metadata": {},
     "output_type": "execute_result"
    }
   ],
   "source": [
    "n = 128\n",
    "\n",
    "def sumOfNum(n):\n",
    "    s = str(n)\n",
    "    summ = 0\n",
    "    for i in s:\n",
    "        summ+= int(i)\n",
    "    return summ\n",
    "\n",
    "sumOfNum(128)"
   ]
  },
  {
   "cell_type": "markdown",
   "id": "1f3f0762",
   "metadata": {},
   "source": [
    "40. Implement a function to check if a given string is a valid palindrome considering case sensitivity."
   ]
  },
  {
   "cell_type": "code",
   "execution_count": 64,
   "id": "47b3f862",
   "metadata": {},
   "outputs": [
    {
     "data": {
      "text/plain": [
       "True"
      ]
     },
     "execution_count": 64,
     "metadata": {},
     "output_type": "execute_result"
    }
   ],
   "source": [
    "st = \"madam\"\n",
    "def pal(st):\n",
    "    if st == st[::-1]:\n",
    "        return True\n",
    "    else:\n",
    "        return False\n",
    "\n",
    "pal(st)"
   ]
  },
  {
   "cell_type": "markdown",
   "id": "be258859",
   "metadata": {},
   "source": [
    "41. Write a Python program to find the smallest missing positive integer in a list."
   ]
  },
  {
   "cell_type": "code",
   "execution_count": 65,
   "id": "8ee908e4",
   "metadata": {},
   "outputs": [
    {
     "name": "stdout",
     "output_type": "stream",
     "text": [
      "5 "
     ]
    }
   ],
   "source": [
    "n = [1,2,3,4,6,8,9]\n",
    "\n",
    "for i in range(min(n),max(n)):\n",
    "    if i not in n:\n",
    "        print(i,end=\" \")\n",
    "        break"
   ]
  },
  {
   "cell_type": "markdown",
   "id": "786ff515",
   "metadata": {},
   "source": [
    "42. Implement a function to find the longest palindrome substring in a given string."
   ]
  },
  {
   "cell_type": "code",
   "execution_count": 84,
   "id": "c5fec503",
   "metadata": {},
   "outputs": [
    {
     "name": "stdout",
     "output_type": "stream",
     "text": [
      "Longest palindrome substring is: geeksskeeg\n",
      "Length is: 10\n"
     ]
    }
   ],
   "source": [
    "def longestPalSubstr(s):\n",
    "    n = len(s)\n",
    "    longest = \"\"\n",
    "    j = 0\n",
    "    subs = \"\"\n",
    "    subsrev = \"\"\n",
    "    for i in range(n):\n",
    "        j = n-1\n",
    "        while i < j:\n",
    "            if(s[i] == s[j] and len(longest) < (j-i+1)):\n",
    "                subs = s[i:(j+1)]\n",
    "                subsrev = subs[::-1]\n",
    "                if(subs == subsrev):\n",
    "                    longest = subs\n",
    "            j -= 1\n",
    "    if(len(longest) == 0):\n",
    "        longest = s[0]\n",
    "    print(\"Longest palindrome substring is: \" + longest)\n",
    " \n",
    "    return len(longest)\n",
    " \n",
    "stri = \"forgeeksskeegfor\"\n",
    "print(\"Length is: \" + str(longestPalSubstr(stri)))"
   ]
  },
  {
   "cell_type": "markdown",
   "id": "1eb2703b",
   "metadata": {},
   "source": [
    "43. Write a program to find the number of occurrences of a given element in a list."
   ]
  },
  {
   "cell_type": "code",
   "execution_count": 71,
   "id": "4c998cb0",
   "metadata": {},
   "outputs": [
    {
     "data": {
      "text/plain": [
       "{1: 1, 2: 1, 3: 1, 4: 1, 5: 1, 6: 1, 7: 1, 8: 1, 9: 1}"
      ]
     },
     "execution_count": 71,
     "metadata": {},
     "output_type": "execute_result"
    }
   ],
   "source": [
    "n = [1,2,3,4,5,6,7,8,9]\n",
    "\n",
    "def hashmap(n):\n",
    "    hmap = dict()\n",
    "    for i in n:\n",
    "        if i in hmap.keys():\n",
    "            hmap[i] = hmap[i]+1\n",
    "        else:\n",
    "            hmap[i] = 1\n",
    "    return hmap\n",
    "\n",
    "hashmap(n)"
   ]
  },
  {
   "cell_type": "markdown",
   "id": "4d283684",
   "metadata": {},
   "source": [
    "44. Implement a function to check if a given number is a perfect number.\n"
   ]
  },
  {
   "cell_type": "code",
   "execution_count": 81,
   "id": "c917b8e3",
   "metadata": {},
   "outputs": [
    {
     "data": {
      "text/plain": [
       "True"
      ]
     },
     "execution_count": 81,
     "metadata": {},
     "output_type": "execute_result"
    }
   ],
   "source": [
    "def isPerfect( n ):\n",
    "    sum = 1\n",
    "    i = 2\n",
    "    while i * i <= n:\n",
    "        if n % i == 0:\n",
    "            sum = sum + i + n/i\n",
    "        i += 1\n",
    "     \n",
    "    return (True if sum == n and n!=1 else False)\n",
    "\n",
    "isPerfect(6)"
   ]
  },
  {
   "cell_type": "markdown",
   "id": "0ea8c077",
   "metadata": {},
   "source": [
    "45. Write a Python program to remove all duplicates from a string.\n"
   ]
  },
  {
   "cell_type": "code",
   "execution_count": 79,
   "id": "fc7bbaa6",
   "metadata": {},
   "outputs": [
    {
     "data": {
      "text/plain": [
       "'igfdsa'"
      ]
     },
     "execution_count": 79,
     "metadata": {},
     "output_type": "execute_result"
    }
   ],
   "source": [
    "st = \"iiiigfddsiaiaid\"\n",
    "n = [*st]\n",
    "s = set(st)\n",
    "new = []\n",
    "\n",
    "def hashmap(n):\n",
    "    hmap = dict()\n",
    "    for i in n:\n",
    "        if i in hmap.keys():\n",
    "            hmap[i] = hmap[i]+1\n",
    "        else:\n",
    "            hmap[i] = 1\n",
    "    return hmap\n",
    "\n",
    "hmap = hashmap(n)\n",
    "for i in n:\n",
    "    if i in s and hmap[i]>0:\n",
    "        hmap[i]=0\n",
    "        new.append(i)\n",
    "    \n",
    "\"\".join(new)"
   ]
  },
  {
   "cell_type": "markdown",
   "id": "846ae5d2",
   "metadata": {},
   "source": [
    "46. Implement a function to find the first missing positive"
   ]
  },
  {
   "cell_type": "code",
   "execution_count": 85,
   "id": "61b01246",
   "metadata": {},
   "outputs": [
    {
     "name": "stdout",
     "output_type": "stream",
     "text": [
      "5 "
     ]
    }
   ],
   "source": [
    "n = [-9,-7,-5,-4,-3,-2,0,1,2,3,4,6,8,9]\n",
    "\n",
    "for i in range(min(n),max(n)):\n",
    "    if i not in n:\n",
    "        if i > 0:\n",
    "            print(i,end=\" \")\n",
    "            break"
   ]
  }
 ],
 "metadata": {
  "kernelspec": {
   "display_name": "Python 3 (ipykernel)",
   "language": "python",
   "name": "python3"
  },
  "language_info": {
   "codemirror_mode": {
    "name": "ipython",
    "version": 3
   },
   "file_extension": ".py",
   "mimetype": "text/x-python",
   "name": "python",
   "nbconvert_exporter": "python",
   "pygments_lexer": "ipython3",
   "version": "3.9.12"
  }
 },
 "nbformat": 4,
 "nbformat_minor": 5
}
