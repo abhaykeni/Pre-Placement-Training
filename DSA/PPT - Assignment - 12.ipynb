{
 "cells": [
  {
   "cell_type": "markdown",
   "id": "fbe18ed8",
   "metadata": {},
   "source": [
    "💡 **Question 1**\n",
    "\n",
    "Given a singly linked list, delete **middle** of the linked list. For example, if given linked list is 1->2->**3**->4->5 then linked list should be modified to 1->2->4->5.If there are **even** nodes, then there would be **two middle** nodes, we need to delete the second middle element. For example, if given linked list is 1->2->3->4->5->6 then it should be modified to 1->2->3->5->6.If the input linked list is NULL or has 1 node, then it should return NULL\n",
    "\n",
    "</aside>"
   ]
  },
  {
   "cell_type": "code",
   "execution_count": 1,
   "id": "d5c095e5",
   "metadata": {},
   "outputs": [],
   "source": [
    "class Node:\n",
    "      \n",
    "    def __init__(self):\n",
    "          \n",
    "        self.data = 0\n",
    "        self.next = None\n",
    "\n",
    "def countOfNodes(head):\n",
    "  \n",
    "    count = 0\n",
    "      \n",
    "    while (head != None):\n",
    "        head = head.next\n",
    "        count += 1\n",
    "      \n",
    "    return count\n",
    "  \n",
    "def deleteMid(head):\n",
    "  \n",
    "    # Base cases\n",
    "    if (head == None):\n",
    "        return None\n",
    "    if (head.next == None):\n",
    "        del head\n",
    "        return None\n",
    "  \n",
    "    copyHead = head\n",
    "   \n",
    "    count = countOfNodes(head)\n",
    "   \n",
    "    mid = count // 2\n",
    "   \n",
    "    while (mid > 1):\n",
    "        mid -= 1\n",
    "        head = head.next\n",
    "   \n",
    "    head.next = head.next.next\n",
    "   \n",
    "    return copyHead\n",
    "  \n",
    "def printList(ptr):\n",
    "  \n",
    "    while (ptr != None):\n",
    "        print(ptr.data, end = '->')\n",
    "        ptr = ptr.next\n",
    "      \n",
    "    print('NULL')\n",
    "      \n",
    "def newNode(data):\n",
    "  \n",
    "    temp = Node()\n",
    "    temp.data = data\n",
    "    temp.next = None\n",
    "    return temp"
   ]
  },
  {
   "cell_type": "code",
   "execution_count": 2,
   "id": "dba9fcef",
   "metadata": {},
   "outputs": [
    {
     "name": "stdout",
     "output_type": "stream",
     "text": [
      "Given Linked List\n",
      "1->2->3->4->NULL\n",
      "Linked List after deletion of middle\n",
      "1->2->4->NULL\n"
     ]
    }
   ],
   "source": [
    "head = newNode(1)\n",
    "head.next = newNode(2)\n",
    "head.next.next = newNode(3)\n",
    "head.next.next.next = newNode(4)\n",
    "   \n",
    "print(\"Given Linked List\")\n",
    "printList(head)\n",
    "   \n",
    "head = deleteMid(head)\n",
    "   \n",
    "print(\"Linked List after deletion of middle\")\n",
    "printList(head)"
   ]
  },
  {
   "cell_type": "markdown",
   "id": "88b8cf6e",
   "metadata": {},
   "source": [
    "💡 **Question 2**\n",
    "\n",
    "Given a linked list of **N** nodes. The task is to check if the linked list has a loop. Linked list can contain self loop.\n",
    "\n",
    "</aside>"
   ]
  },
  {
   "cell_type": "code",
   "execution_count": 4,
   "id": "98867015",
   "metadata": {},
   "outputs": [],
   "source": [
    "class Node:\n",
    "    def __init__(self, data):\n",
    "        self.data = data\n",
    "        self.next = None\n",
    " \n",
    " \n",
    "class LinkedList:\n",
    "    def __init__(self):\n",
    "        self.head = None\n",
    " \n",
    "    def push(self, new_data):\n",
    "        new_node = Node(new_data)\n",
    "        new_node.next = self.head\n",
    "        self.head = new_node\n",
    " \n",
    "    def printList(self):\n",
    "        temp = self.head\n",
    "        while(temp):\n",
    "            print(temp.data, end=\" \")\n",
    "            temp = temp.next\n",
    " \n",
    "    def detectLoop(self):\n",
    "        s = set()\n",
    "        temp = self.head\n",
    "        while (temp):\n",
    " \n",
    "            if (temp in s):\n",
    "                return True\n",
    " \n",
    "            s.add(temp)\n",
    " \n",
    "            temp = temp.next\n",
    " \n",
    "        return False\n",
    " "
   ]
  },
  {
   "cell_type": "code",
   "execution_count": 5,
   "id": "c66e1d33",
   "metadata": {},
   "outputs": [
    {
     "name": "stdout",
     "output_type": "stream",
     "text": [
      "Loop Found\n"
     ]
    }
   ],
   "source": [
    "llist = LinkedList()\n",
    "llist.push(20)\n",
    "llist.push(4)\n",
    "llist.push(15)\n",
    "llist.push(10)\n",
    "\n",
    "llist.head.next.next.next.next = llist.head\n",
    " \n",
    "if(llist.detectLoop()):\n",
    "    print(\"Loop Found\")\n",
    "else:\n",
    "    print(\"No Loop \")"
   ]
  },
  {
   "cell_type": "markdown",
   "id": "e66e9303",
   "metadata": {},
   "source": [
    "💡 **Question 3**\n",
    "\n",
    "Given a linked list consisting of **L** nodes and given a number **N**. The task is to find the **N**th node from the end of the linked list.\n",
    "\n",
    "</aside>"
   ]
  },
  {
   "cell_type": "code",
   "execution_count": 6,
   "id": "efadff58",
   "metadata": {},
   "outputs": [],
   "source": [
    "class Node:\n",
    "    def __init__(self, new_data):\n",
    "        self.data = new_data\n",
    "        self.next = None\n",
    " \n",
    " \n",
    "class LinkedList:\n",
    "    def __init__(self):\n",
    "        self.head = None\n",
    " \n",
    "    def push(self, new_data):\n",
    "        new_node = Node(new_data)\n",
    "        new_node.next = self.head\n",
    "        self.head = new_node\n",
    "\n",
    "    def printNthFromLast(self, n):\n",
    "        temp = self.head \n",
    " \n",
    "        length = 0\n",
    "        while temp is not None:\n",
    "            temp = temp.next\n",
    "            length += 1\n",
    "\n",
    "        if n > length:  \n",
    "            print('Location is greater than the' +\n",
    "                  ' length of LinkedList')\n",
    "            return\n",
    "        temp = self.head\n",
    "        for i in range(0, length - n):\n",
    "            temp = temp.next\n",
    "        print(temp.data)"
   ]
  },
  {
   "cell_type": "code",
   "execution_count": 12,
   "id": "f08ac950",
   "metadata": {},
   "outputs": [
    {
     "name": "stdout",
     "output_type": "stream",
     "text": [
      "4\n"
     ]
    }
   ],
   "source": [
    "llist = LinkedList()\n",
    "llist.push(20)\n",
    "llist.push(4)\n",
    "llist.push(15)\n",
    "llist.push(35)\n",
    " \n",
    "llist.printNthFromLast(2)"
   ]
  },
  {
   "cell_type": "markdown",
   "id": "591abc5e",
   "metadata": {},
   "source": [
    "💡 **Question 4**\n",
    "\n",
    "Given a singly linked list of characters, write a function that returns true if the given list is a palindrome, else false.\n",
    "\n",
    "</aside>"
   ]
  },
  {
   "cell_type": "code",
   "execution_count": 19,
   "id": "29b1fa61",
   "metadata": {},
   "outputs": [],
   "source": [
    "class Node:\n",
    "    def __init__(self,new_data):\n",
    "        self.data = new_data\n",
    "        self.next = None\n",
    "\n",
    "class LinkedList:\n",
    "    def __init__(self):\n",
    "        self.head = None\n",
    "    \n",
    "    def push(self,new_data):\n",
    "        new_node = Node(new_data)\n",
    "        new_node.next = self.head\n",
    "        self.head = new_node\n",
    "    \n",
    "    def checkPalindrome(self):\n",
    "        temp = self.head\n",
    "        string = \"\"\n",
    "        while temp is not None:\n",
    "            string = string + temp.data\n",
    "            temp = temp.next\n",
    "        \n",
    "        rev = string[::-1]\n",
    "        if string == rev:\n",
    "            return True\n",
    "        else:\n",
    "            return False     "
   ]
  },
  {
   "cell_type": "code",
   "execution_count": 20,
   "id": "5501ac0e",
   "metadata": {},
   "outputs": [
    {
     "data": {
      "text/plain": [
       "True"
      ]
     },
     "execution_count": 20,
     "metadata": {},
     "output_type": "execute_result"
    }
   ],
   "source": [
    "llist = LinkedList()\n",
    "llist.push('a')\n",
    "llist.push('b')\n",
    "llist.push('b')\n",
    "llist.push('a')\n",
    "\n",
    "llist.checkPalindrome()"
   ]
  },
  {
   "cell_type": "markdown",
   "id": "a8fc531b",
   "metadata": {},
   "source": [
    "💡 **Question 5**\n",
    "\n",
    "Given a linked list of **N** nodes such that it may contain a loop.\n",
    "\n",
    "A loop here means that the last node of the link list is connected to the node at position X(1-based index). If the link list does not have any loop, X=0.\n",
    "\n",
    "Remove the loop from the linked list, if it is present, i.e. unlink the last node which is forming the loop.\n",
    "\n",
    "</aside>"
   ]
  },
  {
   "cell_type": "code",
   "execution_count": 34,
   "id": "74c226dc",
   "metadata": {},
   "outputs": [],
   "source": [
    "class Node:\n",
    "    def __init__(self, data):\n",
    "        self.data = data\n",
    "        self.next = None\n",
    "        \n",
    "class LinkedList:\n",
    "    def __init__(self):\n",
    "        self.head = None\n",
    " \n",
    "    def detectAndRemoveLoop(self):\n",
    "        slow_p = fast_p = self.head\n",
    "         \n",
    "        while(slow_p and fast_p and fast_p.next):\n",
    "            slow_p = slow_p.next\n",
    "            fast_p = fast_p.next.next\n",
    " \n",
    "            if slow_p == fast_p:\n",
    "                self.removeLoop(slow_p)\n",
    "         \n",
    "                return 1\n",
    "         \n",
    "        return 0\n",
    " \n",
    "    def removeLoop(self, loop_node):\n",
    "        ptr1 = loop_node\n",
    "        ptr2 = loop_node\n",
    "         \n",
    "        k = 1\n",
    "        while(ptr1.next != ptr2):\n",
    "            ptr1 = ptr1.next\n",
    "            k += 1\n",
    " \n",
    "        ptr1 = self.head\n",
    "        ptr2 = self.head\n",
    "        for i in range(k):\n",
    "            ptr2 = ptr2.next\n",
    " \n",
    "        while(ptr2 != ptr1):\n",
    "            ptr1 = ptr1.next\n",
    "            ptr2 = ptr2.next\n",
    " \n",
    "        while(ptr2.next != ptr1):\n",
    "            ptr2 = ptr2.next\n",
    " \n",
    "        ptr2.next = None\n",
    " \n",
    "    def push(self, new_data):\n",
    "        new_node = Node(new_data)\n",
    "        new_node.next = self.head\n",
    "        self.head = new_node\n",
    " \n",
    "    def printList(self):\n",
    "        temp = self.head\n",
    "        while(temp):\n",
    "            print(temp.data, end = ' ')\n",
    "            temp = temp.next"
   ]
  },
  {
   "cell_type": "code",
   "execution_count": 36,
   "id": "aa508e9e",
   "metadata": {},
   "outputs": [
    {
     "name": "stdout",
     "output_type": "stream",
     "text": [
      "Linked List after removing loop\n",
      "50 20 15 4 10 "
     ]
    }
   ],
   "source": [
    "llist = LinkedList()\n",
    "llist.push(10)\n",
    "llist.push(4)\n",
    "llist.push(15)\n",
    "llist.push(20)\n",
    "llist.push(50)\n",
    " \n",
    "llist.head.next.next.next.next.next = llist.head.next.next\n",
    " \n",
    "llist.detectAndRemoveLoop()\n",
    " \n",
    "print(\"Linked List after removing loop\")\n",
    "llist.printList()"
   ]
  },
  {
   "cell_type": "markdown",
   "id": "dccfd094",
   "metadata": {},
   "source": [
    "💡 **Question 6**\n",
    "\n",
    "Given a linked list and two integers M and N. Traverse the linked list such that you retain M nodes then delete next N nodes, continue the same till end of the linked list.\n",
    "\n",
    "</aside>"
   ]
  },
  {
   "cell_type": "code",
   "execution_count": 24,
   "id": "9a510b10",
   "metadata": {},
   "outputs": [],
   "source": [
    "class Node:\n",
    "    def __init__(self,new_data):\n",
    "        self.data = new_data\n",
    "        self.next = None\n",
    "        \n",
    "class LinkedList:\n",
    "    def __init__(self):\n",
    "        self.head = None\n",
    "    \n",
    "    def push(self,new_data):\n",
    "        new_node = Node(new_data)\n",
    "        new_node.next = self.head\n",
    "        self.head = new_node\n",
    "    \n",
    "    def printList(self):\n",
    "        temp = self.head\n",
    "        while(temp):\n",
    "            print(temp.data,end=\" \")\n",
    "            temp = temp.next\n",
    "            \n",
    "    def skipMdeleteN(self, M, N):\n",
    "        curr = self.head\n",
    "        while(curr):\n",
    "            for count in range(1, M):\n",
    "                if curr is None:\n",
    "                    return \n",
    "                curr = curr.next\n",
    "\n",
    "                if curr is None :\n",
    "                    return \n",
    "\n",
    "                t = curr.next \n",
    "                for count in range(1, N+1):\n",
    "                    if t is None:\n",
    "                        break\n",
    "                    t = t.next\n",
    "\n",
    "                curr.next = t\n",
    "                curr = t "
   ]
  },
  {
   "cell_type": "code",
   "execution_count": 25,
   "id": "48a38e21",
   "metadata": {},
   "outputs": [
    {
     "name": "stdout",
     "output_type": "stream",
     "text": [
      "M = 2, N = 3\n",
      "Given Linked List is:\n",
      "1 2 3 4 5 6 7 8 9 10 \n",
      "\n",
      "Linked list after deletion is\n",
      "1 2 6 7 "
     ]
    }
   ],
   "source": [
    "llist = LinkedList()\n",
    "M = 2 \n",
    "N = 3\n",
    "llist.push(10)\n",
    "llist.push(9)\n",
    "llist.push(8)\n",
    "llist.push(7)\n",
    "llist.push(6)\n",
    "llist.push(5)\n",
    "llist.push(4)\n",
    "llist.push(3)\n",
    "llist.push(2)\n",
    "llist.push(1)\n",
    "  \n",
    "print (\"M = %d, N = %d\\nGiven Linked List is:\" %(M, N))\n",
    "llist.printList()\n",
    "print()\n",
    "  \n",
    "llist.skipMdeleteN(M, N)\n",
    "  \n",
    "print (\"\\nLinked list after deletion is\")\n",
    "llist.printList()"
   ]
  },
  {
   "cell_type": "markdown",
   "id": "73d74fb6",
   "metadata": {},
   "source": [
    "💡 **Question 7**\n",
    "\n",
    "Given two linked lists, insert nodes of second list into first list at alternate positions of first list.\n",
    "For example, if first list is 5->7->17->13->11 and second is 12->10->2->4->6, the first list should become 5->12->7->10->17->2->13->4->11->6 and second list should become empty. The nodes of second list should only be inserted when there are positions available. For example, if the first list is 1->2->3 and second list is 4->5->6->7->8, then first list should become 1->4->2->5->3->6 and second list to 7->8.\n",
    "\n",
    "Use of extra space is not allowed (Not allowed to create additional nodes), i.e., insertion must be done in-place. Expected time complexity is O(n) where n is number of nodes in first list.\n",
    "\n",
    "</aside>"
   ]
  },
  {
   "cell_type": "code",
   "execution_count": 37,
   "id": "d8394343",
   "metadata": {},
   "outputs": [],
   "source": [
    "class Node(object):\n",
    "    def __init__(self, data:int):\n",
    "        self.data = data\n",
    "        self.next = None\n",
    "  \n",
    "  \n",
    "class LinkedList(object):\n",
    "    def __init__(self):\n",
    "        self.head = None\n",
    "          \n",
    "    def push(self, new_data:int):\n",
    "        new_node = Node(new_data)\n",
    "        new_node.next = self.head\n",
    "        self.head = new_node\n",
    "        \n",
    "    def printList(self):\n",
    "        temp = self.head\n",
    "        while temp != None:\n",
    "            print(temp.data)\n",
    "            temp = temp.next\n",
    "   \n",
    "    def merge(self, p, q):\n",
    "        p_curr = p.head\n",
    "        q_curr = q.head\n",
    "  \n",
    "        while p_curr != None and q_curr != None:\n",
    "            p_next = p_curr.next\n",
    "            q_next = q_curr.next\n",
    "  \n",
    "            q_curr.next = p_next  \n",
    "            p_curr.next = q_curr  \n",
    "  \n",
    "            p_curr = p_next\n",
    "            q_curr = q_next\n",
    "            q.head = q_curr"
   ]
  },
  {
   "cell_type": "code",
   "execution_count": 38,
   "id": "dc156b56",
   "metadata": {},
   "outputs": [
    {
     "name": "stdout",
     "output_type": "stream",
     "text": [
      "First Linked List:\n",
      "0\n",
      "1\n",
      "2\n",
      "3\n",
      "Second Linked List:\n",
      "4\n",
      "5\n",
      "6\n",
      "7\n",
      "8\n",
      "Modified first linked list:\n",
      "0\n",
      "4\n",
      "1\n",
      "5\n",
      "2\n",
      "6\n",
      "3\n",
      "7\n",
      "Modified second linked list:\n",
      "8\n"
     ]
    }
   ],
   "source": [
    "llist1 = LinkedList()\n",
    "llist2 = LinkedList()\n",
    "  \n",
    "llist1.push(3)\n",
    "llist1.push(2)\n",
    "llist1.push(1)\n",
    "llist1.push(0)\n",
    "\n",
    "for i in range(8, 3, -1):\n",
    "    llist2.push(i)\n",
    "  \n",
    "print(\"First Linked List:\")\n",
    "llist1.printList()\n",
    "  \n",
    "print(\"Second Linked List:\")\n",
    "llist2.printList()\n",
    "  \n",
    "llist1.merge(p=llist1, q=llist2)\n",
    "  \n",
    "print(\"Modified first linked list:\")\n",
    "llist1.printList()\n",
    "  \n",
    "print(\"Modified second linked list:\")\n",
    "llist2.printList()"
   ]
  },
  {
   "cell_type": "markdown",
   "id": "5fc6f03a",
   "metadata": {},
   "source": [
    "💡 **Question 8**\n",
    "\n",
    "Given a singly linked list, find if the linked list is [circular](https://www.geeksforgeeks.org/circular-linked-list/amp/) or not.\n",
    "\n",
    "> A linked list is called circular if it is not NULL-terminated and all nodes are connected in the form of a cycle. Below is an example of a circular linked list.\n",
    "> \n",
    "</aside>"
   ]
  },
  {
   "cell_type": "code",
   "execution_count": 26,
   "id": "41fa9921",
   "metadata": {},
   "outputs": [],
   "source": [
    "class Node:\n",
    "  \n",
    "    def __init__(self, data):\n",
    "        self.data = data  \n",
    "        self.next = None  \n",
    "        \n",
    "class LinkedList:\n",
    "  \n",
    "    def __init__(self):\n",
    "        self.head = None\n",
    "  \n",
    "  \n",
    "def Circular(head):\n",
    "    if head == None:\n",
    "        return True\n",
    "  \n",
    "    node = head.next\n",
    "    i = 0\n",
    "    while((node is not None) and (node is not head)):\n",
    "        i = i + 1\n",
    "        node = node.next\n",
    "    return(node == head)"
   ]
  },
  {
   "cell_type": "code",
   "execution_count": 32,
   "id": "11acf86c",
   "metadata": {},
   "outputs": [
    {
     "name": "stdout",
     "output_type": "stream",
     "text": [
      "False\n"
     ]
    }
   ],
   "source": [
    "llist = LinkedList()\n",
    "llist.head = Node(1)\n",
    "second = Node(2)\n",
    "third = Node(3)\n",
    "fourth = Node(4)\n",
    "  \n",
    "llist.head.next = second\n",
    "second.next = third\n",
    "third.next = fourth\n",
    "\n",
    "if (Circular(llist.head)):\n",
    "    print('True')\n",
    "else:\n",
    "    print('False')"
   ]
  },
  {
   "cell_type": "code",
   "execution_count": 33,
   "id": "abebb67b",
   "metadata": {},
   "outputs": [
    {
     "name": "stdout",
     "output_type": "stream",
     "text": [
      "True\n"
     ]
    }
   ],
   "source": [
    "llist = LinkedList()\n",
    "llist.head = Node(1)\n",
    "second = Node(2)\n",
    "third = Node(3)\n",
    "fourth = Node(4)\n",
    "  \n",
    "llist.head.next = second\n",
    "second.next = third\n",
    "third.next = fourth\n",
    "\n",
    "fourth.next = llist.head\n",
    "\n",
    "if (Circular(llist.head)):\n",
    "    print('True')\n",
    "else:\n",
    "    print('False')"
   ]
  },
  {
   "cell_type": "code",
   "execution_count": null,
   "id": "7df98141",
   "metadata": {},
   "outputs": [],
   "source": []
  }
 ],
 "metadata": {
  "kernelspec": {
   "display_name": "Python 3 (ipykernel)",
   "language": "python",
   "name": "python3"
  },
  "language_info": {
   "codemirror_mode": {
    "name": "ipython",
    "version": 3
   },
   "file_extension": ".py",
   "mimetype": "text/x-python",
   "name": "python",
   "nbconvert_exporter": "python",
   "pygments_lexer": "ipython3",
   "version": "3.9.12"
  }
 },
 "nbformat": 4,
 "nbformat_minor": 5
}
