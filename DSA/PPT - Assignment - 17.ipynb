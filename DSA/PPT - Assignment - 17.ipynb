{
 "cells": [
  {
   "cell_type": "markdown",
   "id": "2ad2cdb0",
   "metadata": {},
   "source": [
    "💡 **Question 1**\n",
    "\n",
    "Given a string `s`, *find the first non-repeating character in it and return its index*. If it does not exist, return `-1`.\n",
    "\n",
    "</aside>"
   ]
  },
  {
   "cell_type": "code",
   "execution_count": 1,
   "id": "50e3ad3b",
   "metadata": {},
   "outputs": [
    {
     "name": "stdout",
     "output_type": "stream",
     "text": [
      "0\n"
     ]
    }
   ],
   "source": [
    "def first_non_repeating_char(s):\n",
    "    char_freq = {}  \n",
    "\n",
    "   \n",
    "    for char in s:\n",
    "        char_freq[char] = char_freq.get(char, 0) + 1\n",
    "\n",
    "   \n",
    "    for i, char in enumerate(s):\n",
    "        if char_freq[char] == 1:\n",
    "            return i\n",
    "\n",
    "    return -1  \n",
    "\n",
    "\n",
    "s = \"leetcode\"\n",
    "result = first_non_repeating_char(s)\n",
    "print(result) "
   ]
  },
  {
   "cell_type": "markdown",
   "id": "33ea9077",
   "metadata": {},
   "source": [
    "💡 **Question 2**\n",
    "\n",
    "Given a **circular integer array** `nums` of length `n`, return *the maximum possible sum of a non-empty **subarray** of* `nums`.\n",
    "\n",
    "A **circular array** means the end of the array connects to the beginning of the array. Formally, the next element of `nums[i]` is `nums[(i + 1) % n]` and the previous element of `nums[i]` is `nums[(i - 1 + n) % n]`.\n",
    "\n",
    "A **subarray** may only include each element of the fixed buffer `nums` at most once. Formally, for a subarray `nums[i], nums[i + 1], ..., nums[j]`, there does not exist `i <= k1`, `k2 <= j` with `k1 % n == k2 % n`.\n",
    "\n",
    "</aside>"
   ]
  },
  {
   "cell_type": "code",
   "execution_count": 1,
   "id": "d30f3ffb",
   "metadata": {},
   "outputs": [],
   "source": [
    "def maxCircularSum(a, n):\n",
    "    if (n == 1):\n",
    "        return a[0]\n",
    " \n",
    "    sum = 0\n",
    "    for i in range(n):\n",
    "        sum += a[i]\n",
    " \n",
    "    curr_max = a[0]\n",
    "    max_so_far = a[0]\n",
    "    curr_min = a[0]\n",
    "    min_so_far = a[0]\n",
    " \n",
    "    for i in range(1, n):\n",
    "        curr_max = max(curr_max + a[i], a[i])\n",
    "        max_so_far = max(max_so_far, curr_max)\n",
    " \n",
    "        curr_min = min(curr_min + a[i], a[i])\n",
    "        min_so_far = min(min_so_far, curr_min)\n",
    "    if (min_so_far == sum):\n",
    "        return max_so_far\n",
    " \n",
    "    return max(max_so_far, sum - min_so_far)"
   ]
  },
  {
   "cell_type": "code",
   "execution_count": 2,
   "id": "2778d171",
   "metadata": {},
   "outputs": [
    {
     "name": "stdout",
     "output_type": "stream",
     "text": [
      "Maximum circular sum is 31\n"
     ]
    }
   ],
   "source": [
    "a = [11, 10, -20, 5, -3, -5, 8, -13, 10]\n",
    "n = len(a)\n",
    "print(\"Maximum circular sum is\", maxCircularSum(a, n))"
   ]
  },
  {
   "cell_type": "markdown",
   "id": "5f3bd8d8",
   "metadata": {},
   "source": [
    "💡 **Question 3**\n",
    "\n",
    "The school cafeteria offers circular and square sandwiches at lunch break, referred to by numbers `0` and `1` respectively. All students stand in a queue. Each student either prefers square or circular sandwiches.\n",
    "\n",
    "The number of sandwiches in the cafeteria is equal to the number of students. The sandwiches are placed in a **stack**. At each step:\n",
    "\n",
    "- If the student at the front of the queue **prefers** the sandwich on the top of the stack, they will **take it** and leave the queue.\n",
    "- Otherwise, they will **leave it** and go to the queue's end.\n",
    "\n",
    "This continues until none of the queue students want to take the top sandwich and are thus unable to eat.\n",
    "\n",
    "You are given two integer arrays `students` and `sandwiches` where `sandwiches[i]` is the type of the `ith` sandwich in the stack (`i = 0` is the top of the stack) and `students[j]` is the preference of the `jth` student in the initial queue (`j = 0` is the front of the queue). Return *the number of students that are unable to eat.*\n",
    "\n",
    "</aside>"
   ]
  },
  {
   "cell_type": "code",
   "execution_count": 4,
   "id": "3ce0adf4",
   "metadata": {},
   "outputs": [],
   "source": [
    "def count_students_unable_to_eat(students, sandwiches):\n",
    "    count = 0  # Count of students unable to eat\n",
    "    n = len(students)  # Number of students\n",
    "\n",
    "    while count < n:\n",
    "        if students[0] == sandwiches[0]:\n",
    "            students.pop(0)  # Student takes the sandwich\n",
    "            sandwiches.pop(0)  # Sandwich is removed from the stack\n",
    "            count = 0  # Reset count since a student took a sandwich\n",
    "        else:\n",
    "            students.append(students.pop(0))  # Student goes to the end of the queue\n",
    "            count += 1  # Increment count since a student couldn't take a sandwich\n",
    "\n",
    "        if count == n:\n",
    "            break  # All students have been unable to eat\n",
    "\n",
    "    return count\n",
    "\n"
   ]
  },
  {
   "cell_type": "markdown",
   "id": "de35e10b",
   "metadata": {},
   "source": [
    "💡 **Question 4**\n",
    "\n",
    "You have a `RecentCounter` class which counts the number of recent requests within a certain time frame.\n",
    "\n",
    "Implement the `RecentCounter` class:\n",
    "\n",
    "- `RecentCounter()` Initializes the counter with zero recent requests.\n",
    "- `int ping(int t)` Adds a new request at time `t`, where `t` represents some time in milliseconds, and returns the number of requests that has happened in the past `3000` milliseconds (including the new request). Specifically, return the number of requests that have happened in the inclusive range `[t - 3000, t]`.\n",
    "\n",
    "It is **guaranteed** that every call to `ping` uses a strictly larger value of `t` than the previous call.\n",
    "\n",
    "</aside>"
   ]
  },
  {
   "cell_type": "code",
   "execution_count": 5,
   "id": "4185b178",
   "metadata": {},
   "outputs": [],
   "source": [
    "class RecentCounter:\n",
    "    def __init__(self):\n",
    "        self.requests = []\n",
    "\n",
    "    def ping(self, t: int) -> int:\n",
    "        self.requests.append(t)\n",
    "        while self.requests[0] < t - 3000:\n",
    "            self.requests.pop(0)\n",
    "        return len(self.requests)"
   ]
  },
  {
   "cell_type": "markdown",
   "id": "55fcd811",
   "metadata": {},
   "source": [
    "💡 **Question 5**\n",
    "\n",
    "There are `n` friends that are playing a game. The friends are sitting in a circle and are numbered from `1` to `n` in **clockwise order**. More formally, moving clockwise from the `ith` friend brings you to the `(i+1)th` friend for `1 <= i < n`, and moving clockwise from the `nth` friend brings you to the `1st` friend.\n",
    "\n",
    "The rules of the game are as follows:\n",
    "\n",
    "1. **Start** at the `1st` friend.\n",
    "2. Count the next `k` friends in the clockwise direction **including** the friend you started at. The counting wraps around the circle and may count some friends more than once.\n",
    "3. The last friend you counted leaves the circle and loses the game.\n",
    "4. If there is still more than one friend in the circle, go back to step `2` **starting** from the friend **immediately clockwise** of the friend who just lost and repeat.\n",
    "5. Else, the last friend in the circle wins the game.\n",
    "\n",
    "Given the number of friends, `n`, and an integer `k`, return *the winner of the game*.\n",
    "\n",
    "</aside>"
   ]
  },
  {
   "cell_type": "code",
   "execution_count": 6,
   "id": "64cb0081",
   "metadata": {},
   "outputs": [
    {
     "name": "stdout",
     "output_type": "stream",
     "text": [
      "3\n"
     ]
    }
   ],
   "source": [
    "def find_winner(n, k):\n",
    "    circle = list(range(1, n + 1))  \n",
    "\n",
    "    current = 0  \n",
    "    while len(circle) > 1:\n",
    "        current = (current + k - 1) % len(circle)  \n",
    "        circle.pop(current) \n",
    "       \n",
    "\n",
    "    return circle[0]  \n",
    "\n",
    "n = 5  \n",
    "k = 2  \n",
    "winner = find_winner(n, k)\n",
    "print(winner) "
   ]
  },
  {
   "cell_type": "markdown",
   "id": "e45a3f8f",
   "metadata": {},
   "source": [
    "💡 **Question 6**\n",
    "\n",
    "You are given an integer array `deck`. There is a deck of cards where every card has a unique integer. The integer on the `ith` card is `deck[i]`.\n",
    "\n",
    "You can order the deck in any order you want. Initially, all the cards start face down (unrevealed) in one deck.\n",
    "\n",
    "You will do the following steps repeatedly until all cards are revealed:\n",
    "\n",
    "1. Take the top card of the deck, reveal it, and take it out of the deck.\n",
    "2. If there are still cards in the deck then put the next top card of the deck at the bottom of the deck.\n",
    "3. If there are still unrevealed cards, go back to step 1. Otherwise, stop.\n",
    "\n",
    "Return *an ordering of the deck that would reveal the cards in increasing order*.\n",
    "\n",
    "**Note** that the first entry in the answer is considered to be the top of the deck.\n",
    "\n",
    "</aside>"
   ]
  },
  {
   "cell_type": "code",
   "execution_count": 7,
   "id": "5d2a76c0",
   "metadata": {},
   "outputs": [
    {
     "name": "stdout",
     "output_type": "stream",
     "text": [
      "[17, 11, 5, 2, 7, 13, 3]\n"
     ]
    }
   ],
   "source": [
    "def reveal_cards_increasing_order(deck):\n",
    "    deck.sort(reverse=True)  \n",
    "    result = []\n",
    "\n",
    "    while deck:\n",
    "        result.append(deck.pop(0))  \n",
    "\n",
    "        if deck:  \n",
    "            deck.append(deck.pop(0))  \n",
    "\n",
    "    return result\n",
    "\n",
    "deck = [17, 13, 11, 2, 3, 5, 7]\n",
    "result = reveal_cards_increasing_order(deck)\n",
    "print(result) "
   ]
  },
  {
   "cell_type": "markdown",
   "id": "6639fdcc",
   "metadata": {},
   "source": [
    "💡 **Question 7**\n",
    "\n",
    "Design a queue that supports `push` and `pop` operations in the front, middle, and back.\n",
    "\n",
    "Implement the `FrontMiddleBack` class:\n",
    "\n",
    "- `FrontMiddleBack()` Initializes the queue.\n",
    "- `void pushFront(int val)` Adds `val` to the **front** of the queue.\n",
    "- `void pushMiddle(int val)` Adds `val` to the **middle** of the queue.\n",
    "- `void pushBack(int val)` Adds `val` to the **back** of the queue.\n",
    "- `int popFront()` Removes the **front** element of the queue and returns it. If the queue is empty, return `1`.\n",
    "- `int popMiddle()` Removes the **middle** element of the queue and returns it. If the queue is empty, return `1`.\n",
    "- `int popBack()` Removes the **back** element of the queue and returns it. If the queue is empty, return `1`.\n",
    "\n",
    "**Notice** that when there are **two** middle position choices, the operation is performed on the **frontmost** middle position choice. For example:\n",
    "\n",
    "- Pushing `6` into the middle of `[1, 2, 3, 4, 5]` results in `[1, 2, 6, 3, 4, 5]`.\n",
    "- Popping the middle from `[1, 2, 3, 4, 5, 6]` returns `3` and results in `[1, 2, 4, 5, 6]`.\n",
    "</aside>"
   ]
  },
  {
   "cell_type": "code",
   "execution_count": 8,
   "id": "fa4964a7",
   "metadata": {},
   "outputs": [],
   "source": [
    "class Node:\n",
    "    def __init__(self, val):\n",
    "        self.val = val\n",
    "        self.prev = None\n",
    "        self.next = None\n",
    "\n",
    "\n",
    "class FrontMiddleBack:\n",
    "    def __init__(self):\n",
    "        self.head = None\n",
    "        self.middle = None\n",
    "        self.size = 0\n",
    "\n",
    "    def pushFront(self, val: int) -> None:\n",
    "        new_node = Node(val)\n",
    "        if self.head is None:\n",
    "            self.head = new_node\n",
    "            self.middle = new_node\n",
    "        else:\n",
    "            new_node.next = self.head\n",
    "            self.head.prev = new_node\n",
    "            self.head = new_node\n",
    "            if self.size % 2 == 0:\n",
    "                self.middle = self.middle.prev\n",
    "        self.size += 1\n",
    "\n",
    "    def pushMiddle(self, val: int) -> None:\n",
    "        if self.size == 0:\n",
    "            self.pushFront(val)\n",
    "        else:\n",
    "            new_node = Node(val)\n",
    "            if self.size % 2 == 0:\n",
    "                self.middle.next.prev = new_node\n",
    "                new_node.next = self.middle.next\n",
    "                self.middle.next = new_node\n",
    "                new_node.prev = self.middle\n",
    "            else:\n",
    "                self.middle.prev.next = new_node\n",
    "                new_node.prev = self.middle.prev\n",
    "                self.middle.prev = new_node\n",
    "                new_node.next = self.middle\n",
    "                self.middle = new_node\n",
    "            self.size += 1\n",
    "\n",
    "    def pushBack(self, val: int) -> None:\n",
    "        if self.size == 0:\n",
    "            self.pushFront(val)\n",
    "        else:\n",
    "            new_node = Node(val)\n",
    "            current = self.head\n",
    "            while current.next:\n",
    "                current = current.next\n",
    "            current.next = new_node\n",
    "            new_node.prev = current\n",
    "            if self.size % 2 != 0:\n",
    "                self.middle = self.middle.next\n",
    "            self.size += 1\n",
    "\n",
    "    def popFront(self) -> int:\n",
    "        if self.size == 0:\n",
    "            return -1\n",
    "        val = self.head.val\n",
    "        if self.size == 1:\n",
    "            self.head = None\n",
    "            self.middle = None\n",
    "        else:\n",
    "            self.head = self.head.next\n",
    "            self.head.prev = None\n",
    "            if self.size % 2 == 0:\n",
    "                self.middle = self.middle.next\n",
    "        self.size -= 1\n",
    "        return val\n",
    "\n",
    "    def popMiddle(self) -> int:\n",
    "        if self.size == 0:\n",
    "            return -1\n",
    "        val = self.middle.val\n",
    "        if self.size == 1:\n",
    "            self.head = None\n",
    "            self.middle = None\n",
    "        elif self.size % 2 == 0:\n",
    "            self.middle.prev.next = self.middle.next\n",
    "            self.middle.next.prev = self.middle.prev\n",
    "            self.middle = self.middle.next\n",
    "        else:\n",
    "            self.middle.prev.next = self.middle.next\n",
    "            self.middle.next.prev = self.middle.prev\n",
    "            self.middle = self.middle.prev\n",
    "        self.size -= 1\n",
    "        return val\n",
    "\n",
    "    def popBack(self) -> int:\n",
    "        if self.size == 0:\n",
    "            return -1\n",
    "        if self.size == 1:\n",
    "            val = self.head.val\n",
    "            self.head = None\n",
    "            self.middle = None\n",
    "            self.size = 0\n",
    "            return val\n",
    "        current = self.head\n",
    "        while current.next.next:\n",
    "            current = current.next\n",
    "        val = current.next.val\n",
    "        current.next = None\n",
    "        if self.size % 2 == 0:\n",
    "            self.middle = self.middle.prev\n",
    "        self.size -= 1\n",
    "        return val"
   ]
  },
  {
   "cell_type": "markdown",
   "id": "9331dd4a",
   "metadata": {},
   "source": [
    "💡 **Question 8**\n",
    "\n",
    "For a stream of integers, implement a data structure that checks if the last `k` integers parsed in the stream are **equal** to `value`.\n",
    "\n",
    "Implement the **DataStream** class:\n",
    "\n",
    "- `DataStream(int value, int k)` Initializes the object with an empty integer stream and the two integers `value` and `k`.\n",
    "- `boolean consec(int num)` Adds `num` to the stream of integers. Returns `true` if the last `k` integers are equal to `value`, and `false` otherwise. If there are less than `k` integers, the condition does not hold true, so returns `false`.\n",
    "</aside>"
   ]
  },
  {
   "cell_type": "code",
   "execution_count": 11,
   "id": "d261fabb",
   "metadata": {},
   "outputs": [
    {
     "name": "stdout",
     "output_type": "stream",
     "text": [
      "False\n",
      "False\n",
      "False\n",
      "True\n",
      "False\n"
     ]
    }
   ],
   "source": [
    "from collections import deque\n",
    "\n",
    "class DataStream:\n",
    "    def __init__(self, value, k):\n",
    "        self.stream = deque()  \n",
    "        self.value = value  \n",
    "        self.k = k  \n",
    "\n",
    "    def consec(self, num):\n",
    "        self.stream.append(num)  \n",
    "\n",
    "        if len(self.stream) >= self.k:\n",
    "           \n",
    "            last_k = list(self.stream)[-self.k:]\n",
    "            return all(num == self.value for num in last_k)\n",
    "\n",
    "        return False  \n",
    "\n",
    "data_stream = DataStream(5, 3)\n",
    "print(data_stream.consec(1)) \n",
    "print(data_stream.consec(5))  \n",
    "print(data_stream.consec(5))  \n",
    "print(data_stream.consec(5)) \n",
    "print(data_stream.consec(2))  \n"
   ]
  },
  {
   "cell_type": "code",
   "execution_count": null,
   "id": "df4b70f3",
   "metadata": {},
   "outputs": [],
   "source": []
  }
 ],
 "metadata": {
  "kernelspec": {
   "display_name": "Python 3 (ipykernel)",
   "language": "python",
   "name": "python3"
  },
  "language_info": {
   "codemirror_mode": {
    "name": "ipython",
    "version": 3
   },
   "file_extension": ".py",
   "mimetype": "text/x-python",
   "name": "python",
   "nbconvert_exporter": "python",
   "pygments_lexer": "ipython3",
   "version": "3.9.12"
  }
 },
 "nbformat": 4,
 "nbformat_minor": 5
}
