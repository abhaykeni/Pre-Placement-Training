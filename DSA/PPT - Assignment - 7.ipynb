{
 "cells": [
  {
   "cell_type": "markdown",
   "id": "242c5884",
   "metadata": {},
   "source": [
    "💡 **Question 1**\n",
    "\n",
    "Given two strings s and t, *determine if they are isomorphic*.\n",
    "\n",
    "Two strings s and t are isomorphic if the characters in s can be replaced to get t.\n",
    "\n",
    "All occurrences of a character must be replaced with another character while preserving the order of characters. No two characters may map to the same character, but a character may map to itself.\n",
    "\n",
    "**Example 1:**\n",
    "\n",
    "**Input:** s = \"egg\", t = \"add\"\n",
    "\n",
    "**Output:** true\n",
    "\n",
    "</aside>"
   ]
  },
  {
   "cell_type": "code",
   "execution_count": 14,
   "id": "e2d6f764",
   "metadata": {},
   "outputs": [],
   "source": [
    "def areIsomorphic(string1, string2):\n",
    "    MAX_CHARS = 256\n",
    "    m = len(string1)\n",
    "    n = len(string2)\n",
    " \n",
    "    if m != n:\n",
    "        return False\n",
    " \n",
    "    marked = [False] * MAX_CHARS\n",
    "    mapp = [-1] * MAX_CHARS\n",
    "    for i in range(n):\n",
    "        if mapp[ord(string1[i])] == -1:\n",
    "            if marked[ord(string2[i])] == True:\n",
    "                return False\n",
    "            marked[ord(string2[i])] = True\n",
    "            mapp[ord(string1[i])] = string2[i]\n",
    "        elif mapp[ord(string1[i])] != string2[i]:\n",
    "            return False\n",
    "    return True"
   ]
  },
  {
   "cell_type": "code",
   "execution_count": 15,
   "id": "fbf61b86",
   "metadata": {},
   "outputs": [
    {
     "name": "stdout",
     "output_type": "stream",
     "text": [
      "True\n"
     ]
    }
   ],
   "source": [
    "print(areIsomorphic(string1=\"egg\", string2=\"add\"))"
   ]
  },
  {
   "cell_type": "markdown",
   "id": "863fa5d6",
   "metadata": {},
   "source": [
    "💡 **Question 2**\n",
    "\n",
    "Given a string num which represents an integer, return true *if* num *is a **strobogrammatic number***.\n",
    "\n",
    "A **strobogrammatic number** is a number that looks the same when rotated 180 degrees (looked at upside down).\n",
    "\n",
    "**Example 1:**\n",
    "\n",
    "**Input:** num = \"69\"\n",
    "\n",
    "**Output:**\n",
    "\n",
    "true\n",
    "\n",
    "</aside>"
   ]
  },
  {
   "cell_type": "code",
   "execution_count": 32,
   "id": "fce71f32",
   "metadata": {},
   "outputs": [],
   "source": [
    "def strobogrammatic_num(n):\n",
    "    result = numdef(len(str(n)), len(str(n)))\n",
    "    if str(n) in result:\n",
    "        return True\n",
    "    else:\n",
    "        return False\n",
    "       \n",
    "# definition function\n",
    "def numdef(n, length):\n",
    "       \n",
    "    if n == 0: return [\"\"]\n",
    "    if n == 1: return [\"1\", \"0\", \"8\"]\n",
    "       \n",
    "    middles = numdef(n - 2, length)\n",
    "    result = []\n",
    "       \n",
    "    for middle in middles:\n",
    "        \n",
    "        if n != length:           \n",
    "            result.append(\"0\" + middle + \"0\")\n",
    "   \n",
    "        result.append(\"8\" + middle + \"8\")\n",
    "        result.append(\"1\" + middle + \"1\")\n",
    "        result.append(\"9\" + middle + \"6\")\n",
    "        result.append(\"6\" + middle + \"9\")\n",
    "    return result"
   ]
  },
  {
   "cell_type": "code",
   "execution_count": 33,
   "id": "bcd9f669",
   "metadata": {},
   "outputs": [
    {
     "name": "stdout",
     "output_type": "stream",
     "text": [
      "True\n"
     ]
    }
   ],
   "source": [
    "print(strobogrammatic_num(n=69))"
   ]
  },
  {
   "cell_type": "markdown",
   "id": "de351f65",
   "metadata": {},
   "source": [
    "💡 **Question 3**\n",
    "\n",
    "Given two non-negative integers, num1 and num2 represented as string, return *the sum of* num1 *and* num2 *as a string*.\n",
    "\n",
    "You must solve the problem without using any built-in library for handling large integers (such as BigInteger). You must also not convert the inputs to integers directly.\n",
    "\n",
    "**Example 1:**\n",
    "\n",
    "**Input:** num1 = \"11\", num2 = \"123\"\n",
    "\n",
    "**Output:**\n",
    "\n",
    "\"134\"\n",
    "\n",
    "</aside>"
   ]
  },
  {
   "cell_type": "code",
   "execution_count": 88,
   "id": "801db42e",
   "metadata": {},
   "outputs": [],
   "source": [
    "def addStrings(num1, num2):\n",
    "        result = \"\"\n",
    "        carry = 0\n",
    "\n",
    "        def equalizeNumberOfCharacters(num1, num2):\n",
    "            if len(num1) < len(num2):\n",
    "                while len(num1) != len(num2):\n",
    "                    num1 = \"0\" + num1\n",
    "            else:\n",
    "                while len(num2) != len(num1):\n",
    "                    num2 = \"0\" + num2\n",
    "            return [num1,num2]\n",
    "        \n",
    "        num1, num2 = equalizeNumberOfCharacters(num1, num2)\n",
    "        \n",
    "        num1Array = list(num1)\n",
    "        num2Array = list(num2)\n",
    "        \n",
    "        while len(num1Array) != 0:\n",
    "            add = int(num1Array.pop()) + int(num2Array.pop()) + int(carry)\n",
    "            carry = add // 10\n",
    "            result = str(add % 10) + result\n",
    "        \n",
    "        if carry != 0:\n",
    "            result = str(carry) + result\n",
    "        return result"
   ]
  },
  {
   "cell_type": "code",
   "execution_count": 90,
   "id": "f2339a64",
   "metadata": {},
   "outputs": [
    {
     "name": "stdout",
     "output_type": "stream",
     "text": [
      "134\n"
     ]
    }
   ],
   "source": [
    "num1 = \"11\"\n",
    "num2 = \"123\"\n",
    "print(addStrings(num1, num2))   "
   ]
  },
  {
   "cell_type": "markdown",
   "id": "97d375bb",
   "metadata": {},
   "source": [
    "💡 **Question 4**\n",
    "\n",
    "Given a string s, reverse the order of characters in each word within a sentence while still preserving whitespace and initial word order.\n",
    "\n",
    "**Example 1:**\n",
    "\n",
    "**Input:** s = \"Let's take LeetCode contest\"\n",
    "\n",
    "**Output:** \"s'teL ekat edoCteeL tsetnoc\"\n",
    "\n",
    "</aside>"
   ]
  },
  {
   "cell_type": "code",
   "execution_count": 44,
   "id": "4a780c96",
   "metadata": {},
   "outputs": [],
   "source": [
    "def flip(s):\n",
    "    lists = s.strip().split()\n",
    "    for i in range(len(lists)):\n",
    "        lists[i] = lists[i][::-1]\n",
    "    return \" \".join(lists)"
   ]
  },
  {
   "cell_type": "code",
   "execution_count": 45,
   "id": "7f0f05b8",
   "metadata": {},
   "outputs": [
    {
     "name": "stdout",
     "output_type": "stream",
     "text": [
      "s'teL ekat edoCteeL tsetnoc\n"
     ]
    }
   ],
   "source": [
    "s = \"Let's take LeetCode contest\"\n",
    "print(flip(s))"
   ]
  },
  {
   "cell_type": "markdown",
   "id": "48d14bc3",
   "metadata": {},
   "source": [
    "💡 **Question 5**\n",
    "\n",
    "Given a string s and an integer k, reverse the first k characters for every 2k characters counting from the start of the string.\n",
    "\n",
    "If there are fewer than k characters left, reverse all of them. If there are less than 2k but greater than or equal to k characters, then reverse the first k characters and leave the other as original.\n",
    "\n",
    "**Example 1:**\n",
    "\n",
    "**Input:** s = \"abcdefg\", k = 2\n",
    "\n",
    "**Output:**\n",
    "\n",
    "\"bacdfeg\"\n",
    "\n",
    "</aside>"
   ]
  },
  {
   "cell_type": "code",
   "execution_count": 115,
   "id": "03b58b14",
   "metadata": {},
   "outputs": [],
   "source": [
    "def altcount(s,k):\n",
    "    count = 0\n",
    "    temp = \"\"\n",
    "    for i in range(0,len(s),k):\n",
    "        if count%2 == 0:\n",
    "            rev = s[i:i+k]\n",
    "            rev = rev[::-1]\n",
    "            temp = temp+rev\n",
    "        else:\n",
    "            temp = temp + s[i:i+k]\n",
    "        count = count + 1\n",
    "    return temp"
   ]
  },
  {
   "cell_type": "code",
   "execution_count": 116,
   "id": "d6127088",
   "metadata": {},
   "outputs": [
    {
     "name": "stdout",
     "output_type": "stream",
     "text": [
      "bacdfeg\n"
     ]
    }
   ],
   "source": [
    "s = \"abcdefg\"\n",
    "k = 2\n",
    "print(altcount(s,k))"
   ]
  },
  {
   "cell_type": "markdown",
   "id": "ce4d5d50",
   "metadata": {},
   "source": [
    "💡 **Question 6**\n",
    "\n",
    "Given two strings s and goal, return true *if and only if* s *can become* goal *after some number of **shifts** on* s.\n",
    "\n",
    "A **shift** on s consists of moving the leftmost character of s to the rightmost position.\n",
    "\n",
    "- For example, if s = \"abcde\", then it will be \"bcdea\" after one shift.\n",
    "\n",
    "**Example 1:**\n",
    "\n",
    "**Input:** s = \"abcde\", goal = \"cdeab\"\n",
    "\n",
    "**Output:**\n",
    "\n",
    "true\n",
    "\n",
    "</aside>"
   ]
  },
  {
   "cell_type": "code",
   "execution_count": 55,
   "id": "fa37295a",
   "metadata": {},
   "outputs": [],
   "source": [
    "def shift(s,goal):\n",
    "    count = 0\n",
    "    for i in range(len(s)):\n",
    "        if s == goal:\n",
    "            count = count + 1\n",
    "            return True\n",
    "            break\n",
    "        else:\n",
    "            s = s[1:]+s[0]\n",
    "    if count == 0:\n",
    "        return False"
   ]
  },
  {
   "cell_type": "code",
   "execution_count": 59,
   "id": "205ada66",
   "metadata": {},
   "outputs": [
    {
     "name": "stdout",
     "output_type": "stream",
     "text": [
      "True\n"
     ]
    }
   ],
   "source": [
    "s = \"abcde\"\n",
    "goal = \"cdeab\"\n",
    "\n",
    "print(shift(s,goal))"
   ]
  },
  {
   "cell_type": "markdown",
   "id": "2eb40413",
   "metadata": {},
   "source": [
    "💡 **Question 7**\n",
    "\n",
    "Given two strings s and t, return true *if they are equal when both are typed into empty text editors*. '#' means a backspace character.\n",
    "\n",
    "Note that after backspacing an empty text, the text will continue empty.\n",
    "\n",
    "**Example 1:**\n",
    "\n",
    "**Input:** s = \"ab#c\", t = \"ad#c\"\n",
    "\n",
    "**Output:** true\n",
    "\n",
    "**Explanation:**\n",
    "\n",
    "Both s and t become \"ac\".\n",
    "\n",
    "</aside>"
   ]
  },
  {
   "cell_type": "code",
   "execution_count": 66,
   "id": "611fc9ed",
   "metadata": {},
   "outputs": [],
   "source": [
    "def backspace(s,t):\n",
    "    l1,l2 = [],[]\n",
    "    if len(s) == len(t):\n",
    "        for i in range(len(s)):\n",
    "            if s[i] == \"#\":\n",
    "                l1.pop()\n",
    "                l2.pop()\n",
    "            else:\n",
    "                l1.append(s[i])\n",
    "                l2.append(t[i])\n",
    "        if \"\".join(l1) == \"\".join(l2):\n",
    "            return(True)\n",
    "        else:\n",
    "            return(False)\n",
    "    else:\n",
    "        return(False)"
   ]
  },
  {
   "cell_type": "code",
   "execution_count": 67,
   "id": "44c75615",
   "metadata": {},
   "outputs": [
    {
     "name": "stdout",
     "output_type": "stream",
     "text": [
      "True\n"
     ]
    }
   ],
   "source": [
    "s = \"ab#c\" \n",
    "t = \"ad#c\"\n",
    "print(backspace(s,t))"
   ]
  },
  {
   "cell_type": "markdown",
   "id": "00c0e298",
   "metadata": {},
   "source": [
    "💡 **Question 8**\n",
    "\n",
    "You are given an array coordinates, coordinates[i] = [x, y], where [x, y] represents the coordinate of a point. Check if these points make a straight line in the XY plane.\n",
    "\n",
    "</aside>"
   ]
  },
  {
   "cell_type": "code",
   "execution_count": 70,
   "id": "42b94fe2",
   "metadata": {},
   "outputs": [],
   "source": [
    "def cordinates(c):\n",
    "    l = []\n",
    "    for i in range(1,len(c)):\n",
    "        slope = (c[i][1]-c[i-1][1])/(c[i][1]-c[i-1][0])\n",
    "        l.append(slope)\n",
    "    if len(set(l))==1:\n",
    "        return(True)\n",
    "    else:\n",
    "        return(False)"
   ]
  },
  {
   "cell_type": "code",
   "execution_count": 71,
   "id": "105a4110",
   "metadata": {},
   "outputs": [
    {
     "name": "stdout",
     "output_type": "stream",
     "text": [
      "True\n"
     ]
    }
   ],
   "source": [
    "c = [[1,2],[2,3],[3,4],[4,5],[5,6],[6,7]]\n",
    "print(cordinates(c))"
   ]
  },
  {
   "cell_type": "code",
   "execution_count": null,
   "id": "7c66a504",
   "metadata": {},
   "outputs": [],
   "source": []
  }
 ],
 "metadata": {
  "kernelspec": {
   "display_name": "Python 3 (ipykernel)",
   "language": "python",
   "name": "python3"
  },
  "language_info": {
   "codemirror_mode": {
    "name": "ipython",
    "version": 3
   },
   "file_extension": ".py",
   "mimetype": "text/x-python",
   "name": "python",
   "nbconvert_exporter": "python",
   "pygments_lexer": "ipython3",
   "version": "3.9.12"
  }
 },
 "nbformat": 4,
 "nbformat_minor": 5
}
