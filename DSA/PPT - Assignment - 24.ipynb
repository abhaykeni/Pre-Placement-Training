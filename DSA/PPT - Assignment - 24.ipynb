{
 "cells": [
  {
   "cell_type": "markdown",
   "id": "cea19a9b",
   "metadata": {},
   "source": [
    "💡 1. **Roman to Integer**\n",
    "\n",
    "Roman numerals are represented by seven different symbols: `I`, `V`, `X`, `L`, `C`, `D` and `M`.\n",
    "\n",
    "```\n",
    "SymbolValue\n",
    "I             1\n",
    "V             5\n",
    "X             10\n",
    "L             50\n",
    "C             100\n",
    "D             500\n",
    "M             1000\n",
    "```\n",
    "\n",
    "For example, `2` is written as `II` in Roman numeral, just two ones added together. `12` is written as `XII`, which is simply `X + II`. The number `27` is written as `XXVII`, which is `XX + V + II`.\n",
    "\n",
    "Roman numerals are usually written largest to smallest from left to right. However, the numeral for four is not `IIII`. Instead, the number four is written as `IV`. Because the one is before the five we subtract it making four. The same principle applies to the number nine, which is written as `IX`. There are six instances where subtraction is used:\n",
    "\n",
    "- `I` can be placed before `V` (5) and `X` (10) to make 4 and 9.\n",
    "- `X` can be placed before `L` (50) and `C` (100) to make 40 and 90.\n",
    "- `C` can be placed before `D` (500) and `M` (1000) to make 400 and 900.\n",
    "\n",
    "Given a roman numeral, convert it to an integer.\n",
    "\n",
    "</aside>"
   ]
  },
  {
   "cell_type": "code",
   "execution_count": 70,
   "id": "722cef0e",
   "metadata": {},
   "outputs": [
    {
     "name": "stdout",
     "output_type": "stream",
     "text": [
      "Integer form of Roman Numeral is\n",
      "1904\n"
     ]
    }
   ],
   "source": [
    "def value(r):\n",
    "    if (r == 'I'):\n",
    "        return 1\n",
    "    if (r == 'V'):\n",
    "        return 5\n",
    "    if (r == 'X'):\n",
    "        return 10\n",
    "    if (r == 'L'):\n",
    "        return 50\n",
    "    if (r == 'C'):\n",
    "        return 100\n",
    "    if (r == 'D'):\n",
    "        return 500\n",
    "    if (r == 'M'):\n",
    "        return 1000\n",
    "    return -1\n",
    " \n",
    "    \n",
    "def romanToDecimal(str):\n",
    "    res = 0\n",
    "    i = 0\n",
    " \n",
    "    while (i < len(str)):\n",
    "        \n",
    "        s1 = value(str[i])\n",
    " \n",
    "        if (i + 1 < len(str)):\n",
    " \n",
    "            s2 = value(str[i + 1])\n",
    " \n",
    "            if (s1 >= s2):\n",
    " \n",
    "                res = res + s1\n",
    "                i = i + 1\n",
    "            else:\n",
    "                res = res + s2 - s1\n",
    "                i = i + 2\n",
    "        else:\n",
    "            res = res + s1\n",
    "            i = i + 1\n",
    " \n",
    "    return res\n",
    " \n",
    "print(\"Integer form of Roman Numeral is\"),\n",
    "print(romanToDecimal(\"MCMIV\"))"
   ]
  },
  {
   "cell_type": "markdown",
   "id": "00cf5804",
   "metadata": {},
   "source": [
    "💡 2. **Longest Substring Without Repeating Characters**\n",
    "\n",
    "Given a string `s`, find the length of the **longest substring** without repeating characters.\n",
    "\n",
    "</aside>"
   ]
  },
  {
   "cell_type": "code",
   "execution_count": 82,
   "id": "c12b11b2",
   "metadata": {},
   "outputs": [
    {
     "name": "stdout",
     "output_type": "stream",
     "text": [
      "3\n"
     ]
    }
   ],
   "source": [
    "def longestUniqueSubsttr(str):\n",
    "     \n",
    "    n = len(str)\n",
    "    res = 0\n",
    "  \n",
    "    for i in range(n):\n",
    "        visited = [0] * 256  \n",
    "  \n",
    "        for j in range(i, n):\n",
    "            if (visited[ord(str[j])] == True):\n",
    "                break\n",
    "            else:\n",
    "                res = max(res, j - i + 1)\n",
    "                visited[ord(str[j])] = True\n",
    "             \n",
    "        visited[ord(str[i])] = False\n",
    "     \n",
    "    return res\n",
    "\n",
    "str = \"abcabcbb\"\n",
    "length = longestUniqueSubsttr(str)\n",
    "print(length)"
   ]
  },
  {
   "cell_type": "markdown",
   "id": "eab069e6",
   "metadata": {},
   "source": [
    "💡 3. **Majority Element**\n",
    "\n",
    "Given an array `nums` of size `n`, return *the majority element*.\n",
    "\n",
    "The majority element is the element that appears more than `⌊n / 2⌋` times. You may assume that the majority element always exists in the array.\n",
    "\n",
    "</aside>"
   ]
  },
  {
   "cell_type": "code",
   "execution_count": 11,
   "id": "30887ba1",
   "metadata": {},
   "outputs": [
    {
     "data": {
      "text/plain": [
       "3"
      ]
     },
     "execution_count": 11,
     "metadata": {},
     "output_type": "execute_result"
    }
   ],
   "source": [
    "def hashmap(l):\n",
    "    hmap = dict()\n",
    "    for i in l:\n",
    "        if i in hmap.keys():\n",
    "            hmap[i]+=1\n",
    "        else:\n",
    "            hmap[i]=1\n",
    "    return hmap\n",
    "\n",
    "def majorElement(l):\n",
    "    hmap = hashmap(l)\n",
    "    maxx = max(hmap.values())\n",
    "    for i in hmap.keys():\n",
    "        if hmap[i]==maxx and hmap[i]>len(l)/2:\n",
    "            return i\n",
    "l = [3,2,3]        \n",
    "majorElement(l)"
   ]
  },
  {
   "cell_type": "code",
   "execution_count": 12,
   "id": "6a1f2213",
   "metadata": {},
   "outputs": [
    {
     "data": {
      "text/plain": [
       "2"
      ]
     },
     "execution_count": 12,
     "metadata": {},
     "output_type": "execute_result"
    }
   ],
   "source": [
    "l = [2,2,1,1,1,2,2]\n",
    "majorElement(l)"
   ]
  },
  {
   "cell_type": "markdown",
   "id": "f49253bd",
   "metadata": {},
   "source": [
    "💡 4. **Group Anagram**\n",
    "\n",
    "Given an array of strings `strs`, group **the anagrams** together. You can return the answer in **any order**.\n",
    "\n",
    "An **Anagram** is a word or phrase formed by rearranging the letters of a different word or phrase, typically using all the original letters exactly once.\n",
    "\n",
    "</aside>"
   ]
  },
  {
   "cell_type": "code",
   "execution_count": 39,
   "id": "986b6571",
   "metadata": {},
   "outputs": [
    {
     "data": {
      "text/plain": [
       "[['eat', 'tea', 'ate'],\n",
       " ['eat', 'tea', 'ate'],\n",
       " ['tan', 'nat'],\n",
       " ['eat', 'tea', 'ate'],\n",
       " ['tan', 'nat'],\n",
       " ['bat']]"
      ]
     },
     "execution_count": 39,
     "metadata": {},
     "output_type": "execute_result"
    }
   ],
   "source": [
    "lis = [\"eat\",\"tea\",\"tan\",\"ate\",\"nat\",\"bat\"]\n",
    "def groupAnagram(lis):\n",
    "    final = []\n",
    "    for i in lis:\n",
    "        count = 0\n",
    "        br = 0\n",
    "        l = []\n",
    "        \n",
    "        while(count<len(lis)):\n",
    "            s1 = [*i]\n",
    "            s1.sort()\n",
    "            s2 = [*lis[count]]\n",
    "            s2.sort()\n",
    "            if s1 == s2:\n",
    "                l.append(lis[count])\n",
    "            count += 1 \n",
    "        final.append(l)\n",
    "    return final\n",
    "        \n",
    "groupAnagram(lis)"
   ]
  },
  {
   "cell_type": "markdown",
   "id": "30d5eaa6",
   "metadata": {},
   "source": [
    "💡 5. **Ugly Numbers**\n",
    "\n",
    "An **ugly number** is a positive integer whose prime factors are limited to `2`, `3`, and `5`.\n",
    "\n",
    "Given an integer `n`, return *the* `nth` ***ugly number***.\n",
    "\n",
    "</aside>"
   ]
  },
  {
   "cell_type": "code",
   "execution_count": 47,
   "id": "274d0bb3",
   "metadata": {},
   "outputs": [
    {
     "data": {
      "text/plain": [
       "True"
      ]
     },
     "execution_count": 47,
     "metadata": {},
     "output_type": "execute_result"
    }
   ],
   "source": [
    "def findFactor(n):\n",
    "    l = []\n",
    "    for i in range(2,n):\n",
    "        if n%i==0:\n",
    "            l.append(i)\n",
    "    return l\n",
    "        \n",
    "def isPrime(l,n):\n",
    "    new = []\n",
    "    for x in l:\n",
    "        count = 0\n",
    "        for i in range(2,x):\n",
    "            if x%i==0:\n",
    "                count = count + 1\n",
    "        if count == 0:\n",
    "            new.append(x)\n",
    "    return new\n",
    "    \n",
    "n = 240   \n",
    "def isUgly(n):\n",
    "    l = findFactor(n)\n",
    "    lis = isPrime(l,n)\n",
    "    if max(lis)<=5:\n",
    "        return True\n",
    "    else:return False\n",
    "    \n",
    "    \n",
    "isUgly(n)"
   ]
  },
  {
   "cell_type": "markdown",
   "id": "dc46e249",
   "metadata": {},
   "source": [
    "💡 6. **Top K Frequent Words**\n",
    "\n",
    "Given an array of strings `words` and an integer `k`, return *the* `k` *most frequent strings*.\n",
    "\n",
    "Return the answer **sorted** by **the frequency** from highest to lowest. Sort the words with the same frequency by their **lexicographical order**.\n",
    "\n",
    "</aside>"
   ]
  },
  {
   "cell_type": "code",
   "execution_count": 59,
   "id": "ca9793ae",
   "metadata": {},
   "outputs": [
    {
     "data": {
      "text/plain": [
       "['i', 'love']"
      ]
     },
     "execution_count": 59,
     "metadata": {},
     "output_type": "execute_result"
    }
   ],
   "source": [
    "def hashmap(l):\n",
    "    hmap = dict()\n",
    "    for i in l:\n",
    "        if i in hmap.keys():\n",
    "            hmap[i]+=1\n",
    "        else:\n",
    "            hmap[i]=1\n",
    "    return hmap\n",
    "\n",
    "def last(n):\n",
    "    return n[-1] \n",
    "  \n",
    "def sort(tuples):\n",
    "    return sorted(tuples, key=last)\n",
    "\n",
    "def kMostFrequent(l,k):\n",
    "    hmap = hashmap(l)\n",
    "    inst = list(hmap.items())\n",
    "    sort(inst)\n",
    "    s = []\n",
    "    for i in range(k):\n",
    "        s.append(inst[i][0])\n",
    "        \n",
    "    return s\n",
    "      \n",
    "l = [\"i\",\"love\",\"leetcode\",\"i\",\"love\",\"coding\"]\n",
    "k=2\n",
    "\n",
    "kMostFrequent(l,k)        "
   ]
  },
  {
   "cell_type": "markdown",
   "id": "56fdeb39",
   "metadata": {},
   "source": [
    "💡 7. **Sliding Window Maximum**\n",
    "\n",
    "You are given an array of integers `nums`, there is a sliding window of size `k` which is moving from the very left of the array to the very right. You can only see the `k` numbers in the window. Each time the sliding window moves right by one position.\n",
    "\n",
    "</aside>"
   ]
  },
  {
   "cell_type": "code",
   "execution_count": 69,
   "id": "fe679376",
   "metadata": {},
   "outputs": [
    {
     "name": "stdout",
     "output_type": "stream",
     "text": [
      "[3]\n",
      "[3, 3]\n",
      "[3, 3, 5]\n",
      "[3, 3, 5, 5]\n",
      "[3, 3, 5, 5, 6]\n",
      "[3, 3, 5, 5, 6, 7]\n"
     ]
    },
    {
     "data": {
      "text/plain": [
       "[3, 3, 5, 5, 6, 7]"
      ]
     },
     "execution_count": 69,
     "metadata": {},
     "output_type": "execute_result"
    }
   ],
   "source": [
    "l = [1,3,-1,-3,5,3,6,7]\n",
    "k = 3\n",
    "def maxSlide(l,k):\n",
    "    n = []\n",
    "    for i in range(len(l)-k+1):\n",
    "        n.append(max(l[i:3+i:1]))\n",
    "        print(n)\n",
    "    return (n)\n",
    "\n",
    "maxSlide(l,k)"
   ]
  },
  {
   "cell_type": "markdown",
   "id": "9bb921f3",
   "metadata": {},
   "source": [
    "💡 8. **Find K Closest Elements**\n",
    "\n",
    "Given a **sorted** integer array `arr`, two integers `k` and `x`, return the `k` closest integers to `x` in the array. The result should also be sorted in ascending order.\n",
    "\n",
    "An integer `a` is closer to `x` than an integer `b` if:\n",
    "\n",
    "- `|a - x| < |b - x|`, or\n",
    "- `|a - x| == |b - x|` and `a < b`\n",
    "</aside>"
   ]
  },
  {
   "cell_type": "code",
   "execution_count": 75,
   "id": "68d3a789",
   "metadata": {},
   "outputs": [
    {
     "data": {
      "text/plain": [
       "[1, 2, 3, 4]"
      ]
     },
     "execution_count": 75,
     "metadata": {},
     "output_type": "execute_result"
    }
   ],
   "source": [
    "def hashmap(l,x):\n",
    "    hmap = dict()\n",
    "    for i in l:\n",
    "        hmap[i]=abs(i-x)\n",
    "    return hmap\n",
    "\n",
    "def closeToK(a,x,k):\n",
    "    hmap = hashmap(a,x)\n",
    "    inst = list(hmap.items())\n",
    "    sort(inst)\n",
    "    s = []\n",
    "    for i in range(k):\n",
    "        s.append(inst[i][0])\n",
    "        \n",
    "    return s\n",
    "        \n",
    "closeToK(a=[1,2,3,4,5],x=-1,k=4)"
   ]
  },
  {
   "cell_type": "code",
   "execution_count": null,
   "id": "2ff6afba",
   "metadata": {},
   "outputs": [],
   "source": []
  }
 ],
 "metadata": {
  "kernelspec": {
   "display_name": "Python 3 (ipykernel)",
   "language": "python",
   "name": "python3"
  },
  "language_info": {
   "codemirror_mode": {
    "name": "ipython",
    "version": 3
   },
   "file_extension": ".py",
   "mimetype": "text/x-python",
   "name": "python",
   "nbconvert_exporter": "python",
   "pygments_lexer": "ipython3",
   "version": "3.9.12"
  }
 },
 "nbformat": 4,
 "nbformat_minor": 5
}
