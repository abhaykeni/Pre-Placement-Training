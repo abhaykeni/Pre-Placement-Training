{
 "cells": [
  {
   "cell_type": "markdown",
   "id": "f782e91b",
   "metadata": {},
   "source": [
    "💡 1. **Merge k Sorted Lists**\n",
    "\n",
    "You are given an array of `k` linked-lists `lists`, each linked-list is sorted in ascending order.\n",
    "\n",
    "*Merge all the linked-lists into one sorted linked-list and return it.*\n",
    "\n",
    "</aside>"
   ]
  },
  {
   "cell_type": "code",
   "execution_count": 1,
   "id": "cebd4d7c",
   "metadata": {},
   "outputs": [],
   "source": [
    "class Node:\n",
    "  \n",
    "    def __init__(self, x):\n",
    "  \n",
    "        self.data = x\n",
    "        self.next = None\n",
    "  \n",
    "  \n",
    "def printList(node):\n",
    "  \n",
    "    while (node != None):\n",
    "        print(node.data,\n",
    "              end=\" \")\n",
    "        node = node.next\n",
    "  \n",
    " \n",
    "def mergeKLists(arr, last):\n",
    "  \n",
    "    # Traverse form second\n",
    "    # list to last\n",
    "    for i in range(1, last + 1):\n",
    "        while (True):\n",
    "            # head of both the lists,\n",
    "            # 0 and ith list.\n",
    "            head_0 = arr[0]\n",
    "            head_i = arr[i]\n",
    "  \n",
    "            # Break if list ended\n",
    "            if (head_i == None):\n",
    "                break\n",
    "  \n",
    "            # Smaller than first\n",
    "            # element\n",
    "            if (head_0.data >=\n",
    "                    head_i.data):\n",
    "                arr[i] = head_i.next\n",
    "                head_i.next = head_0\n",
    "                arr[0] = head_i\n",
    "            else:\n",
    "                # Traverse the first list\n",
    "                while (head_0.next != None):\n",
    "                    # Smaller than next\n",
    "                    # element\n",
    "                    if (head_0.next.data >=\n",
    "                            head_i.data):\n",
    "                        arr[i] = head_i.next\n",
    "                        head_i.next = head_0.next\n",
    "                        head_0.next = head_i\n",
    "                        break\n",
    "                    # go to next node\n",
    "                    head_0 = head_0.next\n",
    "                    # if last node\n",
    "                    if (head_0.next == None):\n",
    "                        arr[i] = head_i.next\n",
    "                        head_i.next = None\n",
    "                        head_0.next = head_i\n",
    "                        head_0.next.next = None\n",
    "                        break\n",
    "    return arr[0]\n",
    "  "
   ]
  },
  {
   "cell_type": "code",
   "execution_count": 3,
   "id": "dbcfb2a9",
   "metadata": {},
   "outputs": [
    {
     "name": "stdout",
     "output_type": "stream",
     "text": [
      "0 1 2 3 4 5 6 7 8 9 10 11 "
     ]
    }
   ],
   "source": [
    "k = 3\n",
    "n = 4\n",
    "\n",
    "arr = [None for i in range(k)]\n",
    "  \n",
    "arr[0] = Node(1)\n",
    "arr[0].next = Node(3)\n",
    "arr[0].next.next = Node(5)\n",
    "arr[0].next.next.next = Node(7)\n",
    "  \n",
    "arr[1] = Node(2)\n",
    "arr[1].next = Node(4)\n",
    "arr[1].next.next = Node(6)\n",
    "arr[1].next.next.next = Node(8)\n",
    "  \n",
    "arr[2] = Node(0)\n",
    "arr[2].next = Node(9)\n",
    "arr[2].next.next = Node(10)\n",
    "arr[2].next.next.next = Node(11)\n",
    "  \n",
    "head = mergeKLists(arr, k - 1)\n",
    "  \n",
    "printList(head)"
   ]
  },
  {
   "cell_type": "markdown",
   "id": "7c28b1d8",
   "metadata": {},
   "source": [
    "💡 2. **Count of Smaller Numbers After Self**\n",
    "\n",
    "Given an integer array `nums`, return *an integer array* `counts` *where* `counts[i]` *is the number of smaller elements to the right of* `nums[i]`.\n",
    "\n",
    "</aside>"
   ]
  },
  {
   "cell_type": "code",
   "execution_count": 4,
   "id": "a56e1c90",
   "metadata": {},
   "outputs": [],
   "source": [
    "def constructLowerArray(arr, countSmaller, n):\n",
    " \n",
    "    # initialize all the counts in countSmaller array as 0\n",
    "    for i in range(n):\n",
    "        countSmaller[i] = 0\n",
    " \n",
    "    for i in range(n):\n",
    "        for j in range(i + 1, n):\n",
    "            if (arr[j] < arr[i]):\n",
    "                countSmaller[i] += 1\n",
    " \n",
    " \n",
    "def printArray(arr, size):\n",
    "    for i in range(size):\n",
    "        print(arr[i], end=\" \")\n",
    "    print()"
   ]
  },
  {
   "cell_type": "code",
   "execution_count": 5,
   "id": "222624ac",
   "metadata": {},
   "outputs": [
    {
     "name": "stdout",
     "output_type": "stream",
     "text": [
      "6 1 1 1 0 1 0 \n"
     ]
    }
   ],
   "source": [
    "arr = [12, 1, 2, 3, 0, 11, 4]\n",
    "n = len(arr)\n",
    "low = [0]*n\n",
    "constructLowerArray(arr, low, n)\n",
    "printArray(low, n)"
   ]
  },
  {
   "cell_type": "markdown",
   "id": "81033ed0",
   "metadata": {},
   "source": [
    "💡 3. **Sort an Array**\n",
    "\n",
    "Given an array of integers `nums`, sort the array in ascending order and return it.\n",
    "\n",
    "You must solve the problem **without using any built-in** functions in `O(nlog(n))` time complexity and with the smallest space complexity possible.\n",
    "\n",
    "</aside>"
   ]
  },
  {
   "cell_type": "code",
   "execution_count": 7,
   "id": "d2bf593d",
   "metadata": {},
   "outputs": [],
   "source": [
    "def printArray(arr, N):\n",
    "     \n",
    "    # Traverse the array\n",
    "    for i in range(N):\n",
    "        print(arr[i], end = ' ')\n",
    "         \n",
    "# Function to sort the array in O(N)\n",
    "def sortArray(arr, N):\n",
    "     \n",
    "    i = 0\n",
    "     \n",
    "    # Traverse the array\n",
    "    while i < N:\n",
    "         \n",
    "        # If the current element is\n",
    "        # at correct position\n",
    "        if arr[i] == i + 1:\n",
    "            i += 1\n",
    "         \n",
    "        # Else swap the current element\n",
    "        # with it's correct position\n",
    "        else:\n",
    "             \n",
    "            # Swap the value of\n",
    "            # arr[i] and arr[arr[i]-1]\n",
    "            temp1 = arr[i]\n",
    "            temp2 = arr[arr[i] - 1]\n",
    "            arr[i] = temp2\n",
    "            arr[temp1 - 1] = temp1"
   ]
  },
  {
   "cell_type": "code",
   "execution_count": 8,
   "id": "8a9e5dec",
   "metadata": {},
   "outputs": [
    {
     "name": "stdout",
     "output_type": "stream",
     "text": [
      "1 2 3 4 5 "
     ]
    }
   ],
   "source": [
    "arr = [ 2, 1, 5, 3, 4 ]\n",
    "N = len(arr)\n",
    "     \n",
    "sortArray(arr, N)\n",
    "     \n",
    "printArray(arr, N)"
   ]
  },
  {
   "cell_type": "markdown",
   "id": "cd89a8c3",
   "metadata": {},
   "source": [
    "💡 4. **Move all zeroes to end of array**\n",
    "\n",
    "Given an array of random numbers, Push all the zero’s of a given array to the end of the array. For example, if the given arrays is {1, 9, 8, 4, 0, 0, 2, 7, 0, 6, 0}, it should be changed to {1, 9, 8, 4, 2, 7, 6, 0, 0, 0, 0}. The order of all other elements should be same. Expected time complexity is O(n) and extra space is O(1).\n",
    "\n",
    "</aside>"
   ]
  },
  {
   "cell_type": "code",
   "execution_count": 9,
   "id": "dfb38390",
   "metadata": {},
   "outputs": [],
   "source": [
    "def pushZerosToEnd(arr, n):\n",
    "    count = 0 # Count of non-zero elements\n",
    "     \n",
    "    for i in range(n):\n",
    "        if arr[i] != 0:\n",
    "            arr[count] = arr[i]\n",
    "            count+=1\n",
    "    while count < n:\n",
    "        arr[count] = 0\n",
    "        count += 1"
   ]
  },
  {
   "cell_type": "code",
   "execution_count": 10,
   "id": "58eeed4f",
   "metadata": {},
   "outputs": [
    {
     "name": "stdout",
     "output_type": "stream",
     "text": [
      "Array after pushing all zeros to end of array:\n",
      "[1, 9, 8, 4, 2, 7, 6, 9, 0, 0, 0, 0]\n"
     ]
    }
   ],
   "source": [
    "arr = [1, 9, 8, 4, 0, 0, 2, 7, 0, 6, 0, 9]\n",
    "n = len(arr)\n",
    "pushZerosToEnd(arr, n)\n",
    "print(\"Array after pushing all zeros to end of array:\")\n",
    "print(arr)\n",
    " "
   ]
  },
  {
   "cell_type": "markdown",
   "id": "279099f1",
   "metadata": {},
   "source": [
    "💡 5. **Rearrange array in alternating positive & negative items with O(1) extra space**\n",
    "\n",
    "Given an **array of positive** and **negative numbers**, arrange them in an **alternate** fashion such that every positive number is followed by a negative and vice-versa maintaining the **order of appearance**. The number of positive and negative numbers need not be equal. If there are more positive numbers they appear at the end of the array. If there are more negative numbers, they too appear at the end of the array.\n",
    "\n",
    "</aside>"
   ]
  },
  {
   "cell_type": "code",
   "execution_count": 11,
   "id": "1d515c74",
   "metadata": {},
   "outputs": [],
   "source": [
    "def rightRotate(arr, n, outOfPlace, cur):\n",
    "    temp = arr[cur]\n",
    "    for i in range(cur, outOfPlace, -1):\n",
    "        arr[i] = arr[i - 1]\n",
    "    arr[outOfPlace] = temp\n",
    "    return arr\n",
    " \n",
    "def rearrange(arr, n):\n",
    "    outOfPlace = -1\n",
    "    for index in range(n):\n",
    "        if(outOfPlace >= 0):\n",
    " \n",
    "            if((arr[index] >= 0 and arr[outOfPlace] < 0) or\n",
    "               (arr[index] < 0 and arr[outOfPlace] >= 0)):\n",
    "                arr = rightRotate(arr, n, outOfPlace, index)\n",
    "                if(index-outOfPlace > 2):\n",
    "                    outOfPlace += 2\n",
    "                else:\n",
    "                    outOfPlace = - 1\n",
    " \n",
    "        if(outOfPlace == -1):\n",
    "            if((arr[index] >= 0 and index % 2 == 0) or\n",
    "               (arr[index] < 0 and index % 2 == 1)):\n",
    "                outOfPlace = index\n",
    "    return arr\n",
    " "
   ]
  },
  {
   "cell_type": "code",
   "execution_count": 12,
   "id": "c9e52137",
   "metadata": {},
   "outputs": [
    {
     "name": "stdout",
     "output_type": "stream",
     "text": [
      "Given Array is:\n",
      "[-5, -2, 5, 2, 4, 7, 1, 8, 0, -8]\n",
      "\n",
      "Rearranged array is:\n",
      "[-5, 5, -2, 2, -8, 4, 7, 1, 8, 0]\n"
     ]
    }
   ],
   "source": [
    "arr = [-5, -2, 5, 2, 4,\n",
    "       7, 1, 8, 0, -8]\n",
    " \n",
    "print(\"Given Array is:\")\n",
    "print(arr)\n",
    " \n",
    "print(\"\\nRearranged array is:\")\n",
    "print(rearrange(arr, len(arr)))"
   ]
  },
  {
   "cell_type": "markdown",
   "id": "0c62fbf9",
   "metadata": {},
   "source": [
    "💡 **6. Merge two sorted arrays**\n",
    "\n",
    "Given two sorted arrays, the task is to merge them in a sorted manner.\n",
    "\n",
    "</aside>"
   ]
  },
  {
   "cell_type": "code",
   "execution_count": 13,
   "id": "5dc8ac49",
   "metadata": {},
   "outputs": [],
   "source": [
    "def mergeArrays(arr1, arr2, n1, n2):\n",
    "    arr3 = [None] * (n1 + n2)\n",
    "    i = 0\n",
    "    j = 0\n",
    "    k = 0\n",
    "\n",
    "    while i < n1 and j < n2:\n",
    "        if arr1[i] < arr2[j]:\n",
    "            arr3[k] = arr1[i]\n",
    "            k = k + 1\n",
    "            i = i + 1\n",
    "        else:\n",
    "            arr3[k] = arr2[j]\n",
    "            k = k + 1\n",
    "            j = j + 1\n",
    "     \n",
    "    while i < n1:\n",
    "        arr3[k] = arr1[i];\n",
    "        k = k + 1\n",
    "        i = i + 1\n",
    " \n",
    "    while j < n2:\n",
    "        arr3[k] = arr2[j];\n",
    "        k = k + 1\n",
    "        j = j + 1\n",
    "    print(\"Array after merging\")\n",
    "    for i in range(n1 + n2):\n",
    "        print(str(arr3[i]), end = \" \")\n",
    " "
   ]
  },
  {
   "cell_type": "code",
   "execution_count": 14,
   "id": "ed83fc39",
   "metadata": {},
   "outputs": [
    {
     "name": "stdout",
     "output_type": "stream",
     "text": [
      "Array after merging\n",
      "1 2 3 4 5 6 7 8 "
     ]
    }
   ],
   "source": [
    "arr1 = [1, 3, 5, 7]\n",
    "n1 = len(arr1)\n",
    " \n",
    "arr2 = [2, 4, 6, 8]\n",
    "n2 = len(arr2)\n",
    "mergeArrays(arr1, arr2, n1, n2);"
   ]
  },
  {
   "cell_type": "markdown",
   "id": "af58ac88",
   "metadata": {},
   "source": [
    "💡 7. **Intersection of Two Arrays**\n",
    "\n",
    "Given two integer arrays `nums1` and `nums2`, return *an array of their intersection*. Each element in the result must be **unique** and you may return the result in **any order**.\n",
    "\n",
    "</aside>"
   ]
  },
  {
   "cell_type": "code",
   "execution_count": 15,
   "id": "5d502dd0",
   "metadata": {},
   "outputs": [],
   "source": [
    "def intersection(a, b, n, m):\n",
    " \n",
    "    i = 0\n",
    "    j = 0\n",
    " \n",
    "    while (i < n and j < m):\n",
    " \n",
    "        if (a[i] > b[j]):\n",
    "            j += 1\n",
    " \n",
    "        else:\n",
    "            if (b[j] > a[i]):\n",
    "                i += 1\n",
    " \n",
    "            else:\n",
    "                # when both are equal\n",
    "                print(a[i], end=\" \")\n",
    "                i += 1\n",
    "                j += 1"
   ]
  },
  {
   "cell_type": "code",
   "execution_count": 17,
   "id": "86d1800a",
   "metadata": {},
   "outputs": [
    {
     "name": "stdout",
     "output_type": "stream",
     "text": [
      "3 5 "
     ]
    }
   ],
   "source": [
    "a = [1, 3, 2, 4, 5, 6]\n",
    "b = [3, 5]\n",
    " \n",
    "n = len(a)\n",
    "m = len(b)\n",
    " \n",
    "a.sort()\n",
    "b.sort()\n",
    "\n",
    "intersection(a, b, n, m)"
   ]
  },
  {
   "cell_type": "markdown",
   "id": "0eaadb5c",
   "metadata": {},
   "source": [
    "💡 8. **Intersection of Two Arrays II**\n",
    "\n",
    "Given two integer arrays `nums1` and `nums2`, return *an array of their intersection*. Each element in the result must appear as many times as it shows in both arrays and you may return the result in **any order**.\n",
    "\n",
    "</aside>"
   ]
  },
  {
   "cell_type": "code",
   "execution_count": 18,
   "id": "ff71a0e1",
   "metadata": {},
   "outputs": [],
   "source": [
    "def intersection(a, b, n, m):\n",
    " \n",
    "    i = 0\n",
    "    j = 0\n",
    " \n",
    "    while (i < n and j < m):\n",
    " \n",
    "        if (a[i] > b[j]):\n",
    "            j += 1\n",
    " \n",
    "        else:\n",
    "            if (b[j] > a[i]):\n",
    "                i += 1\n",
    " \n",
    "            else:\n",
    "                # when both are equal\n",
    "                print(a[i], end=\" \")\n",
    "                i += 1\n",
    "                j += 1"
   ]
  },
  {
   "cell_type": "code",
   "execution_count": 19,
   "id": "a8646890",
   "metadata": {},
   "outputs": [
    {
     "name": "stdout",
     "output_type": "stream",
     "text": [
      "3 5 5 "
     ]
    }
   ],
   "source": [
    "a = [1, 3, 2,3, 4, 5, 6,5]\n",
    "b = [3, 5,5]\n",
    " \n",
    "n = len(a)\n",
    "m = len(b)\n",
    " \n",
    "a.sort()\n",
    "b.sort()\n",
    "\n",
    "intersection(a, b, n, m)"
   ]
  },
  {
   "cell_type": "code",
   "execution_count": null,
   "id": "5d0380dc",
   "metadata": {},
   "outputs": [],
   "source": []
  }
 ],
 "metadata": {
  "kernelspec": {
   "display_name": "Python 3 (ipykernel)",
   "language": "python",
   "name": "python3"
  },
  "language_info": {
   "codemirror_mode": {
    "name": "ipython",
    "version": 3
   },
   "file_extension": ".py",
   "mimetype": "text/x-python",
   "name": "python",
   "nbconvert_exporter": "python",
   "pygments_lexer": "ipython3",
   "version": "3.9.12"
  }
 },
 "nbformat": 4,
 "nbformat_minor": 5
}
