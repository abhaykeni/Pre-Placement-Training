{
 "cells": [
  {
   "cell_type": "markdown",
   "id": "c94eea68",
   "metadata": {},
   "source": [
    "💡 **Question 1**\n",
    "\n",
    "Given an integer `n`, return *`true` if it is a power of three. Otherwise, return `false`*.\n",
    "\n",
    "An integer `n` is a power of three, if there exists an integer `x` such that `n == 3x`.\n",
    "\n"
   ]
  },
  {
   "cell_type": "code",
   "execution_count": 1,
   "id": "50a0439c",
   "metadata": {},
   "outputs": [],
   "source": [
    "def power(n):\n",
    "    if n == 1: return True\n",
    "    if (n < 1 or n % 3 != 0): return False\n",
    "    return power(n//3)"
   ]
  },
  {
   "cell_type": "code",
   "execution_count": 3,
   "id": "b29e5300",
   "metadata": {},
   "outputs": [
    {
     "name": "stdout",
     "output_type": "stream",
     "text": [
      "True\n",
      "False\n",
      "False\n"
     ]
    }
   ],
   "source": [
    "print(power(27))\n",
    "print(power(0))\n",
    "print(power(-1))"
   ]
  },
  {
   "cell_type": "markdown",
   "id": "36f1d24e",
   "metadata": {},
   "source": [
    "💡 **Question 2**\n",
    "\n",
    "You have a list `arr` of all integers in the range `[1, n]` sorted in a strictly increasing order. Apply the following algorithm on `arr`:\n",
    "\n",
    "- Starting from left to right, remove the first number and every other number afterward until you reach the end of the list.\n",
    "- Repeat the previous step again, but this time from right to left, remove the rightmost number and every other number from the remaining numbers.\n",
    "- Keep repeating the steps again, alternating left to right and right to left, until a single number remains.\n",
    "\n",
    "Given the integer `n`, return *the last number that remains in* `arr`.\n",
    "\n",
    "</aside>"
   ]
  },
  {
   "cell_type": "code",
   "execution_count": 22,
   "id": "1c73fddc",
   "metadata": {},
   "outputs": [
    {
     "name": "stdout",
     "output_type": "stream",
     "text": [
      "3\n"
     ]
    }
   ],
   "source": [
    "def last_remaining_number_recursive(n):\n",
    "    if n == 1:\n",
    "        return 1\n",
    "    elif n % 2 == 0:\n",
    "        return 2 * last_remaining_number_recursive(n // 2) - 1\n",
    "    else:\n",
    "        return 2 * last_remaining_number_recursive(n // 2) + 1\n",
    "\n",
    "# Example usage\n",
    "n = 9\n",
    "result = last_remaining_number_recursive(n)\n",
    "print(result)  "
   ]
  },
  {
   "cell_type": "markdown",
   "id": "e405ec66",
   "metadata": {},
   "source": [
    "💡 **Question 3**\n",
    "\n",
    "****Given a set represented as a string, write a recursive code to print all subsets of it. The subsets can be printed in any order.\n",
    "\n",
    "</aside>"
   ]
  },
  {
   "cell_type": "code",
   "execution_count": 13,
   "id": "9c45530b",
   "metadata": {},
   "outputs": [],
   "source": [
    "def powerSet(string, index, curr):\n",
    "    if index == len(string):\n",
    "        print(curr)\n",
    "        return\n",
    "    powerSet(string, index + 1,\n",
    "             curr + string[index])\n",
    "    powerSet(string, index + 1, curr)\n",
    " "
   ]
  },
  {
   "cell_type": "code",
   "execution_count": 14,
   "id": "b4293274",
   "metadata": {},
   "outputs": [
    {
     "name": "stdout",
     "output_type": "stream",
     "text": [
      "abc\n",
      "ab\n",
      "ac\n",
      "a\n",
      "bc\n",
      "b\n",
      "c\n",
      "\n"
     ]
    }
   ],
   "source": [
    "s1 = \"abc\"\n",
    "index = 0\n",
    "curr = \"\"\n",
    "powerSet(s1, index, curr)"
   ]
  },
  {
   "cell_type": "markdown",
   "id": "d67058be",
   "metadata": {},
   "source": [
    "💡 **Question 4**\n",
    "\n",
    "Given a string calculate length of the string using recursion.\n",
    "\n",
    "</aside>"
   ]
  },
  {
   "cell_type": "code",
   "execution_count": 17,
   "id": "3647f7b4",
   "metadata": {},
   "outputs": [],
   "source": [
    "def isString(ch):\n",
    "    return 1\n",
    "  \n",
    "def totalLength(string, n):\n",
    "      \n",
    "    if n == 1:\n",
    "        return isString(string[0])\n",
    "  \n",
    "    return totalLength(string, n - 1) + isString(string[n-1])"
   ]
  },
  {
   "cell_type": "code",
   "execution_count": 18,
   "id": "d91c1776",
   "metadata": {},
   "outputs": [
    {
     "data": {
      "text/plain": [
       "6"
      ]
     },
     "execution_count": 18,
     "metadata": {},
     "output_type": "execute_result"
    }
   ],
   "source": [
    "string = \"abc de\" \n",
    "n = len(string)\n",
    "totalConsonants(string, n)"
   ]
  },
  {
   "cell_type": "markdown",
   "id": "c8d37e08",
   "metadata": {},
   "source": [
    "💡 **Question 5**\n",
    "\n",
    "We are given a string S, we need to find count of all contiguous substrings starting and ending with same character.\n",
    "\n",
    "</aside>"
   ]
  },
  {
   "cell_type": "code",
   "execution_count": 19,
   "id": "4d176863",
   "metadata": {},
   "outputs": [],
   "source": [
    "def countSubstrs(str, i, j, n):\n",
    " \n",
    "    # base cases\n",
    "    if (n == 1):\n",
    "        return 1\n",
    "    if (n <= 0):\n",
    "        return 0\n",
    " \n",
    "    res = (countSubstrs(str, i + 1, j, n - 1)\n",
    "        + countSubstrs(str, i, j - 1, n - 1)\n",
    "        - countSubstrs(str, i + 1, j - 1, n - 2))    \n",
    " \n",
    "    if (str[i] == str[j]):\n",
    "        res += 1\n",
    " \n",
    "    return res\n",
    "\n"
   ]
  },
  {
   "cell_type": "code",
   "execution_count": 20,
   "id": "7e55b276",
   "metadata": {},
   "outputs": [
    {
     "name": "stdout",
     "output_type": "stream",
     "text": [
      "7\n"
     ]
    }
   ],
   "source": [
    "str = \"abcab\"\n",
    "n = len(str)\n",
    "print(countSubstrs(str, 0, n - 1, n))"
   ]
  },
  {
   "cell_type": "markdown",
   "id": "c8692858",
   "metadata": {},
   "source": [
    "💡 **Question 6**\n",
    "\n",
    "The [tower of Hanoi](https://en.wikipedia.org/wiki/Tower_of_Hanoi) is a famous puzzle where we have three rods and **N** disks. The objective of the puzzle is to move the entire stack to another rod. You are given the number of discs **N**. Initially, these discs are in the rod 1. You need to print all the steps of discs movement so that all the discs reach the 3rd rod. Also, you need to find the total moves.**Note:** The discs are arranged such that the **top disc is numbered 1** and the **bottom-most disc is numbered N**. Also, all the discs have **different sizes** and a bigger disc **cannot** be put on the top of a smaller disc. Refer the provided link to get a better clarity about the puzzle.\n",
    "\n",
    "</aside>"
   ]
  },
  {
   "cell_type": "code",
   "execution_count": null,
   "id": "8adcb934",
   "metadata": {},
   "outputs": [],
   "source": []
  },
  {
   "cell_type": "markdown",
   "id": "3c50dee3",
   "metadata": {},
   "source": [
    "\n",
    "💡 **Question 7**\n",
    "\n",
    "Given a string **str**, the task is to print all the permutations of **str**. A **permutation** is an arrangement of all or part of a set of objects, with regard to the order of the arrangement. For instance, the words ‘bat’ and ‘tab’ represents two distinct permutation (or arrangements) of a similar three letter word.\n",
    "\n",
    "</aside>"
   ]
  },
  {
   "cell_type": "code",
   "execution_count": 11,
   "id": "b0dfa03b",
   "metadata": {},
   "outputs": [],
   "source": [
    "def toString(List):\n",
    "    return ''.join(List)\n",
    " \n",
    "def permute(a, l, r):\n",
    "    if l == r:\n",
    "        print(toString(a))\n",
    "    else:\n",
    "        for i in range(l, r):\n",
    "            a[l], a[i] = a[i], a[l]\n",
    "            permute(a, l+1, r)\n",
    "            a[l], a[i] = a[i], a[l] "
   ]
  },
  {
   "cell_type": "code",
   "execution_count": 12,
   "id": "6416a39b",
   "metadata": {},
   "outputs": [
    {
     "name": "stdout",
     "output_type": "stream",
     "text": [
      "ABC\n",
      "ACB\n",
      "BAC\n",
      "BCA\n",
      "CBA\n",
      "CAB\n"
     ]
    }
   ],
   "source": [
    "string = \"ABC\"\n",
    "n = len(string)\n",
    "a = list(string)\n",
    "\n",
    "permute(a, 0, n)"
   ]
  },
  {
   "cell_type": "markdown",
   "id": "eb46743b",
   "metadata": {},
   "source": [
    "💡 **Question 8**\n",
    "\n",
    "Given a string, count total number of consonants in it. A consonant is an English alphabet character that is not vowel (a, e, i, o and u). Examples of constants are b, c, d, f, and g.\n",
    "\n",
    "</aside>"
   ]
  },
  {
   "cell_type": "code",
   "execution_count": 8,
   "id": "7d0c5c97",
   "metadata": {},
   "outputs": [],
   "source": [
    "def isConsonant(ch):\n",
    "    ch = ch.upper()\n",
    "  \n",
    "    return not (ch == 'A' or ch == 'E' or \n",
    "                ch == 'I' or ch == 'O' or \n",
    "                ch == 'U') and ord(ch) >= 65 and ord(ch) <= 90\n",
    "  \n",
    "def totalConsonants(string, n):\n",
    "      \n",
    "    if n == 1:\n",
    "        return isConsonant(string[0])\n",
    "  \n",
    "    return totalConsonants(string, n - 1) + isConsonant(string[n-1])"
   ]
  },
  {
   "cell_type": "code",
   "execution_count": 10,
   "id": "6c7991ba",
   "metadata": {},
   "outputs": [
    {
     "data": {
      "text/plain": [
       "3"
      ]
     },
     "execution_count": 10,
     "metadata": {},
     "output_type": "execute_result"
    }
   ],
   "source": [
    "string = \"abc de\" \n",
    "n = len(string)\n",
    "totalConsonants(string,n)"
   ]
  }
 ],
 "metadata": {
  "kernelspec": {
   "display_name": "Python 3 (ipykernel)",
   "language": "python",
   "name": "python3"
  },
  "language_info": {
   "codemirror_mode": {
    "name": "ipython",
    "version": 3
   },
   "file_extension": ".py",
   "mimetype": "text/x-python",
   "name": "python",
   "nbconvert_exporter": "python",
   "pygments_lexer": "ipython3",
   "version": "3.9.12"
  }
 },
 "nbformat": 4,
 "nbformat_minor": 5
}
