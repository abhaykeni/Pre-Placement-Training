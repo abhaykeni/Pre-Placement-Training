{
 "cells": [
  {
   "cell_type": "markdown",
   "id": "e04b4daa",
   "metadata": {},
   "source": [
    "# Question 1\n",
    "Given an integer array nums of length n and an integer target, find three integers\n",
    "in nums such that the sum is closest to the target.\n",
    "Return the sum of the three integers.\n",
    "\n",
    "You may assume that each input would have exactly one solution.\n",
    "\n",
    "Example 1:\n",
    "\n",
    "Input: nums = [-1,2,1,-4], target = 1\n",
    "\n",
    "Output: 2\n",
    "\n",
    "Explanation: The sum that is closest to the target is 2. (-1 + 2 + 1 = 2)."
   ]
  },
  {
   "cell_type": "code",
   "execution_count": 28,
   "id": "2aea6657",
   "metadata": {},
   "outputs": [],
   "source": [
    "import sys\n",
    " \n",
    "def threesum(arr, target) :\n",
    "    arr.sort();\n",
    "    closestSum = sys.maxsize;\n",
    "    for i in range(len(arr)-2) :\n",
    "        ptr1 = i + 1; ptr2 = len(arr) - 1;\n",
    "        \n",
    "        while (ptr1 < ptr2) :\n",
    "            summ = arr[i] + arr[ptr1] + arr[ptr2];\n",
    "            if (abs(x - summ) < abs(x - closestSum)) :\n",
    "                closestSum = summ;\n",
    "            if (summ > x) :\n",
    "                ptr2 -= 1;\n",
    "            else :\n",
    "                ptr1 += 1;\n",
    "    return closestSum;"
   ]
  },
  {
   "cell_type": "code",
   "execution_count": 29,
   "id": "c00ad2ca",
   "metadata": {},
   "outputs": [
    {
     "name": "stdout",
     "output_type": "stream",
     "text": [
      "2\n"
     ]
    }
   ],
   "source": [
    "nums = [-1,2,1,-4] \n",
    "target = 1\n",
    "print(threesum(nums,target))"
   ]
  },
  {
   "cell_type": "markdown",
   "id": "c9169361",
   "metadata": {},
   "source": [
    "# Question 2\n",
    "\n",
    "Given an array nums of n integers, return an array of all the unique quadruplets\n",
    "\n",
    "[nums[a], nums[b], nums[c], nums[d]] such that:\n",
    "\n",
    "● 0 <= a, b, c, d < n\n",
    "\n",
    "● a, b, c, and d are distinct.\n",
    "\n",
    "● nums[a] + nums[b] + nums[c] + nums[d] == target\n",
    "\n",
    "You may return the answer in any order.\n",
    "\n",
    "Example 1:\n",
    "\n",
    "Input: nums = [1,0,-1,0,-2,2], target = 0\n",
    "\n",
    "Output: [[-2,-1,1,2],[-2,0,0,2],[-1,0,0,1]]"
   ]
  },
  {
   "cell_type": "code",
   "execution_count": 39,
   "id": "f928be7e",
   "metadata": {},
   "outputs": [],
   "source": [
    "class pairSum:\n",
    "    def __init__(self):\n",
    "        self.first = \"\"\n",
    "        self.sec = \"\"\n",
    "        self.sum = \"\"\n",
    "        \n",
    "def noCommon(a, b):\n",
    "    if (a.first == b.first or a.first == b.sec or a.sec == b.first or a.sec == b.sec):\n",
    "        return False\n",
    " \n",
    "    return True\n",
    " \n",
    "def findFourElements(myArr, sum):\n",
    " \n",
    "    length = len(myArr)\n",
    "    size = ((length * (length - 1)) // 2)\n",
    "    aux = [None for _ in range(size)]\n",
    "    k = 0\n",
    "    for i in range(length - 1):\n",
    "        for j in range(i + 1, length):\n",
    "            aux[k] = pairSum()\n",
    "            aux[k].sum = myArr[i] + myArr[j]\n",
    "            aux[k].first = i\n",
    "            aux[k].sec = j\n",
    "            k += 1\n",
    "    aux.sort(key=lambda x: x.sum)\n",
    "    i = 0\n",
    "    j = size - 1\n",
    "    while (i < size and j >= 0):\n",
    "        if ((aux[i].sum + aux[j].sum == sum)\n",
    "                and noCommon(aux[i], aux[j])):\n",
    "            print(myArr[aux[i].first], myArr[aux[i].sec],\n",
    "                  myArr[aux[j].first], myArr[aux[j].sec], sep=\", \")\n",
    "            return\n",
    " \n",
    "        elif (aux[i].sum + aux[j].sum < sum):\n",
    "            i += 1\n",
    "        else:\n",
    "            j -= 1"
   ]
  },
  {
   "cell_type": "code",
   "execution_count": 41,
   "id": "f16ac9ff",
   "metadata": {},
   "outputs": [
    {
     "name": "stdout",
     "output_type": "stream",
     "text": [
      "-1, -2, 1, 2\n"
     ]
    }
   ],
   "source": [
    "nums = [1,0,-1,0,-2,2]\n",
    "target = 0\n",
    "findFourElements(nums,target)"
   ]
  },
  {
   "cell_type": "markdown",
   "id": "77bbfa46",
   "metadata": {},
   "source": [
    "\n",
    "💡 **Question 3**\n",
    "A permutation of an array of integers is an arrangement of its members into a\n",
    "sequence or linear order.\n",
    "\n",
    "For example, for arr = [1,2,3], the following are all the permutations of arr:\n",
    "[1,2,3], [1,3,2], [2, 1, 3], [2, 3, 1], [3,1,2], [3,2,1].\n",
    "\n",
    "The next permutation of an array of integers is the next lexicographically greater\n",
    "permutation of its integer. More formally, if all the permutations of the array are\n",
    "sorted in one container according to their lexicographical order, then the next\n",
    "permutation of that array is the permutation that follows it in the sorted container.\n",
    "\n",
    "If such an arrangement is not possible, the array must be rearranged as the\n",
    "lowest possible order (i.e., sorted in ascending order).\n",
    "\n",
    "● For example, the next permutation of arr = [1,2,3] is [1,3,2].\n",
    "● Similarly, the next permutation of arr = [2,3,1] is [3,1,2].\n",
    "● While the next permutation of arr = [3,2,1] is [1,2,3] because [3,2,1] does not\n",
    "have a lexicographical larger rearrangement.\n",
    "\n",
    "Given an array of integers nums, find the next permutation of nums.\n",
    "The replacement must be in place and use only constant extra memory.\n",
    "\n",
    "**Example 1:**\n",
    "Input: nums = [1,2,3]\n",
    "Output: [1,3,2]\n"
   ]
  },
  {
   "cell_type": "code",
   "execution_count": 31,
   "id": "4d41d47a",
   "metadata": {},
   "outputs": [],
   "source": [
    "def next_permutation(nums):\n",
    "    i = len(nums) - 2\n",
    "    while i >= 0 and nums[i + 1] <= nums[i]:\n",
    "        i -= 1\n",
    "    if i >= 0:\n",
    "        j = len(nums) - 1\n",
    "        while nums[j] <= nums[i]:\n",
    "            j -= 1\n",
    "        nums[i], nums[j] = nums[j], nums[i]\n",
    "    reverse(nums, i + 1)\n",
    "\n",
    "def reverse(nums, start):\n",
    "    i, j = start, len(nums) - 1\n",
    "    while i < j:\n",
    "        nums[i], nums[j] = nums[j], nums[i]\n",
    "        i += 1\n",
    "        j -= 1\n",
    " "
   ]
  },
  {
   "cell_type": "code",
   "execution_count": 33,
   "id": "56e3fc3a",
   "metadata": {},
   "outputs": [
    {
     "name": "stdout",
     "output_type": "stream",
     "text": [
      "[1, 3, 2]\n"
     ]
    }
   ],
   "source": [
    "nums = [1,2,3]\n",
    "next_permutation(nums)\n",
    "print(nums)"
   ]
  },
  {
   "cell_type": "markdown",
   "id": "3fa0185b",
   "metadata": {},
   "source": [
    "# Question 4\n",
    "Given a sorted array of distinct integers and a target value, return the index if the\n",
    "target is found. If not, return the index where it would be if it were inserted in\n",
    "order.\n",
    "\n",
    "You must write an algorithm with O(log n) runtime complexity.\n",
    "\n",
    "Example 1:\n",
    "\n",
    "Input: nums = [1,3,5,6], target = 5\n",
    "\n",
    "Output: 2"
   ]
  },
  {
   "cell_type": "code",
   "execution_count": 42,
   "id": "39a171ab",
   "metadata": {},
   "outputs": [],
   "source": [
    "def target_found(arr,target):\n",
    "    for i in range(0,len(arr)):\n",
    "        if arr[i] == target:\n",
    "            return i\n",
    "        elif target > arr[i] and target <arr[i+1]:\n",
    "            return i+1\n",
    "        elif target < arr[0]:\n",
    "            return 0\n",
    "            break\n",
    "        elif target> arr[len(arr)-1]:\n",
    "            return len(arr)\n",
    "            break"
   ]
  },
  {
   "cell_type": "code",
   "execution_count": 43,
   "id": "94cffb6b",
   "metadata": {},
   "outputs": [
    {
     "name": "stdout",
     "output_type": "stream",
     "text": [
      "2\n"
     ]
    }
   ],
   "source": [
    "arr = [1,3,5,6]\n",
    "target =  5\n",
    "print(target_found(arr,target))"
   ]
  },
  {
   "cell_type": "markdown",
   "id": "adec9313",
   "metadata": {},
   "source": [
    "\n",
    "💡 **Question 5**\n",
    "You are given a large integer represented as an integer array digits, where each\n",
    "digits[i] is the ith digit of the integer. The digits are ordered from most significant\n",
    "to least significant in left-to-right order. The large integer does not contain any\n",
    "leading 0's.\n",
    "\n",
    "Increment the large integer by one and return the resulting array of digits.\n",
    "\n",
    "**Example 1:**\n",
    "Input: digits = [1,2,3]\n",
    "Output: [1,2,4]\n",
    "\n",
    "**Explanation:** The array represents the integer 123.\n",
    "Incrementing by one gives 123 + 1 = 124.\n",
    "Thus, the result should be [1,2,4].\n"
   ]
  },
  {
   "cell_type": "code",
   "execution_count": 44,
   "id": "6bce2168",
   "metadata": {},
   "outputs": [],
   "source": [
    "def inc(a):\n",
    "    for i in range(len(a)-1,-1,-1):\n",
    "        if a[i] == 9:\n",
    "            a[i] = 0\n",
    "        else:\n",
    "            a[i] = a[i]+1\n",
    "            break\n",
    "    return a"
   ]
  },
  {
   "cell_type": "code",
   "execution_count": 45,
   "id": "896e1561",
   "metadata": {},
   "outputs": [
    {
     "name": "stdout",
     "output_type": "stream",
     "text": [
      "[1, 2, 4]\n"
     ]
    }
   ],
   "source": [
    "a = [1,2,3]\n",
    "print(inc(a))"
   ]
  },
  {
   "cell_type": "markdown",
   "id": "7084870a",
   "metadata": {},
   "source": [
    "# Question 6\n",
    "Given a non-empty array of integers nums, every element appears twice except\n",
    "for one. Find that single one.\n",
    "\n",
    "You must implement a solution with a linear runtime complexity and use only\n",
    "constant extra space.\n",
    "\n",
    "Example 1:\n",
    "Input: nums = [2,2,1]\n",
    "Output: 1"
   ]
  },
  {
   "cell_type": "code",
   "execution_count": 46,
   "id": "7eeebdf8",
   "metadata": {},
   "outputs": [],
   "source": [
    "def twice(a):\n",
    "    hashmap = dict()\n",
    "    for i in a:\n",
    "        if i in hashmap.keys():\n",
    "            hashmap[i] = hashmap[i]+1\n",
    "        else:\n",
    "            hashmap[i] = 1\n",
    "\n",
    "    for i in hashmap.keys():\n",
    "        if hashmap[i]==2:\n",
    "            continue\n",
    "        else:\n",
    "            return(i)\n",
    "    "
   ]
  },
  {
   "cell_type": "code",
   "execution_count": 47,
   "id": "1c9688a4",
   "metadata": {},
   "outputs": [
    {
     "name": "stdout",
     "output_type": "stream",
     "text": [
      "1\n"
     ]
    }
   ],
   "source": [
    "a = [2,2,1]\n",
    "print(twice(a))"
   ]
  },
  {
   "cell_type": "markdown",
   "id": "fd94eda2",
   "metadata": {},
   "source": [
    "# Question 7\n",
    "You are given an inclusive range [lower, upper] and a sorted unique integer array\n",
    "nums, where all elements are within the inclusive range.\n",
    "\n",
    "A number x is considered missing if x is in the range [lower, upper] and x is not in\n",
    "nums.\n",
    "\n",
    "Return the shortest sorted list of ranges that exactly covers all the missing\n",
    "numbers. That is, no element of nums is included in any of the ranges, and each\n",
    "missing number is covered by one of the ranges.\n",
    "\n",
    "Example 1:\n",
    "Input: nums = [0,1,3,50,75], lower = 0, upper = 99\n",
    "Output: [[2,2],[4,49],[51,74],[76,99]]\n",
    "\n",
    "Explanation: The ranges are:\n",
    "[2,2]\n",
    "[4,49]\n",
    "[51,74]\n",
    "[76,99]"
   ]
  },
  {
   "cell_type": "code",
   "execution_count": 48,
   "id": "ba0298f5",
   "metadata": {},
   "outputs": [],
   "source": [
    "def range_complete(a):\n",
    "    l=[]\n",
    "    lower = 0\n",
    "    upper = 100\n",
    "    for i in range(len(a)-1):\n",
    "        if a[i+1]-a[i]==1:\n",
    "            continue\n",
    "        elif a[i+1]-a[i]==2:\n",
    "            if a[i]+1 in range(lower,upper):\n",
    "                l.append([a[i]+1,a[i]+1])\n",
    "        else:\n",
    "            if a[i]+1 in range(lower,upper) and a[i+1]-1 in range(lower,upper):\n",
    "                l.append([(a[i]+1),(a[i+1]-1)])\n",
    "            elif a[i]+1 in range(lower,upper) and a[i+1]-1 not in range(lower,upper):\n",
    "                l.append([(a[i]+1),upper])\n",
    "            elif a[i]+1 not in range(lower,upper) and a[i+1]-1 in range(lower,upper):\n",
    "                continue\n",
    "    if a[len(a)-1] in range(lower,upper):\n",
    "        l.append([a[len(a)-1]+1,upper-1])\n",
    "\n",
    "    return(l)"
   ]
  },
  {
   "cell_type": "code",
   "execution_count": 49,
   "id": "e1c7ef07",
   "metadata": {},
   "outputs": [
    {
     "name": "stdout",
     "output_type": "stream",
     "text": [
      "[[2, 2], [4, 49], [51, 74], [76, 99]]\n"
     ]
    }
   ],
   "source": [
    "a = [0,1,3,50,75]\n",
    "print(range_complete(a))"
   ]
  },
  {
   "cell_type": "markdown",
   "id": "4f181a48",
   "metadata": {},
   "source": [
    "# Question 8\n",
    "Given an array of meeting time intervals where intervals[i] = [starti, endi],\n",
    "determine if a person could attend all meetings.\n",
    "\n",
    "Example 1:\n",
    "\n",
    "Input: intervals = [[0,30],[5,10],[15,20]]\n",
    "\n",
    "Output: false"
   ]
  },
  {
   "cell_type": "code",
   "execution_count": 53,
   "id": "217f0b3a",
   "metadata": {},
   "outputs": [],
   "source": [
    "def interval(a):\n",
    "    count = 0\n",
    "    for i in range(len(a)-1):\n",
    "        if a[i][1]>a[i+1][0]:\n",
    "            return(False)\n",
    "            count = 1\n",
    "        else:\n",
    "            continue\n",
    "    if count == 0:\n",
    "        return(True)"
   ]
  },
  {
   "cell_type": "code",
   "execution_count": 54,
   "id": "6994a5c7",
   "metadata": {},
   "outputs": [
    {
     "name": "stdout",
     "output_type": "stream",
     "text": [
      "False\n"
     ]
    }
   ],
   "source": [
    "a = [[0,30],[5,10],[15,20]]\n",
    "print(interval(a))"
   ]
  },
  {
   "cell_type": "code",
   "execution_count": null,
   "id": "db9ac071",
   "metadata": {},
   "outputs": [],
   "source": []
  }
 ],
 "metadata": {
  "kernelspec": {
   "display_name": "Python 3 (ipykernel)",
   "language": "python",
   "name": "python3"
  },
  "language_info": {
   "codemirror_mode": {
    "name": "ipython",
    "version": 3
   },
   "file_extension": ".py",
   "mimetype": "text/x-python",
   "name": "python",
   "nbconvert_exporter": "python",
   "pygments_lexer": "ipython3",
   "version": "3.9.12"
  }
 },
 "nbformat": 4,
 "nbformat_minor": 5
}
