{
 "cells": [
  {
   "cell_type": "markdown",
   "id": "15f893e4",
   "metadata": {},
   "source": [
    "💡 **Question 1**\n",
    "\n",
    "Given an array **arr[ ]** of size **N** having elements, the task is to find the next greater element for each element of the array in order of their appearance in the array.Next greater element of an element in the array is the nearest element on the right which is greater than the current element.If there does not exist next greater of current element, then next greater element for current element is -1. For example, next greater of the last element is always -1.\n",
    "\n",
    "</aside>"
   ]
  },
  {
   "cell_type": "code",
   "execution_count": 41,
   "id": "570648ec",
   "metadata": {},
   "outputs": [],
   "source": [
    "def createStack():\n",
    "    stack = []\n",
    "    return stack\n",
    " \n",
    "def isEmpty(stack):\n",
    "    return len(stack) == 0 \n",
    " \n",
    "def push(stack, x):\n",
    "    stack.append(x)\n",
    " \n",
    " \n",
    "def pop(stack):\n",
    "    if isEmpty(stack):\n",
    "        print(\"Error : stack underflow\")\n",
    "    else:\n",
    "        return stack.pop()\n",
    " \n",
    " \n",
    "def printNGE(arr):\n",
    "    s = createStack()\n",
    "    element = 0\n",
    "    next = 0\n",
    "    push(s, arr[0])\n",
    "    for i in range(1, len(arr), 1):\n",
    "        next = arr[i]\n",
    " \n",
    "        if isEmpty(s) == False:\n",
    "            element = pop(s)\n",
    "            while element < next:\n",
    "                print(str(element) + \" -- \" + str(next))\n",
    "                if isEmpty(s) == True:\n",
    "                    break\n",
    "                element = pop(s)\n",
    "            if element > next:\n",
    "                push(s, element)\n",
    "        push(s, next)\n",
    " \n",
    "    while isEmpty(s) == False:\n",
    "        element = pop(s)\n",
    "        next = -1\n",
    "        print(str(element) + \" -- \" + str(next))"
   ]
  },
  {
   "cell_type": "code",
   "execution_count": 43,
   "id": "7de0bc59",
   "metadata": {},
   "outputs": [
    {
     "name": "stdout",
     "output_type": "stream",
     "text": [
      "1 -- 3\n",
      "2 -- 4\n",
      "3 -- 4\n",
      "4 -- -1\n"
     ]
    }
   ],
   "source": [
    "arr = [1, 3, 2, 4]\n",
    "printNGE(arr)"
   ]
  },
  {
   "cell_type": "markdown",
   "id": "fe7966e5",
   "metadata": {},
   "source": [
    "💡 **Question 2**\n",
    "\n",
    "Given an array **a** of integers of length **n**, find the nearest smaller number for every element such that the smaller element is on left side.If no small element present on the left print -1.\n",
    "\n",
    "</aside>"
   ]
  },
  {
   "cell_type": "code",
   "execution_count": 28,
   "id": "fe04195f",
   "metadata": {},
   "outputs": [],
   "source": [
    "def printPrevSmaller(arr, n):\n",
    "    S = list()\n",
    "\n",
    "    for i in range(n):\n",
    "        while (len(S) > 0 and S[-1] >= arr[i]):\n",
    "            S.pop()\n",
    "        if (len(S) == 0):\n",
    "            print(\"-1 \", end = \" \")\n",
    "        else:\n",
    "            print(S[-1], end = \" \")\n",
    "        S.append(arr[i])"
   ]
  },
  {
   "cell_type": "code",
   "execution_count": 30,
   "id": "391eaf72",
   "metadata": {},
   "outputs": [
    {
     "name": "stdout",
     "output_type": "stream",
     "text": [
      "-1  1 -1  0 3 4 "
     ]
    }
   ],
   "source": [
    "arr = [ 1, 5, 0, 3, 4, 5]\n",
    "n = len(arr)\n",
    "printPrevSmaller(arr, n)"
   ]
  },
  {
   "cell_type": "markdown",
   "id": "88c17f09",
   "metadata": {},
   "source": [
    "💡 **Question 3**\n",
    "\n",
    "Implement a Stack using two queues **q1** and **q2**.\n",
    "\n",
    "</aside>"
   ]
  },
  {
   "cell_type": "code",
   "execution_count": 46,
   "id": "c90fae28",
   "metadata": {},
   "outputs": [],
   "source": [
    "from _collections import deque \n",
    " \n",
    "class Stack:\n",
    "    def __init__(self):\n",
    "        self.q1 = deque()\n",
    "        self.q2 = deque()\n",
    " \n",
    "    def push(self, x):\n",
    "        self.q1.append(x)\n",
    " \n",
    "    def pop(self):\n",
    "        if (not self.q1):\n",
    "            return\n",
    "        while(len(self.q1) != 1):\n",
    "            self.q2.append(self.q1.popleft())\n",
    "        self.q1, self.q2 = self.q2, self.q1\n",
    " \n",
    "    def top(self):\n",
    "        if (not self.q1):\n",
    "            return\n",
    "        while(len(self.q1) != 1):\n",
    "            self.q2.append(self.q1.popleft())\n",
    "            \n",
    "        top = self.q1[0]\n",
    "        self.q2.append(self.q1.popleft())\n",
    "        self.q1, self.q2 = self.q2, self.q1\n",
    "        return top\n",
    " \n",
    "    def size(self):\n",
    "        return len(self.q1)"
   ]
  },
  {
   "cell_type": "code",
   "execution_count": 4,
   "id": "b1bef686",
   "metadata": {},
   "outputs": [
    {
     "name": "stdout",
     "output_type": "stream",
     "text": [
      "current size:  3\n",
      "3\n",
      "2\n",
      "1\n",
      "current size:  3\n",
      "current size:  2\n"
     ]
    }
   ],
   "source": [
    "s = Stack()\n",
    "s.push(1)\n",
    "s.push(2)\n",
    "s.push(3)\n",
    " \n",
    "print(\"current size: \", s.size())\n",
    "print(s.top())\n",
    "s.pop()\n",
    "print(s.top())\n",
    "s.pop()\n",
    "print(s.top())\n",
    " \n",
    "print(\"current size: \", s.size())\n",
    "\n",
    "s.pop()\n",
    "print(\"current size: \", s.size())"
   ]
  },
  {
   "cell_type": "markdown",
   "id": "a0e68c08",
   "metadata": {},
   "source": [
    "💡 **Question 4**\n",
    "\n",
    "You are given a stack **St**. You have to reverse the stack using recursion.\n",
    "\n",
    "</aside>"
   ]
  },
  {
   "cell_type": "code",
   "execution_count": 22,
   "id": "7ec24fec",
   "metadata": {},
   "outputs": [],
   "source": [
    "class Stack:        \n",
    "    def __init__(self):\n",
    "        self.stack = []\n",
    "         \n",
    "    def isEmpty(stack):\n",
    "        return len(self.stack) == 0\n",
    "\n",
    "    def push(self,item):\n",
    "        self.stack.append(item)\n",
    "\n",
    "    def pop(self):\n",
    "        if(isEmpty(self.stack)):\n",
    "            print(\"Stack Underflow \")\n",
    "            exit(1)\n",
    "        return self.stack.pop()\n",
    "\n",
    "    def prints(self):\n",
    "        for i in range(len(self.stack)-1, -1, -1):\n",
    "            print(stack[i], end=' ')\n",
    "        print()\n",
    "        \n",
    "    def insertAtBottom(self, item):\n",
    "        if isEmpty(self.stack):\n",
    "            self.push(item)\n",
    "        else:\n",
    "            temp = self.pop()\n",
    "            self.insertAtBottom(item)\n",
    "            self.push(temp)\n",
    "                 \n",
    "    def reverse(self):\n",
    "        if not isEmpty(self.stack):\n",
    "            temp = self.pop()\n",
    "            self.reverse()\n",
    "            self.insertAtBottom(temp)"
   ]
  },
  {
   "cell_type": "code",
   "execution_count": 23,
   "id": "c5db57fb",
   "metadata": {},
   "outputs": [
    {
     "name": "stdout",
     "output_type": "stream",
     "text": [
      "Original Stack \n",
      "4 3 2 1 \n",
      "Reversed Stack \n",
      "4 3 2 1 \n"
     ]
    }
   ],
   "source": [
    "s1 = Stack()\n",
    "s1.push(4) \n",
    "s1.push(3)\n",
    "s1.push(2) \n",
    "s1.push(1)\n",
    "print(\"Original Stack \")\n",
    "s1.prints()\n",
    " \n",
    "s1.reverse()\n",
    " \n",
    "print(\"Reversed Stack \")\n",
    "s1.prints()"
   ]
  },
  {
   "cell_type": "markdown",
   "id": "0659f0c0",
   "metadata": {},
   "source": [
    "💡 **Question 5**\n",
    "\n",
    "You are given a string **S**, the task is to reverse the string using stack.\n",
    "\n",
    "</aside>"
   ]
  },
  {
   "cell_type": "code",
   "execution_count": 11,
   "id": "32bd8a2d",
   "metadata": {},
   "outputs": [],
   "source": [
    "class Stack:\n",
    "    def __init__(self):\n",
    "        self.stack = []\n",
    "        \n",
    "    def size(self):\n",
    "        return len(self.stack)\n",
    "    \n",
    "    def push(self,data):\n",
    "        self.stack.append(data)\n",
    "    \n",
    "    def pop(self):\n",
    "        if self.size()==0:\n",
    "            return None\n",
    "        return self.stack.pop()\n",
    "    \n",
    "def reverseString(string):\n",
    "    s1 = Stack()\n",
    "    for i in string:\n",
    "        s1.push(i)\n",
    "    rev = \"\"\n",
    "    while(len(s1.stack)!=0):\n",
    "        rev = rev + s1.pop()\n",
    "    return rev"
   ]
  },
  {
   "cell_type": "code",
   "execution_count": 13,
   "id": "5d77c222",
   "metadata": {},
   "outputs": [
    {
     "name": "stdout",
     "output_type": "stream",
     "text": [
      "skeeGrofskeeG\n"
     ]
    }
   ],
   "source": [
    "string = \"GeeksforGeeks\"\n",
    "print(reverseString(string))"
   ]
  },
  {
   "cell_type": "markdown",
   "id": "75b5ba46",
   "metadata": {},
   "source": [
    "💡 **Question 6**\n",
    "\n",
    "Given string **S** representing a postfix expression, the task is to evaluate the expression and find the final value. Operators will only include the basic arithmetic operators like ***, /, + and -**.\n",
    "\n",
    "</aside>"
   ]
  },
  {
   "cell_type": "code",
   "execution_count": 31,
   "id": "c1424be5",
   "metadata": {},
   "outputs": [],
   "source": [
    "class Evaluate:\n",
    "    def __init__(self, capacity):\n",
    "        self.top = -1\n",
    "        self.capacity = capacity\n",
    "        self.array = []\n",
    " \n",
    "    def isEmpty(self):\n",
    "        return True if self.top == -1 else False\n",
    " \n",
    "    def peek(self):\n",
    "        return self.array[-1]\n",
    "\n",
    "    def pop(self):\n",
    "        if not self.isEmpty():\n",
    "            self.top -= 1\n",
    "            return self.array.pop()\n",
    "        else:\n",
    "            return \"$\"\n",
    " \n",
    "    def push(self, op):\n",
    "        self.top += 1\n",
    "        self.array.append(op)\n",
    " \n",
    "    def evaluatePostfix(self, exp):\n",
    "        for i in exp:\n",
    "            if i.isdigit():\n",
    "                self.push(i)\n",
    "            else:\n",
    "                val1 = self.pop()\n",
    "                val2 = self.pop()\n",
    "                self.push(str(eval(val2 + i + val1)))\n",
    " \n",
    "        return int(self.pop())"
   ]
  },
  {
   "cell_type": "code",
   "execution_count": 32,
   "id": "51d05dde",
   "metadata": {},
   "outputs": [
    {
     "name": "stdout",
     "output_type": "stream",
     "text": [
      "postfix evaluation: -4\n"
     ]
    }
   ],
   "source": [
    "exp = \"231*+9-\"\n",
    "obj = Evaluate(len(exp))\n",
    "print(\"postfix evaluation: %d\" % (obj.evaluatePostfix(exp)))"
   ]
  },
  {
   "cell_type": "markdown",
   "id": "34f3303e",
   "metadata": {},
   "source": [
    "💡 **Question 7**\n",
    "\n",
    "Design a stack that supports push, pop, top, and retrieving the minimum element in constant time.\n",
    "\n",
    "Implement the `MinStack` class:\n",
    "\n",
    "- `MinStack()` initializes the stack object.\n",
    "- `void push(int val)` pushes the element `val` onto the stack.\n",
    "- `void pop()` removes the element on the top of the stack.\n",
    "- `int top()` gets the top element of the stack.\n",
    "- `int getMin()` retrieves the minimum element in the stack.\n",
    "\n",
    "You must implement a solution with `O(1)` time complexity for each function.\n",
    "\n",
    "</aside>"
   ]
  },
  {
   "cell_type": "code",
   "execution_count": 33,
   "id": "4d59caf5",
   "metadata": {},
   "outputs": [],
   "source": [
    "class Stack:\n",
    "    def __init__(self):\n",
    "        self.stack = []\n",
    "        \n",
    "    def size(self):\n",
    "        return len(self.stack)\n",
    "    \n",
    "    def push(self,data):\n",
    "        self.stack.append(data)\n",
    "    \n",
    "    def pop(self):\n",
    "        if self.size()==0:\n",
    "            return None\n",
    "        return self.stack.pop()\n",
    "    \n",
    "    def getMin(self):\n",
    "        return(min(self.stack))"
   ]
  },
  {
   "cell_type": "code",
   "execution_count": 39,
   "id": "b8b0e7b0",
   "metadata": {},
   "outputs": [
    {
     "name": "stdout",
     "output_type": "stream",
     "text": [
      "Stack Contents: [4, 9, 1, 11]\n",
      "Stack Contents: [4, 9, 1]\n",
      "Minimum element in Stack: 1\n"
     ]
    }
   ],
   "source": [
    "s1 = Stack()\n",
    "s1.push(4)\n",
    "s1.push(9)\n",
    "s1.push(1)\n",
    "s1.push(11)\n",
    "\n",
    "print(\"Stack Contents:\",s1.stack)\n",
    "s1.pop()\n",
    "print(\"Stack Contents:\",s1.stack)\n",
    "print(\"Minimum element in Stack:\",s1.getMin())"
   ]
  },
  {
   "cell_type": "markdown",
   "id": "04335e68",
   "metadata": {},
   "source": [
    "💡 **Question 8**\n",
    "\n",
    "Given `n` non-negative integers representing an elevation map where the width of each bar is `1`, compute how much water it can trap after raining.\n",
    "\n",
    "</aside>"
   ]
  },
  {
   "cell_type": "code",
   "execution_count": 44,
   "id": "d20eff4a",
   "metadata": {},
   "outputs": [],
   "source": [
    "def maxWater(height):\n",
    "    stack = []\n",
    "    n = len(height)\n",
    "    ans = 0\n",
    "    for i in range(n):\n",
    "        while(len(stack) != 0 and (height[stack[-1]] < height[i])):\n",
    "            pop_height = height[stack[-1]]\n",
    "            stack.pop()\n",
    "            if(len(stack) == 0):\n",
    "                break\n",
    "            distance = i - stack[-1] - 1\n",
    "            min_height = min(height[stack[-1]], height[i])-pop_height\n",
    "  \n",
    "            ans += distance * min_height\n",
    "        stack.append(i)\n",
    "    return ans"
   ]
  },
  {
   "cell_type": "code",
   "execution_count": 45,
   "id": "77f1ecac",
   "metadata": {},
   "outputs": [
    {
     "name": "stdout",
     "output_type": "stream",
     "text": [
      "6\n"
     ]
    }
   ],
   "source": [
    "arr = [0, 1, 0, 2, 1, 0, 1, 3, 2, 1, 2, 1]\n",
    "print(maxWater(arr))"
   ]
  },
  {
   "cell_type": "code",
   "execution_count": null,
   "id": "c8fed360",
   "metadata": {},
   "outputs": [],
   "source": []
  }
 ],
 "metadata": {
  "kernelspec": {
   "display_name": "Python 3 (ipykernel)",
   "language": "python",
   "name": "python3"
  },
  "language_info": {
   "codemirror_mode": {
    "name": "ipython",
    "version": 3
   },
   "file_extension": ".py",
   "mimetype": "text/x-python",
   "name": "python",
   "nbconvert_exporter": "python",
   "pygments_lexer": "ipython3",
   "version": "3.9.12"
  }
 },
 "nbformat": 4,
 "nbformat_minor": 5
}
