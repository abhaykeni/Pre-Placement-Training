{
 "cells": [
  {
   "cell_type": "markdown",
   "id": "9dfe57a8",
   "metadata": {},
   "source": [
    "💡 **Question 1**\n",
    "\n",
    "Given two strings s1 and s2, return *the lowest **ASCII** sum of deleted characters to make two strings equal*.\n",
    "\n",
    "**Example 1:**\n",
    "\n",
    "**Input:** s1 = \"sea\", s2 = \"eat\"\n",
    "\n",
    "**Output:** 231\n",
    "\n",
    "**Explanation:** Deleting \"s\" from \"sea\" adds the ASCII value of \"s\" (115) to the sum.\n",
    "\n",
    "Deleting \"t\" from \"eat\" adds 116 to the sum.\n",
    "\n",
    "At the end, both strings are equal, and 115 + 116 = 231 is the minimum sum possible to achieve this.\n",
    "\n",
    "</aside>"
   ]
  },
  {
   "cell_type": "code",
   "execution_count": 78,
   "id": "48ae7dfe",
   "metadata": {},
   "outputs": [],
   "source": [
    "def asciival(s1,s2):    \n",
    "    summ = 0\n",
    "    for i in range(len(s1)):\n",
    "        if s1[i] not in s2:\n",
    "            summ += ord(s1[i])\n",
    "\n",
    "        if s2[i] not in s1:\n",
    "            summ += ord(s2[i])\n",
    "    return(summ)"
   ]
  },
  {
   "cell_type": "code",
   "execution_count": 79,
   "id": "23989f35",
   "metadata": {},
   "outputs": [
    {
     "name": "stdout",
     "output_type": "stream",
     "text": [
      "231\n"
     ]
    }
   ],
   "source": [
    "s1 = \"sea\"\n",
    "s2 = \"eat\"\n",
    "print(asciival(s1,s2))"
   ]
  },
  {
   "cell_type": "markdown",
   "id": "72c4bb87",
   "metadata": {},
   "source": [
    "💡 **Question 2**\n",
    "\n",
    "Given a string s containing only three types of characters: '(', ')' and '*', return true *if* s *is **valid***.\n",
    "\n",
    "The following rules define a **valid** string:\n",
    "\n",
    "- Any left parenthesis '(' must have a corresponding right parenthesis ')'.\n",
    "- Any right parenthesis ')' must have a corresponding left parenthesis '('.\n",
    "- Left parenthesis '(' must go before the corresponding right parenthesis ')'.\n",
    "- '*' could be treated as a single right parenthesis ')' or a single left parenthesis '(' or an empty string \"\".\n",
    "\n",
    "**Example 1:**\n",
    "\n",
    "**Input:** s = \"()\"\n",
    "\n",
    "**Output:**\n",
    "\n",
    "true\n",
    "\n",
    "</aside>"
   ]
  },
  {
   "cell_type": "code",
   "execution_count": 88,
   "id": "1dcc6eb3",
   "metadata": {},
   "outputs": [],
   "source": [
    "def valid(s):    \n",
    "    if not (s[0]!='(' or s[0]!='*'):\n",
    "        print(0)\n",
    "        return False\n",
    "    elif not(s[len(s)-1]!=')' or s[len(s)-1]!='*'):\n",
    "        print(10)\n",
    "        return False\n",
    "    elif '(' in s[1:len(s)-1] or ')' in s[1:len(s)-1]:\n",
    "        return False\n",
    "    else:\n",
    "        return True"
   ]
  },
  {
   "cell_type": "code",
   "execution_count": 93,
   "id": "6dbf8e1c",
   "metadata": {},
   "outputs": [
    {
     "name": "stdout",
     "output_type": "stream",
     "text": [
      "True\n"
     ]
    }
   ],
   "source": [
    "s = \"()\"\n",
    "print(valid(s))"
   ]
  },
  {
   "cell_type": "markdown",
   "id": "1940e3a3",
   "metadata": {},
   "source": [
    "💡 **Question 3**\n",
    "\n",
    "Given two strings word1 and word2, return *the minimum number of **steps** required to make* word1 *and* word2 *the same*.\n",
    "\n",
    "In one **step**, you can delete exactly one character in either string.\n",
    "\n",
    "**Example 1:**\n",
    "\n",
    "**Input:** word1 = \"sea\", word2 = \"eat\"\n",
    "\n",
    "**Output:** 2\n",
    "\n",
    "**Explanation:** You need one step to make \"sea\" to \"ea\" and another step to make \"eat\" to \"ea\".\n",
    "\n",
    "</aside>"
   ]
  },
  {
   "cell_type": "code",
   "execution_count": 95,
   "id": "a1c1d3ab",
   "metadata": {},
   "outputs": [],
   "source": [
    "def stringsame(s1,s2):    \n",
    "    summ = 0\n",
    "    for i in range(len(s1)):\n",
    "        if s1[i] not in s2:\n",
    "            summ += 1\n",
    "\n",
    "        if s2[i] not in s1:\n",
    "            summ += 1\n",
    "    return(summ)"
   ]
  },
  {
   "cell_type": "code",
   "execution_count": 96,
   "id": "dad1b242",
   "metadata": {},
   "outputs": [
    {
     "name": "stdout",
     "output_type": "stream",
     "text": [
      "2\n"
     ]
    }
   ],
   "source": [
    "s1 = \"sea\"\n",
    "s2 = \"eat\"\n",
    "print(stringsame(s1,s2))"
   ]
  },
  {
   "cell_type": "markdown",
   "id": "f64e6bff",
   "metadata": {},
   "source": [
    "💡 **Question 4**\n",
    "\n",
    "You need to construct a binary tree from a string consisting of parenthesis and integers.\n",
    "\n",
    "The whole input represents a binary tree. It contains an integer followed by zero, one or two pairs of parenthesis. The integer represents the root's value and a pair of parenthesis contains a child binary tree with the same structure.\n",
    "You always start to construct the **left** child node of the parent first if it exists.\n",
    "\n",
    "**Input:** s = \"4(2(3)(1))(6(5))\"\n",
    "\n",
    "**Output:** [4,2,6,3,1,5]"
   ]
  },
  {
   "cell_type": "code",
   "execution_count": 103,
   "id": "13624178",
   "metadata": {},
   "outputs": [],
   "source": [
    "class newNode:\n",
    "    def __init__(self, data):\n",
    "        self.data = data\n",
    "        self.left = self.right = None\n",
    " \n",
    " \n",
    "def preOrder(node):\n",
    "    if (node == None):\n",
    "        return\n",
    "    print(node.data, end=\" \")\n",
    "    preOrder(node.left)\n",
    "    preOrder(node.right)\n",
    " \n",
    " \n",
    "def treeFromStringHelper(si, ei, arr, root):\n",
    " \n",
    "    if si[0] >= ei:\n",
    "        return None\n",
    " \n",
    "    if arr[si[0]] == \"(\":\n",
    " \n",
    "        if arr[si[0]+1] != \")\":\n",
    "            if root.left is None:\n",
    "                if si[0] >= ei:\n",
    "                    return\n",
    "                new_root = newNode(arr[si[0]+1])\n",
    "                root.left = new_root\n",
    "                si[0] += 2\n",
    "                treeFromStringHelper(si, ei, arr, new_root)\n",
    " \n",
    "        else:\n",
    "            si[0] += 2\n",
    " \n",
    "        if root.right is None:\n",
    "            if si[0] >= ei:\n",
    "                return\n",
    " \n",
    "            if arr[si[0]] != \"(\":\n",
    "                si[0] += 1\n",
    "                return\n",
    " \n",
    "            new_root = newNode(arr[si[0]+1])\n",
    "            root.right = new_root\n",
    "            si[0] += 2\n",
    "            treeFromStringHelper(si, ei, arr, new_root)\n",
    "        else:\n",
    "            return\n",
    " \n",
    "    if arr[si[0]] == \")\":\n",
    "        if si[0] >= ei:\n",
    "            return\n",
    "        si[0] += 1\n",
    "        return\n",
    " \n",
    "    return\n",
    " \n",
    "def treeFromString(string):\n",
    " \n",
    "    root = newNode(string[0])\n",
    " \n",
    "    if len(string) > 1:\n",
    "        si = [1]\n",
    "        ei = len(string)-1\n",
    " \n",
    "        treeFromStringHelper(si, ei, string, root)\n",
    " \n",
    "    return root"
   ]
  },
  {
   "cell_type": "code",
   "execution_count": 104,
   "id": "b3e06fe4",
   "metadata": {},
   "outputs": [
    {
     "name": "stdout",
     "output_type": "stream",
     "text": [
      "4 2 3 1 6 5 "
     ]
    }
   ],
   "source": [
    "Str = \"4(2(3)(1))(6(5))\"\n",
    "root = treeFromString(Str)\n",
    "preOrder(root)"
   ]
  },
  {
   "cell_type": "markdown",
   "id": "6e9785f3",
   "metadata": {},
   "source": [
    "💡 **Question 5**\n",
    "\n",
    "Given an array of characters chars, compress it using the following algorithm:\n",
    "\n",
    "Begin with an empty string s. For each group of **consecutive repeating characters** in chars:\n",
    "\n",
    "- If the group's length is 1, append the character to s.\n",
    "- Otherwise, append the character followed by the group's length.\n",
    "\n",
    "The compressed string s **should not be returned separately**, but instead, be stored **in the input character array chars**. Note that group lengths that are 10 or longer will be split into multiple characters in chars.\n",
    "\n",
    "After you are done **modifying the input array,** return *the new length of the array*.\n",
    "\n",
    "You must write an algorithm that uses only constant extra space.\n",
    "\n",
    "**Example 1:**\n",
    "\n",
    "**Input:** chars = [\"a\",\"a\",\"b\",\"b\",\"c\",\"c\",\"c\"]\n",
    "\n",
    "**Output:** Return 6, and the first 6 characters of the input array should be: [\"a\",\"2\",\"b\",\"2\",\"c\",\"3\"]\n",
    "\n",
    "**Explanation:**\n",
    "\n",
    "The groups are \"aa\", \"bb\", and \"ccc\". This compresses to \"a2b2c3\".\n",
    "\n",
    "</aside>"
   ]
  },
  {
   "cell_type": "code",
   "execution_count": 46,
   "id": "d54df9a2",
   "metadata": {},
   "outputs": [],
   "source": [
    "def compress(a):\n",
    "    l = []\n",
    "    count = 1\n",
    "    init = a[0]\n",
    "    for i in range(1,len(a)):\n",
    "        if a[i-1]==a[i]:\n",
    "            count = count + 1\n",
    "        else:\n",
    "            l.append(init)\n",
    "            l.append(str(count))\n",
    "            init = a[i]\n",
    "            count = 1\n",
    "    l.append(init)\n",
    "    l.append(str(count))\n",
    "    return \"\".join(l)"
   ]
  },
  {
   "cell_type": "code",
   "execution_count": 47,
   "id": "5a9468f8",
   "metadata": {},
   "outputs": [
    {
     "name": "stdout",
     "output_type": "stream",
     "text": [
      "a2b2c3\n"
     ]
    }
   ],
   "source": [
    "a = [\"a\",\"a\",\"b\",\"b\",\"c\",\"c\",\"c\"]\n",
    "print(compress(a))"
   ]
  },
  {
   "cell_type": "markdown",
   "id": "2ab01441",
   "metadata": {},
   "source": [
    "💡 **Question 6**\n",
    "\n",
    "Given two strings s and p, return *an array of all the start indices of* p*'s anagrams in* s. You may return the answer in **any order**.\n",
    "\n",
    "An **Anagram** is a word or phrase formed by rearranging the letters of a different word or phrase, typically using all the original letters exactly once.\n",
    "\n",
    "**Example 1:**\n",
    "\n",
    "**Input:** s = \"cbaebabacd\", p = \"abc\"\n",
    "\n",
    "**Output:** [0,6]\n",
    "\n",
    "**Explanation:**\n",
    "\n",
    "The substring with start index = 0 is \"cba\", which is an anagram of \"abc\".\n",
    "\n",
    "The substring with start index = 6 is \"bac\", which is an anagram of \"abc\".\n",
    "\n",
    "</aside>"
   ]
  },
  {
   "cell_type": "code",
   "execution_count": 65,
   "id": "a20779e9",
   "metadata": {},
   "outputs": [],
   "source": [
    "def anagram(s,p):\n",
    "    index = []\n",
    "    goal = list(p)\n",
    "    goal.sort()\n",
    "    for i in range(len(s)-len(p)):\n",
    "        l = list(s[i:i+len(p)])\n",
    "        l.sort()\n",
    "        if goal == l:\n",
    "            index.append(i)\n",
    "    return index"
   ]
  },
  {
   "cell_type": "code",
   "execution_count": 66,
   "id": "9f500896",
   "metadata": {},
   "outputs": [
    {
     "name": "stdout",
     "output_type": "stream",
     "text": [
      "[0, 6]\n"
     ]
    }
   ],
   "source": [
    "s = \"cbaebabacd\"\n",
    "p = \"abc\"\n",
    "print(anagram(s,p))"
   ]
  },
  {
   "cell_type": "markdown",
   "id": "81f84b57",
   "metadata": {},
   "source": [
    "💡 **Question 7**\n",
    "\n",
    "Given an encoded string, return its decoded string.\n",
    "\n",
    "The encoding rule is: k[encoded_string], where the encoded_string inside the square brackets is being repeated exactly k times. Note that k is guaranteed to be a positive integer.\n",
    "\n",
    "You may assume that the input string is always valid; there are no extra white spaces, square brackets are well-formed, etc. Furthermore, you may assume that the original data does not contain any digits and that digits are only for those repeat numbers, k. For example, there will not be input like 3a or 2[4].\n",
    "\n",
    "The test cases are generated so that the length of the output will never exceed 105.\n",
    "\n",
    "**Example 1:**\n",
    "\n",
    "**Input:** s = \"3[a]2[bc]\"\n",
    "\n",
    "**Output:** \"aaabcbc\"\n",
    "\n",
    "</aside>"
   ]
  },
  {
   "cell_type": "code",
   "execution_count": 20,
   "id": "73959743",
   "metadata": {},
   "outputs": [],
   "source": [
    "def mult(s):\n",
    "    final = \"\"\n",
    "    for i in s:\n",
    "        if i.isnumeric():\n",
    "            factor = int(i)\n",
    "        elif i == '[':\n",
    "            temp = \"\"\n",
    "        elif i == \"]\":\n",
    "            final = final + factor*temp\n",
    "        else:\n",
    "            temp = temp + i \n",
    "    return final"
   ]
  },
  {
   "cell_type": "code",
   "execution_count": 23,
   "id": "1462e728",
   "metadata": {},
   "outputs": [
    {
     "name": "stdout",
     "output_type": "stream",
     "text": [
      "aaabcbc\n"
     ]
    }
   ],
   "source": [
    "s = \"3[a]2[bc]\"\n",
    "print(mult(s))"
   ]
  },
  {
   "cell_type": "markdown",
   "id": "bb9dc669",
   "metadata": {},
   "source": [
    "💡 **Question 8**\n",
    "\n",
    "Given two strings s and goal, return true *if you can swap two letters in* s *so the result is equal to* goal*, otherwise, return* false*.*\n",
    "\n",
    "Swapping letters is defined as taking two indices i and j (0-indexed) such that i != j and swapping the characters at s[i] and s[j].\n",
    "\n",
    "- For example, swapping at indices 0 and 2 in \"abcd\" results in \"cbad\".\n",
    "\n",
    "**Example 1:**\n",
    "\n",
    "**Input:** s = \"ab\", goal = \"ba\"\n",
    "\n",
    "**Output:** true\n",
    "\n",
    "**Explanation:** You can swap s[0] = 'a' and s[1] = 'b' to get \"ba\", which is equal to goal.\n",
    "\n",
    "</aside>"
   ]
  },
  {
   "cell_type": "code",
   "execution_count": 28,
   "id": "f4be7507",
   "metadata": {},
   "outputs": [],
   "source": [
    "def flipstring(s,goal):\n",
    "    s = list(s)\n",
    "    goal = list(goal)\n",
    "    left = 0\n",
    "    right = len(s)-1\n",
    "    count = 0\n",
    "    while(left<=right):\n",
    "        if s[count] != goal[count]:\n",
    "            temp = s[left]\n",
    "            s[left] = s[right]\n",
    "            s[right] = temp\n",
    "            break\n",
    "        else:\n",
    "            count = count + 1\n",
    "            left = left + 1\n",
    "            rigth = right - 1\n",
    "    if s == goal:\n",
    "        return True\n",
    "    else:\n",
    "        return False"
   ]
  },
  {
   "cell_type": "code",
   "execution_count": 29,
   "id": "3a70564b",
   "metadata": {},
   "outputs": [
    {
     "name": "stdout",
     "output_type": "stream",
     "text": [
      "True\n"
     ]
    }
   ],
   "source": [
    "s = \"ab\"\n",
    "goal = \"ba\"\n",
    "print(flipstring(s,goal))"
   ]
  },
  {
   "cell_type": "code",
   "execution_count": null,
   "id": "bc6d23df",
   "metadata": {},
   "outputs": [],
   "source": []
  }
 ],
 "metadata": {
  "kernelspec": {
   "display_name": "Python 3 (ipykernel)",
   "language": "python",
   "name": "python3"
  },
  "language_info": {
   "codemirror_mode": {
    "name": "ipython",
    "version": 3
   },
   "file_extension": ".py",
   "mimetype": "text/x-python",
   "name": "python",
   "nbconvert_exporter": "python",
   "pygments_lexer": "ipython3",
   "version": "3.9.12"
  }
 },
 "nbformat": 4,
 "nbformat_minor": 5
}
