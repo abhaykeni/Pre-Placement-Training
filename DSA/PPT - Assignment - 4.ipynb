{
 "cells": [
  {
   "cell_type": "markdown",
   "id": "433f0296",
   "metadata": {},
   "source": [
    "💡 **Question 1**\n",
    "Given three integer arrays arr1, arr2 and arr3 **sorted** in **strictly increasing** order, return a sorted array of **only** the integers that appeared in **all** three arrays.\n",
    "\n",
    "**Example 1:**\n",
    "\n",
    "Input: arr1 = [1,2,3,4,5], arr2 = [1,2,5,7,9], arr3 = [1,3,4,5,8]\n",
    "\n",
    "Output: [1,5]\n",
    "\n",
    "**Explanation:** Only 1 and 5 appeared in the three arrays.\n"
   ]
  },
  {
   "cell_type": "code",
   "execution_count": 12,
   "id": "fd6ff083",
   "metadata": {},
   "outputs": [],
   "source": [
    "def array3(arr1,arr2,arr3):\n",
    "    l = []\n",
    "    for i in arr1:\n",
    "        for j in arr2:\n",
    "            for k in arr3:\n",
    "                if i == j == k:\n",
    "                    l.append(i)\n",
    "    return l"
   ]
  },
  {
   "cell_type": "code",
   "execution_count": 13,
   "id": "08f3fddc",
   "metadata": {},
   "outputs": [
    {
     "name": "stdout",
     "output_type": "stream",
     "text": [
      "[1, 5]\n"
     ]
    }
   ],
   "source": [
    "arr1 = [1,2,3,4,5] \n",
    "arr2 = [1,2,5,7,9] \n",
    "arr3 = [1,3,4,5,8]\n",
    "\n",
    "print(array3(arr1,arr2,arr3))            "
   ]
  },
  {
   "cell_type": "markdown",
   "id": "52a056df",
   "metadata": {},
   "source": [
    "💡 **Question 2**\n",
    "\n",
    "Given two **0-indexed** integer arrays nums1 and nums2, return *a list* answer *of size* 2 *where:*\n",
    "\n",
    "- answer[0] *is a list of all **distinct** integers in* nums1 *which are **not** present in* nums2*.*\n",
    "- answer[1] *is a list of all **distinct** integers in* nums2 *which are **not** present in* nums1.\n",
    "\n",
    "**Note** that the integers in the lists may be returned in **any** order.\n",
    "\n",
    "**Example 1:**\n",
    "\n",
    "**Input:** nums1 = [1,2,3], nums2 = [2,4,6]\n",
    "\n",
    "**Output:** [[1,3],[4,6]]\n",
    "\n",
    "**Explanation:**\n",
    "\n",
    "For nums1, nums1[1] = 2 is present at index 0 of nums2, whereas nums1[0] = 1 and nums1[2] = 3 are not present in nums2. Therefore, answer[0] = [1,3].\n",
    "\n",
    "For nums2, nums2[0] = 2 is present at index 1 of nums1, whereas nums2[1] = 4 and nums2[2] = 6 are not present in nums2. Therefore, answer[1] = [4,6].\n",
    "\n"
   ]
  },
  {
   "cell_type": "code",
   "execution_count": 23,
   "id": "b758e865",
   "metadata": {},
   "outputs": [],
   "source": [
    "def distinct(nums1,nums2):\n",
    "    l1, l2 = [], []\n",
    "    for i in nums1:\n",
    "        if i in nums1 and i not in nums2:\n",
    "            l1.append(i)\n",
    "    for j in nums2:\n",
    "        if j in nums2 and j not in nums1:\n",
    "            l2.append(j)\n",
    "    return l1,l2"
   ]
  },
  {
   "cell_type": "code",
   "execution_count": 24,
   "id": "8f4581b4",
   "metadata": {},
   "outputs": [
    {
     "name": "stdout",
     "output_type": "stream",
     "text": [
      "([1, 3], [4, 6])\n"
     ]
    }
   ],
   "source": [
    "nums1 = [1,2,3] \n",
    "nums2 = [2,4,6]\n",
    "print(distinct(nums1,nums2))"
   ]
  },
  {
   "cell_type": "markdown",
   "id": "d640324c",
   "metadata": {},
   "source": [
    "💡 **Question 3**\n",
    "Given a 2D integer array matrix, return *the **transpose** of* matrix.\n",
    "\n",
    "The **transpose** of a matrix is the matrix flipped over its main diagonal, switching the matrix's row and column indices.\n",
    "\n",
    "**Example 1:**\n",
    "\n",
    "Input: matrix = [[1,2,3],[4,5,6],[7,8,9]]\n",
    "\n",
    "Output: [[1,4,7],[2,5,8],[3,6,9]]\n"
   ]
  },
  {
   "cell_type": "code",
   "execution_count": 29,
   "id": "134e5eed",
   "metadata": {},
   "outputs": [],
   "source": [
    "def transpose(A):\n",
    "    R = len(A)\n",
    "    C = len(A[0])\n",
    "    ans = [[0 for _ in range(R)] for _ in range(C)]\n",
    "    for r in range(R):\n",
    "        for c in range(C):\n",
    "            ans[c][r] = A[r][c]\n",
    "    return ans"
   ]
  },
  {
   "cell_type": "code",
   "execution_count": 30,
   "id": "4c595ec8",
   "metadata": {},
   "outputs": [
    {
     "name": "stdout",
     "output_type": "stream",
     "text": [
      "[[1, 4, 7], [2, 5, 8], [3, 6, 9]]\n"
     ]
    }
   ],
   "source": [
    "matrix = [[1,2,3],[4,5,6],[7,8,9]]\n",
    "\n",
    "print(transpose(matrix))"
   ]
  },
  {
   "cell_type": "markdown",
   "id": "d96e7843",
   "metadata": {},
   "source": [
    "💡 **Question 4**\n",
    "Given an integer array nums of 2n integers, group these integers into n pairs (a1, b1), (a2, b2), ..., (an, bn) such that the sum of min(ai, bi) for all i is **maximized**. Return *the maximized sum*.\n",
    "\n",
    "**Example 1:**\n",
    "\n",
    "Input: nums = [1,4,3,2]\n",
    "\n",
    "Output: 4\n",
    "\n",
    "**Explanation:** All possible pairings (ignoring the ordering of elements) are:\n",
    "\n",
    "1. (1, 4), (2, 3) -> min(1, 4) + min(2, 3) = 1 + 2 = 3\n",
    "\n",
    "2. (1, 3), (2, 4) -> min(1, 3) + min(2, 4) = 1 + 2 = 3\n",
    "\n",
    "3. (1, 2), (3, 4) -> min(1, 2) + min(3, 4) = 1 + 3 = 4\n",
    "\n",
    "So the maximum possible sum is 4."
   ]
  },
  {
   "cell_type": "code",
   "execution_count": 32,
   "id": "8e8fbd35",
   "metadata": {},
   "outputs": [],
   "source": [
    "def PairSum(nums):\n",
    "    nums.sort()\n",
    "    result = 0\n",
    "    numsLen = len(nums)\n",
    "    for i in range(0, numsLen - 1, 2):\n",
    "        result += nums[i]\n",
    "    return result "
   ]
  },
  {
   "cell_type": "code",
   "execution_count": 33,
   "id": "b09dbcdb",
   "metadata": {},
   "outputs": [
    {
     "name": "stdout",
     "output_type": "stream",
     "text": [
      "4\n"
     ]
    }
   ],
   "source": [
    "nums = [1,4,3,2]\n",
    "print(PairSum(nums))"
   ]
  },
  {
   "cell_type": "markdown",
   "id": "f6cf66d6",
   "metadata": {},
   "source": [
    "💡 **Question 5**\n",
    "You have n coins and you want to build a staircase with these coins. The staircase consists of k rows where the ith row has exactly i coins. The last row of the staircase **may be** incomplete.\n",
    "\n",
    "Given the integer n, return *the number of **complete rows** of the staircase you will build*.\n"
   ]
  },
  {
   "cell_type": "code",
   "execution_count": 90,
   "id": "bc049cc8",
   "metadata": {},
   "outputs": [],
   "source": [
    "def ret_rows(n):\n",
    "    step = 0\n",
    "    if n == 1:\n",
    "        return 0\n",
    "    for i in range(1,n):\n",
    "        if step == n:\n",
    "            break\n",
    "        for j in range(0,i):\n",
    "            step = step + 1\n",
    "            if step == n:\n",
    "                return(i-1)\n",
    "                break"
   ]
  },
  {
   "cell_type": "code",
   "execution_count": 91,
   "id": "fa53c8fa",
   "metadata": {},
   "outputs": [
    {
     "name": "stdout",
     "output_type": "stream",
     "text": [
      "2\n"
     ]
    }
   ],
   "source": [
    "n=5\n",
    "print(ret_rows(n))"
   ]
  },
  {
   "cell_type": "markdown",
   "id": "38004cf2",
   "metadata": {},
   "source": [
    "💡 **Question 6**\n",
    "Given an integer array nums sorted in **non-decreasing** order, return *an array of **the squares of each number** sorted in non-decreasing order*.\n",
    "\n",
    "**Example 1:**\n",
    "\n",
    "Input: nums = [-4,-1,0,3,10]\n",
    "\n",
    "Output: [0,1,9,16,100]\n",
    "\n",
    "**Explanation:** After squaring, the array becomes [16,1,0,9,100].\n",
    "After sorting, it becomes [0,1,9,16,100]\n"
   ]
  },
  {
   "cell_type": "code",
   "execution_count": 49,
   "id": "f693bb65",
   "metadata": {},
   "outputs": [],
   "source": [
    "def square(nums):\n",
    "    l=[]\n",
    "    for i in nums:\n",
    "        l.append(int(i*i))\n",
    "    l.sort()\n",
    "    return l"
   ]
  },
  {
   "cell_type": "code",
   "execution_count": 50,
   "id": "5001e7e5",
   "metadata": {},
   "outputs": [
    {
     "name": "stdout",
     "output_type": "stream",
     "text": [
      "[0, 1, 9, 16, 100]\n"
     ]
    }
   ],
   "source": [
    "nums = [-4,-1,0,3,10]\n",
    "print(square(nums))"
   ]
  },
  {
   "cell_type": "markdown",
   "id": "b0cd2d14",
   "metadata": {},
   "source": [
    "💡 **Question 7**\n",
    "You are given an m x n matrix M initialized with all 0's and an array of operations ops, where ops[i] = [ai, bi] means M[x][y] should be incremented by one for all 0 <= x < ai and 0 <= y < bi.\n",
    "\n",
    "Count and return *the number of maximum integers in the matrix after performing all the operations*"
   ]
  },
  {
   "cell_type": "code",
   "execution_count": 106,
   "id": "8e98b206",
   "metadata": {},
   "outputs": [],
   "source": [
    "\n",
    "def count_int(m,n,ops):\n",
    "    ans = [[0 for _ in range(m)] for _ in range(n)]\n",
    "    for i in ops:\n",
    "        for r in range(m):\n",
    "            for c in range(n):\n",
    "                if r in range(i[0]) and c in range (i[1]):\n",
    "                    ans[r][c] = ans[r][c] + 1\n",
    "    count = 0\n",
    "    for x in range(m):\n",
    "        for y in range(n):\n",
    "            if ans[x][y] == ans[0][0]:\n",
    "                count = count + 1\n",
    "    return(count)"
   ]
  },
  {
   "cell_type": "code",
   "execution_count": 107,
   "id": "79c9db02",
   "metadata": {},
   "outputs": [
    {
     "name": "stdout",
     "output_type": "stream",
     "text": [
      "4\n"
     ]
    }
   ],
   "source": [
    "m = 3\n",
    "n = 3\n",
    "ops = [[2,2],[3,3]]\n",
    "print(count_int(m,n,ops))"
   ]
  },
  {
   "cell_type": "markdown",
   "id": "9f140992",
   "metadata": {},
   "source": [
    "💡 **Question 8**\n",
    "\n",
    "Given the array nums consisting of 2n elements in the form [x1,x2,...,xn,y1,y2,...,yn].\n",
    "\n",
    "*Return the array in the form* [x1,y1,x2,y2,...,xn,yn].\n",
    "\n",
    "**Example 1:**\n",
    "\n",
    "**Input:** nums = [2,5,1,3,4,7], n = 3\n",
    "\n",
    "**Output:** [2,3,5,4,1,7]\n",
    "\n",
    "**Explanation:** Since x1=2, x2=5, x3=1, y1=3, y2=4, y3=7 then the answer is [2,3,5,4,1,7].\n"
   ]
  },
  {
   "cell_type": "code",
   "execution_count": 64,
   "id": "f4b2b532",
   "metadata": {},
   "outputs": [],
   "source": [
    "def xnyn(nums,n):\n",
    "    l = []\n",
    "    for i in range(n):\n",
    "        l.append(nums[i])\n",
    "        l.append(nums[n+i])\n",
    "    return l"
   ]
  },
  {
   "cell_type": "code",
   "execution_count": 65,
   "id": "d4d331e9",
   "metadata": {},
   "outputs": [
    {
     "data": {
      "text/plain": [
       "[2, 3, 5, 4, 1, 7]"
      ]
     },
     "execution_count": 65,
     "metadata": {},
     "output_type": "execute_result"
    }
   ],
   "source": [
    "nums = [2,5,1,3,4,7]\n",
    "n = 3\n",
    "xnyn(nums,n)"
   ]
  },
  {
   "cell_type": "code",
   "execution_count": null,
   "id": "863ea9a9",
   "metadata": {},
   "outputs": [],
   "source": []
  }
 ],
 "metadata": {
  "kernelspec": {
   "display_name": "Python 3 (ipykernel)",
   "language": "python",
   "name": "python3"
  },
  "language_info": {
   "codemirror_mode": {
    "name": "ipython",
    "version": 3
   },
   "file_extension": ".py",
   "mimetype": "text/x-python",
   "name": "python",
   "nbconvert_exporter": "python",
   "pygments_lexer": "ipython3",
   "version": "3.9.12"
  }
 },
 "nbformat": 4,
 "nbformat_minor": 5
}
