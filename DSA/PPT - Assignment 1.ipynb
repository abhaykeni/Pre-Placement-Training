{
 "cells": [
  {
   "cell_type": "markdown",
   "id": "6f344cb3",
   "metadata": {},
   "source": [
    "\n",
    "💡 **Q1.** Given an array of integers nums and an integer target, return indices of the two numbers such that they add up to target.\n",
    "\n",
    "You may assume that each input would have exactly one solution, and you may not use the same element twice.\n",
    "\n",
    "You can return the answer in any order.\n",
    "\n",
    "**Example:**\n",
    "Input: nums = [2,7,11,15], target = 9\n",
    "Output0 [0,1]\n",
    "\n",
    "**Explanation:** Because nums[0] + nums[1] == 9, we return [0, 1]["
   ]
  },
  {
   "cell_type": "code",
   "execution_count": 8,
   "id": "9b612198",
   "metadata": {},
   "outputs": [],
   "source": [
    "def index_ret(arr,index):\n",
    "    left_ptr = 0\n",
    "    right_ptr = len(arr)-1\n",
    "    l = []\n",
    "    while(not(left_ptr == right_ptr)):\n",
    "        if arr[left_ptr] + arr[right_ptr] == target:\n",
    "            l.append(left_ptr)\n",
    "            l.append(right_ptr)\n",
    "            return l\n",
    "            right_ptr = right_ptr - 1  \n",
    "            continue\n",
    "        if arr[left_ptr] + arr[right_ptr] > target:\n",
    "            right_ptr = right_ptr - 1\n",
    "        else:\n",
    "            left_ptr = left_ptr + 1"
   ]
  },
  {
   "cell_type": "code",
   "execution_count": 9,
   "id": "5da0a0fc",
   "metadata": {},
   "outputs": [
    {
     "name": "stdout",
     "output_type": "stream",
     "text": [
      "[0, 1]\n"
     ]
    }
   ],
   "source": [
    "arr =  [2,7,11,15]\n",
    "target = 9\n",
    "print(index_ret([2,7,11,15],9))"
   ]
  },
  {
   "cell_type": "markdown",
   "id": "98a404f4",
   "metadata": {},
   "source": [
    "💡 **Q2.** Given an integer array nums and an integer val, remove all occurrences of val in nums in-place. The order of the elements may be changed. Then return the number of elements in nums which are not equal to val.\n",
    "\n",
    "Consider the number of elements in nums which are not equal to val be k, to get accepted, you need to do the following things:\n",
    "\n",
    "- Change the array nums such that the first k elements of nums contain the elements which are not equal to val. The remaining elements of nums are not important as well as the size of nums.\n",
    "- Return k.\n",
    "\n",
    "**Example :**\n",
    "Input: nums = [3,2,2,3], val = 3\n",
    "Output: 2, nums = [2,2,_*,_*]\n",
    "\n",
    "**Explanation:** Your function should return k = 2, with the first two elements of nums being 2. It does not matter what you leave beyond the returned k (hence they are underscores)[\n"
   ]
  },
  {
   "cell_type": "code",
   "execution_count": 17,
   "id": "f8fa0916",
   "metadata": {},
   "outputs": [],
   "source": [
    "def count_ret(nums,val):\n",
    "    pcount = 0\n",
    "    for i in range(0,len(nums)):\n",
    "        if nums[i]!=val:\n",
    "            nums[pcount] = nums[i]\n",
    "            pcount = pcount + 1\n",
    "    return nums"
   ]
  },
  {
   "cell_type": "code",
   "execution_count": 18,
   "id": "5d02d782",
   "metadata": {},
   "outputs": [
    {
     "name": "stdout",
     "output_type": "stream",
     "text": [
      "[2, 2, 2, 3]\n"
     ]
    }
   ],
   "source": [
    "nums = [3,2,2,3]\n",
    "val = 3\n",
    "print(count_ret(nums,val))"
   ]
  },
  {
   "cell_type": "markdown",
   "id": "85bcbe43",
   "metadata": {},
   "source": [
    "💡 **Q3.** Given a sorted array of distinct integers and a target value, return the index if the target is found. If not, return the index where it would be if it were inserted in order.\n",
    "\n",
    "You must write an algorithm with O(log n) runtime complexity.\n",
    "\n",
    "**Example 1:**\n",
    "Input: nums = [1,3,5,6], target = 5\n",
    "\n",
    "Output: 2"
   ]
  },
  {
   "cell_type": "code",
   "execution_count": 19,
   "id": "d400d8d2",
   "metadata": {},
   "outputs": [],
   "source": [
    "def target_found(arr,target):\n",
    "    for i in range(0,len(arr)):\n",
    "        if arr[i] == target:\n",
    "            return i\n",
    "        elif target > arr[i] and target <arr[i+1]:\n",
    "            return i+1\n",
    "        elif target < arr[0]:\n",
    "            return 0\n",
    "            break\n",
    "        elif target> arr[len(arr)-1]:\n",
    "            return len(arr)\n",
    "            break"
   ]
  },
  {
   "cell_type": "code",
   "execution_count": 20,
   "id": "25d3b515",
   "metadata": {},
   "outputs": [
    {
     "name": "stdout",
     "output_type": "stream",
     "text": [
      "4\n"
     ]
    }
   ],
   "source": [
    "arr = [1,3,5,6]\n",
    "target =  7\n",
    "print(target_found(arr,target))"
   ]
  },
  {
   "cell_type": "markdown",
   "id": "a44ea68c",
   "metadata": {},
   "source": [
    "\n",
    "💡 **Q4.** You are given a large integer represented as an integer array digits, where each digits[i] is the ith digit of the integer. The digits are ordered from most significant to least significant in left-to-right order. The large integer does not contain any leading 0's.\n",
    "\n",
    "Increment the large integer by one and return the resulting array of digits.\n",
    "\n",
    "**Example 1:**\n",
    "Input: digits = [1,2,3]\n",
    "Output: [1,2,4]\n",
    "\n",
    "**Explanation:** The array represents the integer 123.\n",
    "\n",
    "Incrementing by one gives 123 + 1 = 124.\n",
    "Thus, the result should be [1,2,4].\n"
   ]
  },
  {
   "cell_type": "code",
   "execution_count": 26,
   "id": "1d3e7fa3",
   "metadata": {},
   "outputs": [],
   "source": [
    "def inc(a):\n",
    "    for i in range(len(a)-1,-1,-1):\n",
    "        if a[i] == 9:\n",
    "            a[i] = 0\n",
    "        else:\n",
    "            a[i] = a[i]+1\n",
    "            break\n",
    "    return a"
   ]
  },
  {
   "cell_type": "code",
   "execution_count": 27,
   "id": "ccadf517",
   "metadata": {},
   "outputs": [
    {
     "name": "stdout",
     "output_type": "stream",
     "text": [
      "[1, 2, 4]\n"
     ]
    }
   ],
   "source": [
    "a = [1,2,3]\n",
    "print(inc(a))"
   ]
  },
  {
   "cell_type": "markdown",
   "id": "079497ff",
   "metadata": {},
   "source": [
    "\n",
    "💡 **Q5.** You are given two integer arrays nums1 and nums2, sorted in non-decreasing order, and two integers m and n, representing the number of elements in nums1 and nums2 respectively.\n",
    "\n",
    "Merge nums1 and nums2 into a single array sorted in non-decreasing order.\n",
    "\n",
    "The final sorted array should not be returned by the function, but instead be stored inside the array nums1. To accommodate this, nums1 has a length of m + n, where the first m elements denote the elements that should be merged, and the last n elements are set to 0 and should be ignored. nums2 has a length of n.\n",
    "\n",
    "**Example 1:**\n",
    "Input: nums1 = [1,2,3,0,0,0], m = 3, nums2 = [2,5,6], n = 3\n",
    "Output: [1,2,2,3,5,6]\n",
    "\n",
    "**Explanation:** The arrays we are merging are [1,2,3] and [2,5,6].\n",
    "The result of the merge is [1,2,2,3,5,6] with the underlined elements coming from nums1.\n"
   ]
  },
  {
   "cell_type": "code",
   "execution_count": 54,
   "id": "a4c2043f",
   "metadata": {},
   "outputs": [],
   "source": [
    "def merge(nums1, m, nums2, n):\n",
    "    nums1Copy = nums1[:m]\n",
    "    p1, p2 = 0, 0\n",
    "    p = 0\n",
    " \n",
    "    while p < m + n:\n",
    "        if p2 >= n or (p1 < m and nums1Copy[p1] < nums2[p2]):\n",
    "            nums1[p] = nums1Copy[p1]\n",
    "            p1 += 1\n",
    "        else:\n",
    "            nums1[p] = nums2[p2]\n",
    "            p2 += 1\n",
    "        p += 1\n",
    "    return nums1"
   ]
  },
  {
   "cell_type": "code",
   "execution_count": 55,
   "id": "01925c29",
   "metadata": {},
   "outputs": [
    {
     "name": "stdout",
     "output_type": "stream",
     "text": [
      "[1, 2, 2, 3, 5, 6]\n"
     ]
    }
   ],
   "source": [
    "print(merge([1,2,3,0,0,0],3,[2,5,6],3))"
   ]
  },
  {
   "cell_type": "markdown",
   "id": "ffb3b4f7",
   "metadata": {},
   "source": [
    "💡 **Q6.** Given an integer array nums, return true if any value appears at least twice in the array, and return false if every element is distinct.\n",
    "\n",
    "**Example 1:**\n",
    "Input: nums = [1,2,3,1]\n",
    "\n",
    "Output: true"
   ]
  },
  {
   "cell_type": "code",
   "execution_count": 29,
   "id": "cc86cda4",
   "metadata": {},
   "outputs": [],
   "source": [
    "def freq(a):\n",
    "    hashmap = dict()\n",
    "    for i in a:\n",
    "        if i in hashmap.keys():\n",
    "            hashmap[i] = hashmap[i] + 1\n",
    "        else:\n",
    "            hashmap[i] = 1\n",
    "\n",
    "    if len(set(hashmap.values())) > 1:\n",
    "        return(True)\n",
    "    else:\n",
    "        return(False)"
   ]
  },
  {
   "cell_type": "code",
   "execution_count": 30,
   "id": "c3e4ce93",
   "metadata": {},
   "outputs": [
    {
     "name": "stdout",
     "output_type": "stream",
     "text": [
      "True\n"
     ]
    }
   ],
   "source": [
    "a =[1,2,3,1]\n",
    "print(freq(a))"
   ]
  },
  {
   "cell_type": "markdown",
   "id": "dd24e8e2",
   "metadata": {},
   "source": [
    "💡 **Q7.** Given an integer array nums, move all 0's to the end of it while maintaining the relative order of the nonzero elements.\n",
    "\n",
    "Note that you must do this in-place without making a copy of the array.\n",
    "\n",
    "**Example 1:**\n",
    "Input: nums = [0,1,0,3,12]\n",
    "Output: [1,3,12,0,0]"
   ]
  },
  {
   "cell_type": "code",
   "execution_count": 31,
   "id": "c9bba2bc",
   "metadata": {},
   "outputs": [],
   "source": [
    "def pushZerosToEnd(arr, n):\n",
    "    count = 0\n",
    "    \n",
    "    for i in range(n):\n",
    "        if arr[i] != 0:\n",
    "            arr[count] = arr[i]\n",
    "            count+=1\n",
    "            \n",
    "    while count < n:\n",
    "        arr[count] = 0\n",
    "        count += 1\n"
   ]
  },
  {
   "cell_type": "code",
   "execution_count": 32,
   "id": "3518a5a3",
   "metadata": {},
   "outputs": [
    {
     "name": "stdout",
     "output_type": "stream",
     "text": [
      "Array after pushing all zeros to end of array:\n",
      "[1, 3, 12, 0, 0]\n"
     ]
    }
   ],
   "source": [
    "arr = [0,1,0,3,12] \n",
    "n = len(arr)\n",
    "\n",
    "pushZerosToEnd(arr, n)\n",
    "\n",
    "print(\"Array after pushing all zeros to end of array:\")\n",
    "print(arr)"
   ]
  },
  {
   "cell_type": "markdown",
   "id": "24826ab1",
   "metadata": {},
   "source": [
    "💡 **Q8.** You have a set of integers s, which originally contains all the numbers from 1 to n. Unfortunately, due to some error, one of the numbers in s got duplicated to another number in the set, which results in repetition of one number and loss of another number.\n",
    "\n",
    "You are given an integer array nums representing the data status of this set after the error.\n",
    "\n",
    "Find the number that occurs twice and the number that is missing and return them in the form of an array.\n",
    "\n",
    "**Example 1:**\n",
    "Input: nums = [1,2,2,4]\n",
    "Output: [2,3]"
   ]
  },
  {
   "cell_type": "code",
   "execution_count": 36,
   "id": "6c69f7cc",
   "metadata": {},
   "outputs": [],
   "source": [
    "def miss(a):\n",
    "    l = []\n",
    "    a.sort()\n",
    "    for i in range(0,len(a)):\n",
    "        if a[i] == a[i+1]:\n",
    "            l.append(a[i])\n",
    "            l.append(a[i]+1)\n",
    "            break\n",
    "    return l"
   ]
  },
  {
   "cell_type": "code",
   "execution_count": 37,
   "id": "f73e3139",
   "metadata": {},
   "outputs": [
    {
     "data": {
      "text/plain": [
       "[2, 3]"
      ]
     },
     "execution_count": 37,
     "metadata": {},
     "output_type": "execute_result"
    }
   ],
   "source": [
    "a =[1,2,2,4] \n",
    "miss(a)"
   ]
  }
 ],
 "metadata": {
  "kernelspec": {
   "display_name": "Python 3 (ipykernel)",
   "language": "python",
   "name": "python3"
  },
  "language_info": {
   "codemirror_mode": {
    "name": "ipython",
    "version": 3
   },
   "file_extension": ".py",
   "mimetype": "text/x-python",
   "name": "python",
   "nbconvert_exporter": "python",
   "pygments_lexer": "ipython3",
   "version": "3.9.12"
  }
 },
 "nbformat": 4,
 "nbformat_minor": 5
}
