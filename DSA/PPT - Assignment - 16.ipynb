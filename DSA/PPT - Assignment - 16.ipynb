{
 "cells": [
  {
   "cell_type": "markdown",
   "id": "55368f16",
   "metadata": {},
   "source": [
    "💡 **Question 1**\n",
    "\n",
    "Given an array, for each element find the value of the nearest element to the right which is having a frequency greater than that of the current element. If there does not exist an answer for a position, then make the value ‘-1’.\n",
    "\n",
    "</aside>"
   ]
  },
  {
   "cell_type": "code",
   "execution_count": 38,
   "id": "f94cc841",
   "metadata": {},
   "outputs": [],
   "source": [
    "from collections import defaultdict\n",
    " \n",
    "def main():\n",
    "    v = [1, 1, 2, 3, 4, 2, 1]\n",
    "    n = len(v)\n",
    "    mp = defaultdict(int)\n",
    "    s = []\n",
    "    for x in v:\n",
    "        mp[x] += 1\n",
    "    for i in range(n-1, -1, -1):\n",
    "        s.append(v[i])\n",
    "    for i in range(n):\n",
    "        x = mp[v[i]]\n",
    "        flag = True\n",
    "        ss = list(s)\n",
    "        while ss:\n",
    "            if mp[ss[-1]] > x:\n",
    "                print(v[i], \"-->\", ss[-1])\n",
    "                flag = False\n",
    "                break\n",
    "            ss.pop()\n",
    "        if flag:\n",
    "            print(v[i], \"-->\", -1)\n",
    "        s.pop()"
   ]
  },
  {
   "cell_type": "code",
   "execution_count": 39,
   "id": "37bdbe1c",
   "metadata": {},
   "outputs": [
    {
     "name": "stdout",
     "output_type": "stream",
     "text": [
      "1 --> -1\n",
      "1 --> -1\n",
      "2 --> 1\n",
      "3 --> 2\n",
      "4 --> 2\n",
      "2 --> 1\n",
      "1 --> -1\n"
     ]
    }
   ],
   "source": [
    "main()"
   ]
  },
  {
   "cell_type": "markdown",
   "id": "4c88b47e",
   "metadata": {},
   "source": [
    "💡 **Question 2**\n",
    "\n",
    "Given a stack of integers, sort it in ascending order using another temporary stack.\n",
    "\n",
    "</aside>"
   ]
  },
  {
   "cell_type": "code",
   "execution_count": 14,
   "id": "3ac7b79c",
   "metadata": {},
   "outputs": [],
   "source": [
    "def sortStack ( stack ):\n",
    "    tmpStack = createStack()\n",
    "    while(isEmpty(stack) == False):\n",
    "        tmp = top(stack)\n",
    "        pop(stack)\n",
    " \n",
    "        while(isEmpty(tmpStack) == False and\n",
    "             int(top(tmpStack)) < int(tmp)):\n",
    "            push(stack,top(tmpStack))\n",
    "            pop(tmpStack)\n",
    "        push(tmpStack,tmp)\n",
    "     \n",
    "    return tmpStack\n",
    "def createStack():\n",
    "    stack = []\n",
    "    return stack\n",
    " \n",
    "def isEmpty( stack ):\n",
    "    return len(stack) == 0\n",
    " \n",
    "def push( stack, item ):\n",
    "    stack.append( item )\n",
    "\n",
    "def top( stack ):\n",
    "    p = len(stack)\n",
    "    return stack[p-1]\n",
    "\n",
    "def pop( stack ):\n",
    "    if(isEmpty( stack )):\n",
    "        print(\"Stack Underflow \")\n",
    "        exit(1)\n",
    " \n",
    "    return stack.pop()\n",
    "\n",
    "def prints(stack):\n",
    "    for i in range(len(stack)-1, -1, -1):\n",
    "        print(stack[i], end = ' ')\n",
    "    print()"
   ]
  },
  {
   "cell_type": "code",
   "execution_count": 15,
   "id": "1e3c2039",
   "metadata": {},
   "outputs": [
    {
     "name": "stdout",
     "output_type": "stream",
     "text": [
      "Sorted numbers are: \n",
      "3 23 31 34 92 98 \n"
     ]
    }
   ],
   "source": [
    "stack = createStack()\n",
    "push( stack, str(34) )\n",
    "push( stack, str(3) )\n",
    "push( stack, str(31) )\n",
    "push( stack, str(98) )\n",
    "push( stack, str(92) )\n",
    "push( stack, str(23) )\n",
    " \n",
    "print(\"Sorted numbers are: \")\n",
    "sortedst = sortStack ( stack )\n",
    "prints(sortedst)"
   ]
  },
  {
   "cell_type": "markdown",
   "id": "d94dd412",
   "metadata": {},
   "source": [
    "💡 **Question 3**\n",
    "\n",
    "Given a stack with **push()**, **pop()**, and **empty()** operations, The task is to delete the **middle** element ****of it without using any additional data structure.\n",
    "\n",
    "</aside>"
   ]
  },
  {
   "cell_type": "code",
   "execution_count": 12,
   "id": "767fa9c8",
   "metadata": {},
   "outputs": [],
   "source": [
    "class Stack:\n",
    "    def __init__(self):\n",
    "        self.stack = []\n",
    "        \n",
    "    def size(self):\n",
    "        return len(self.stack)\n",
    "    \n",
    "    def push(self,data):\n",
    "        self.stack.append(data)\n",
    "    \n",
    "    def pop(self):\n",
    "        if self.size()==0:\n",
    "            return None\n",
    "        return self.stack.pop()\n",
    "    def top(self):\n",
    "        return self.stack[-1]\n",
    "    \n",
    "def findMiddle(s1):\n",
    "    length = s1.size()\n",
    "    for i in range(int(length/2)):\n",
    "        s1.pop()\n",
    "    return(s1.top())"
   ]
  },
  {
   "cell_type": "code",
   "execution_count": 13,
   "id": "5b26924e",
   "metadata": {},
   "outputs": [
    {
     "data": {
      "text/plain": [
       "4"
      ]
     },
     "execution_count": 13,
     "metadata": {},
     "output_type": "execute_result"
    }
   ],
   "source": [
    "s1 = Stack()\n",
    "s1.push(1)\n",
    "s1.push(2)\n",
    "s1.push(3)\n",
    "s1.push(4)\n",
    "s1.push(5)\n",
    "s1.push(6)\n",
    "s1.push(7)\n",
    "\n",
    "findMiddle(s1)"
   ]
  },
  {
   "cell_type": "markdown",
   "id": "c5cbd873",
   "metadata": {},
   "source": [
    "💡 **Question 4**\n",
    "\n",
    "Given a Queue consisting of first **n** natural numbers (in random order). The task is to check whether the given Queue elements can be arranged in increasing order in another Queue using a stack. The operation allowed are:\n",
    "\n",
    "1. Push and pop elements from the stack\n",
    "2. Pop (Or Dequeue) from the given Queue.\n",
    "3. Push (Or Enqueue) in the another Queue.\n",
    "</aside>"
   ]
  },
  {
   "cell_type": "code",
   "execution_count": 28,
   "id": "aa32b06d",
   "metadata": {},
   "outputs": [],
   "source": [
    "from queue import Queue\n",
    "\n",
    "def checkSorted(n, q):\n",
    "    st = []\n",
    "    expected = 1\n",
    "    fnt = None\n",
    "    while (not q.empty()):\n",
    "        fnt = q.queue[0]\n",
    "        q.get()\n",
    "\n",
    "        if (fnt == expected):\n",
    "            expected += 1\n",
    " \n",
    "        else:\n",
    "            if (len(st) == 0):\n",
    "                st.append(fnt)\n",
    "            elif (len(st) != 0 and st[-1] < fnt):\n",
    "                return False\n",
    "            else:\n",
    "                st.append(fnt)\n",
    "                \n",
    "        while (len(st) != 0 and\n",
    "                   st[-1] == expected):\n",
    "            st.pop()\n",
    "            expected += 1\n",
    "    if (expected - 1 == n and len(st) == 0):\n",
    "        return True\n",
    " \n",
    "    return False"
   ]
  },
  {
   "cell_type": "code",
   "execution_count": 29,
   "id": "61f42db5",
   "metadata": {},
   "outputs": [
    {
     "name": "stdout",
     "output_type": "stream",
     "text": [
      "Yes\n"
     ]
    }
   ],
   "source": [
    "q = Queue()\n",
    "q.put(5)\n",
    "q.put(1)\n",
    "q.put(2)\n",
    "q.put(3)\n",
    "q.put(4)\n",
    " \n",
    "n = q.qsize()\n",
    " \n",
    "if checkSorted(n, q):\n",
    "    print(\"Yes\")\n",
    "else:\n",
    "    print(\"No\")"
   ]
  },
  {
   "cell_type": "markdown",
   "id": "ac39def4",
   "metadata": {},
   "source": [
    "💡 **Question 5**\n",
    "\n",
    "Given a number , write a program to reverse this number using stack.\n",
    "\n",
    "</aside>"
   ]
  },
  {
   "cell_type": "code",
   "execution_count": 3,
   "id": "e7e0e53f",
   "metadata": {},
   "outputs": [],
   "source": [
    "class Stack:\n",
    "    def __init__(self):\n",
    "        self.stack = []\n",
    "        \n",
    "    def size(self):\n",
    "        return len(self.stack)\n",
    "    \n",
    "    def push(self,data):\n",
    "        self.stack.append(data)\n",
    "    \n",
    "    def pop(self):\n",
    "        if self.size()==0:\n",
    "            return None\n",
    "        return self.stack.pop()\n",
    "    \n",
    "def reverseNum(num):\n",
    "    string = str(num)\n",
    "    s1 = Stack()\n",
    "    for i in string:\n",
    "        s1.push(i)\n",
    "    rev = \"\"\n",
    "    while(len(s1.stack)!=0):\n",
    "        rev = rev + s1.pop()\n",
    "    return rev"
   ]
  },
  {
   "cell_type": "code",
   "execution_count": 4,
   "id": "46221692",
   "metadata": {},
   "outputs": [
    {
     "name": "stdout",
     "output_type": "stream",
     "text": [
      "821\n"
     ]
    }
   ],
   "source": [
    "num = 128\n",
    "print(reverseNum(num))"
   ]
  },
  {
   "cell_type": "markdown",
   "id": "0e895191",
   "metadata": {},
   "source": [
    "💡 **Question 6**\n",
    "\n",
    "Given an integer k and a **[queue](https://www.geeksforgeeks.org/queue-data-structure/)** of integers, The task is to reverse the order of the first **k** elements of the queue, leaving the other elements in the same relative order.\n",
    "\n",
    "Only following standard operations are allowed on queue.\n",
    "\n",
    "- **enqueue(x) :** Add an item x to rear of queue\n",
    "- **dequeue() :** Remove an item from front of queue\n",
    "- **size() :** Returns number of elements in queue.\n",
    "- **front() :** Finds front item.\n",
    "</aside>"
   ]
  },
  {
   "cell_type": "code",
   "execution_count": 31,
   "id": "e0877d5a",
   "metadata": {},
   "outputs": [],
   "source": [
    "from collections import deque\n",
    " \n",
    "def reverseFirstK(q, k):\n",
    "    d = deque()\n",
    "    for i in range(k):\n",
    "        d.appendleft(q.popleft())\n",
    "    while d:\n",
    "        q.append(d.popleft())\n",
    "    for i in range(len(q) - k):\n",
    "        q.append(q.popleft())"
   ]
  },
  {
   "cell_type": "code",
   "execution_count": 37,
   "id": "8b752906",
   "metadata": {},
   "outputs": [
    {
     "name": "stdout",
     "output_type": "stream",
     "text": [
      "Input Queue: 10 20 30 40 50 60 70 80 90 100\n",
      "Output Queue: 50 40 30 20 10 60 70 80 90 100\n"
     ]
    }
   ],
   "source": [
    "q = deque()\n",
    "q.append(10)\n",
    "q.append(20)\n",
    "q.append(30)\n",
    "q.append(40)\n",
    "q.append(50)\n",
    "q.append(60)\n",
    "q.append(70)\n",
    "q.append(80)\n",
    "q.append(90)\n",
    "q.append(100)\n",
    "\n",
    "print(\"Input Queue:\",*q)\n",
    "\n",
    "k = 5\n",
    "reverseFirstK(q, k)\n",
    " \n",
    "print(\"Output Queue:\",*q)"
   ]
  },
  {
   "cell_type": "markdown",
   "id": "68e49e1a",
   "metadata": {},
   "source": [
    "💡 **Question 7**\n",
    "\n",
    "Given a sequence of n strings, the task is to check if any two similar words come together and then destroy each other then print the number of words left in the sequence after this pairwise destruction.\n",
    "\n",
    "</aside>"
   ]
  },
  {
   "cell_type": "code",
   "execution_count": 23,
   "id": "d07f3584",
   "metadata": {},
   "outputs": [],
   "source": [
    "def removeConsecutiveSame(v):\n",
    "    st = []\n",
    "    for i in range(len(v)):\n",
    "        if (len(st) == 0):\n",
    "            st.append(v[i])\n",
    "        else:\n",
    "            Str = st[-1]\n",
    "            if (Str == v[i]):\n",
    "                st.pop()\n",
    "            else:\n",
    "                st.append(v[i])\n",
    "    return len(st)"
   ]
  },
  {
   "cell_type": "code",
   "execution_count": 24,
   "id": "12da6a49",
   "metadata": {},
   "outputs": [
    {
     "name": "stdout",
     "output_type": "stream",
     "text": [
      "3\n"
     ]
    }
   ],
   "source": [
    "V = [ \"ab\", \"aa\", \"aa\", \"bcd\", \"ab\"]\n",
    "print(removeConsecutiveSame(V))"
   ]
  },
  {
   "cell_type": "markdown",
   "id": "1b1d1c05",
   "metadata": {},
   "source": [
    "💡 **Question 8**\n",
    "\n",
    "Given an array of integers, the task is to find the maximum absolute difference between the nearest left and the right smaller element of every element in the array.\n",
    "\n",
    "**Note:** If there is no smaller element on right side or left side of any element then we take zero as the smaller element. For example for the leftmost element, the nearest smaller element on the left side is considered as 0. Similarly, for rightmost elements, the smaller element on the right side is considered as 0.\n",
    "\n",
    "</aside>"
   ]
  },
  {
   "cell_type": "code",
   "execution_count": 25,
   "id": "1006b02c",
   "metadata": {},
   "outputs": [],
   "source": [
    "def leftsmaller(arr, n, SE):\n",
    "    sta = []\n",
    "    for i in range(n):\n",
    "        while(sta != [] and sta[len(sta)-1] >= arr[i]):\n",
    "            sta.pop()\n",
    "        if(sta != []):\n",
    "            SE[i]=sta[len(sta)-1]\n",
    "        else:\n",
    "            SE[i]=0\n",
    "        sta.append(arr[i])\n",
    "        \n",
    "def findMaxDiff(arr, n):\n",
    "    ls=[0]*n \n",
    "    rs=[0]*n \n",
    " \n",
    "    leftsmaller(arr, n, ls)\n",
    "    leftsmaller(arr[::-1], n, rs)\n",
    "    res = -1\n",
    "    for i in range(n):\n",
    "        res = max(res, abs(ls[i] - rs[n-1-i]))\n",
    "    return res\n",
    " "
   ]
  },
  {
   "cell_type": "code",
   "execution_count": 27,
   "id": "435de19e",
   "metadata": {},
   "outputs": [
    {
     "name": "stdout",
     "output_type": "stream",
     "text": [
      "Maximum Diff : 4\n"
     ]
    }
   ],
   "source": [
    "arr = [2, 4, 8, 7, 7, 9, 3]\n",
    "print(\"Maximum Diff :\", findMaxDiff(arr, len(arr)))"
   ]
  }
 ],
 "metadata": {
  "kernelspec": {
   "display_name": "Python 3 (ipykernel)",
   "language": "python",
   "name": "python3"
  },
  "language_info": {
   "codemirror_mode": {
    "name": "ipython",
    "version": 3
   },
   "file_extension": ".py",
   "mimetype": "text/x-python",
   "name": "python",
   "nbconvert_exporter": "python",
   "pygments_lexer": "ipython3",
   "version": "3.9.12"
  }
 },
 "nbformat": 4,
 "nbformat_minor": 5
}
