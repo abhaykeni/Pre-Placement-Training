{
 "cells": [
  {
   "cell_type": "markdown",
   "id": "dae216d1",
   "metadata": {},
   "source": [
    "💡 **Question 1**\n",
    "\n",
    "Given a non-negative integer `x`, return *the square root of* `x` *rounded down to the nearest integer*. The returned integer should be **non-negative** as well.\n",
    "\n",
    "You **must not use** any built-in exponent function or operator.\n",
    "\n",
    "- For example, do not use `pow(x, 0.5)` in c++ or `x ** 0.5` in python.\n",
    "</aside>"
   ]
  },
  {
   "cell_type": "code",
   "execution_count": 32,
   "id": "7f5c5ddf",
   "metadata": {},
   "outputs": [],
   "source": [
    "def floorSqrt(x):\n",
    "    if (x == 0 or x == 1):\n",
    "        return x\n",
    "    start = 1\n",
    "    end = x//2\n",
    "    while (start <= end):\n",
    "        mid = (start + end) // 2\n",
    "        if (mid*mid == x):\n",
    "            return mid\n",
    "        if (mid * mid < x):\n",
    "            start = mid + 1\n",
    "            ans = mid\n",
    " \n",
    "        else:\n",
    "            end = mid-1\n",
    " \n",
    "    return ans"
   ]
  },
  {
   "cell_type": "code",
   "execution_count": 33,
   "id": "1525d8c8",
   "metadata": {},
   "outputs": [
    {
     "name": "stdout",
     "output_type": "stream",
     "text": [
      "3\n"
     ]
    }
   ],
   "source": [
    "x = 9\n",
    "print(floorSqrt(x))"
   ]
  },
  {
   "cell_type": "markdown",
   "id": "a7e1e618",
   "metadata": {},
   "source": [
    "💡 **Question 2**\n",
    "\n",
    "A peak element is an element that is strictly greater than its neighbors.\n",
    "\n",
    "Given a **0-indexed** integer array `nums`, find a peak element, and return its index. If the array contains multiple peaks, return the index to **any of the peaks**.\n",
    "\n",
    "You may imagine that `nums[-1] = nums[n] = -∞`. In other words, an element is always considered to be strictly greater than a neighbor that is outside the array.\n",
    "\n",
    "You must write an algorithm that runs in `O(log n)` time.\n",
    "\n",
    "</aside>"
   ]
  },
  {
   "cell_type": "code",
   "execution_count": 34,
   "id": "af47651f",
   "metadata": {},
   "outputs": [],
   "source": [
    "def findPeakUtil(arr, low, high, n):\n",
    "    mid = low + (high - low)/2\n",
    "    mid = int(mid)\n",
    "\n",
    "    if ((mid == 0 or arr[mid - 1] <= arr[mid]) and\n",
    "        (mid == n - 1 or arr[mid + 1] <= arr[mid])):\n",
    "        return mid\n",
    " \n",
    "    elif (mid > 0 and arr[mid - 1] > arr[mid]):\n",
    "        return findPeakUtil(arr, low, (mid - 1), n)\n",
    " \n",
    "    else:\n",
    "        return findPeakUtil(arr, (mid + 1), high, n)\n",
    "    \n",
    "def findPeak(arr, n):\n",
    " \n",
    "    return findPeakUtil(arr, 0, n - 1, n)\n"
   ]
  },
  {
   "cell_type": "code",
   "execution_count": 37,
   "id": "dc5ddebb",
   "metadata": {},
   "outputs": [
    {
     "name": "stdout",
     "output_type": "stream",
     "text": [
      "2\n"
     ]
    }
   ],
   "source": [
    "arr = [1,2,3,1]\n",
    "n = len(arr)\n",
    "print(findPeak(arr, n))"
   ]
  },
  {
   "cell_type": "markdown",
   "id": "9bd4c2a6",
   "metadata": {},
   "source": [
    "💡 **Question 3**\n",
    "\n",
    "****\n",
    "\n",
    "Given an array `nums` containing `n` distinct numbers in the range `[0, n]`, return *the only number in the range that is missing from the array.*\n",
    "\n",
    "</aside>"
   ]
  },
  {
   "cell_type": "code",
   "execution_count": 30,
   "id": "bfa52589",
   "metadata": {},
   "outputs": [],
   "source": [
    "def dist(nums):\n",
    "    for i in range(len(nums)):\n",
    "        if i not in nums:\n",
    "            return i"
   ]
  },
  {
   "cell_type": "code",
   "execution_count": 31,
   "id": "a0c6cd4c",
   "metadata": {},
   "outputs": [
    {
     "data": {
      "text/plain": [
       "2"
      ]
     },
     "execution_count": 31,
     "metadata": {},
     "output_type": "execute_result"
    }
   ],
   "source": [
    "nums = [3,0,1]\n",
    "dist(nums)"
   ]
  },
  {
   "cell_type": "markdown",
   "id": "a44579e4",
   "metadata": {},
   "source": [
    "💡 **Question 4**\n",
    "\n",
    "Given an array of integers `nums` containing `n + 1` integers where each integer is in the range `[1, n]` inclusive.\n",
    "\n",
    "There is only **one repeated number** in `nums`, return *this repeated number*.\n",
    "\n",
    "You must solve the problem **without** modifying the array `nums` and uses only constant extra space.\n",
    "\n",
    "</aside>"
   ]
  },
  {
   "cell_type": "code",
   "execution_count": 28,
   "id": "f549bc76",
   "metadata": {},
   "outputs": [],
   "source": [
    "def repeat(numRay):\n",
    "    l = []\n",
    "    arr_size = len(numRay)\n",
    "    for i in range(arr_size):\n",
    "\n",
    "        x = numRay[i] % arr_size\n",
    "        numRay[x] = numRay[x] + arr_size\n",
    "\n",
    "    for i in range(arr_size):\n",
    "        if (numRay[i] >= arr_size*2):\n",
    "            l.append(i)\n",
    "    return l"
   ]
  },
  {
   "cell_type": "code",
   "execution_count": 29,
   "id": "1803e948",
   "metadata": {},
   "outputs": [
    {
     "data": {
      "text/plain": [
       "[2]"
      ]
     },
     "execution_count": 29,
     "metadata": {},
     "output_type": "execute_result"
    }
   ],
   "source": [
    "numRay = [1,3,4,2,2]\n",
    "repeat(numRay)"
   ]
  },
  {
   "cell_type": "markdown",
   "id": "223ba339",
   "metadata": {},
   "source": [
    "💡 **Question 5**\n",
    "\n",
    "Given two integer arrays `nums1` and `nums2`, return *an array of their intersection*. Each element in the result must be **unique** and you may return the result in **any order**.\n",
    "\n",
    "</aside>"
   ]
  },
  {
   "cell_type": "code",
   "execution_count": 23,
   "id": "af3efdcc",
   "metadata": {},
   "outputs": [],
   "source": [
    "def intersection(nums1,nums2):\n",
    "\n",
    "    l = []\n",
    "\n",
    "    if len(nums1)>=len(nums2):\n",
    "        large = nums1\n",
    "        small = nums2\n",
    "    else:\n",
    "        large = nums2\n",
    "        small = nums1\n",
    "\n",
    "    for i in small:\n",
    "        start = 0\n",
    "        end = len(large) - 1\n",
    "        while(start<=end):\n",
    "            mid = (start + end)//2\n",
    "            if large[mid]==i:\n",
    "                l.append(i)\n",
    "                break\n",
    "            elif large[mid]>i:\n",
    "                start = mid + 1\n",
    "            else:\n",
    "                end = mid - 1\n",
    "    return l"
   ]
  },
  {
   "cell_type": "code",
   "execution_count": 24,
   "id": "86a9f34e",
   "metadata": {},
   "outputs": [
    {
     "data": {
      "text/plain": [
       "[2, 2]"
      ]
     },
     "execution_count": 24,
     "metadata": {},
     "output_type": "execute_result"
    }
   ],
   "source": [
    "nums1 = [1,2,2,1] \n",
    "nums2 = [2,2]\n",
    "intersection(nums1,nums2)"
   ]
  },
  {
   "cell_type": "code",
   "execution_count": 25,
   "id": "8af80e71",
   "metadata": {},
   "outputs": [
    {
     "data": {
      "text/plain": [
       "[4, 9]"
      ]
     },
     "execution_count": 25,
     "metadata": {},
     "output_type": "execute_result"
    }
   ],
   "source": [
    "nums1 = [4,9,5] \n",
    "nums2 = [9,4,9,8,4]\n",
    "intersection(nums1,nums2)"
   ]
  },
  {
   "cell_type": "markdown",
   "id": "77228be8",
   "metadata": {},
   "source": [
    "💡 **Question 6**\n",
    "\n",
    "Suppose an array of length `n` sorted in ascending order is **rotated** between `1` and `n` times. For example, the array `nums = [0,1,2,4,5,6,7]` might become:\n",
    "\n",
    "- `[4,5,6,7,0,1,2]` if it was rotated `4` times.\n",
    "- `[0,1,2,4,5,6,7]` if it was rotated `7` times.\n",
    "\n",
    "Notice that **rotating** an array `[a[0], a[1], a[2], ..., a[n-1]]` 1 time results in the array `[a[n-1], a[0], a[1], a[2], ..., a[n-2]]`.\n",
    "\n",
    "Given the sorted rotated array `nums` of **unique** elements, return *the minimum element of this array*.\n",
    "\n",
    "You must write an algorithm that runs in `O(log n) time.`\n",
    "\n",
    "</aside>"
   ]
  },
  {
   "cell_type": "code",
   "execution_count": 15,
   "id": "84ffd4d5",
   "metadata": {},
   "outputs": [],
   "source": [
    "def minimum(nums):\n",
    "    return min(nums)"
   ]
  },
  {
   "cell_type": "code",
   "execution_count": 17,
   "id": "25feba80",
   "metadata": {},
   "outputs": [
    {
     "name": "stdout",
     "output_type": "stream",
     "text": [
      "1\n"
     ]
    }
   ],
   "source": [
    "nums = [3,4,5,1,2]\n",
    "print(minimum(nums))"
   ]
  },
  {
   "cell_type": "code",
   "execution_count": 19,
   "id": "685e250b",
   "metadata": {},
   "outputs": [
    {
     "name": "stdout",
     "output_type": "stream",
     "text": [
      "0\n"
     ]
    }
   ],
   "source": [
    "nums = [4,5,6,7,0,1,2]\n",
    "print(minimum(nums))"
   ]
  },
  {
   "cell_type": "code",
   "execution_count": 20,
   "id": "5683de74",
   "metadata": {},
   "outputs": [
    {
     "name": "stdout",
     "output_type": "stream",
     "text": [
      "11\n"
     ]
    }
   ],
   "source": [
    "nums = [11,13,15,17]\n",
    "print(minimum(nums))"
   ]
  },
  {
   "cell_type": "markdown",
   "id": "f74f7fa9",
   "metadata": {},
   "source": [
    "💡 **Question 7**\n",
    "\n",
    "Given an array of integers `nums` sorted in non-decreasing order, find the starting and ending position of a given `target` value.\n",
    "\n",
    "If `target` is not found in the array, return `[-1, -1]`.\n",
    "\n",
    "You must write an algorithm with `O(log n)` runtime complexity.\n",
    "\n",
    "</aside>"
   ]
  },
  {
   "cell_type": "code",
   "execution_count": 11,
   "id": "c8982250",
   "metadata": {},
   "outputs": [],
   "source": [
    "def searchInsert(nums, target):\n",
    "    start, end = 0, len(nums) - 1\n",
    "    ans = [-1,-1]\n",
    "    l = []\n",
    "    while start <= end:\n",
    "        mid = (start + end) // 2\n",
    "            \n",
    "        if nums[mid] == target:\n",
    "            l.append(mid)\n",
    "            ans = l\n",
    "            break\n",
    "        elif nums[mid] < target:\n",
    "            start = mid + 1\n",
    "        else:\n",
    "            end = mid - 1\n",
    "    if len(ans)==1:\n",
    "        if(nums[ans[0]]==nums[ans[0]-1]):\n",
    "            ans = [ans[0]-1,ans[0]]\n",
    "            return ans\n",
    "        else:\n",
    "            ans = [ans[0],ans[0]+1]\n",
    "            return ans\n",
    "    else:\n",
    "        return ans\n"
   ]
  },
  {
   "cell_type": "code",
   "execution_count": 12,
   "id": "d8f6e6da",
   "metadata": {},
   "outputs": [
    {
     "data": {
      "text/plain": [
       "[3, 4]"
      ]
     },
     "execution_count": 12,
     "metadata": {},
     "output_type": "execute_result"
    }
   ],
   "source": [
    "nums = [5,7,7,8,8,10] \n",
    "target = 8\n",
    "searchInsert(nums, target)"
   ]
  },
  {
   "cell_type": "code",
   "execution_count": 13,
   "id": "696c47ca",
   "metadata": {},
   "outputs": [
    {
     "data": {
      "text/plain": [
       "[-1, -1]"
      ]
     },
     "execution_count": 13,
     "metadata": {},
     "output_type": "execute_result"
    }
   ],
   "source": [
    "nums = [5,7,7,8,8,10] \n",
    "target = 6\n",
    "searchInsert(nums, target)"
   ]
  },
  {
   "cell_type": "markdown",
   "id": "eb47d7c8",
   "metadata": {},
   "source": [
    "💡 **Question 8**\n",
    "\n",
    "Given two integer arrays `nums1` and `nums2`, return *an array of their intersection*. Each element in the result must appear as many times as it shows in both arrays and you may return the result in **any order**.\n",
    "\n",
    "</aside>"
   ]
  },
  {
   "cell_type": "code",
   "execution_count": 21,
   "id": "89910dd9",
   "metadata": {},
   "outputs": [],
   "source": [
    "def intersection(nums1,nums2):\n",
    "\n",
    "    l = []\n",
    "\n",
    "    if len(nums1)>=len(nums2):\n",
    "        large = nums1\n",
    "        small = nums2\n",
    "    else:\n",
    "        large = nums2\n",
    "        small = nums1\n",
    "\n",
    "    for i in small:\n",
    "        start = 0\n",
    "        end = len(large) - 1\n",
    "        while(start<=end):\n",
    "            mid = (start + end)//2\n",
    "            if large[mid]==i:\n",
    "                l.append(i)\n",
    "                break\n",
    "            elif large[mid]>i:\n",
    "                start = mid + 1\n",
    "            else:\n",
    "                end = mid - 1\n",
    "    return l"
   ]
  },
  {
   "cell_type": "code",
   "execution_count": 13,
   "id": "953cbc06",
   "metadata": {},
   "outputs": [
    {
     "name": "stdout",
     "output_type": "stream",
     "text": [
      "[2, 2]\n"
     ]
    }
   ],
   "source": [
    "nums1 = [1,2,2,1]\n",
    "nums2 = [2,2]\n",
    "\n",
    "print(intersection(nums1,nums2))"
   ]
  },
  {
   "cell_type": "code",
   "execution_count": 14,
   "id": "07e15802",
   "metadata": {},
   "outputs": [
    {
     "name": "stdout",
     "output_type": "stream",
     "text": [
      "[4, 9]\n"
     ]
    }
   ],
   "source": [
    "nums1 = [4,9,5] \n",
    "nums2 = [9,4,9,8,4]\n",
    "print(intersection(nums1,nums2))"
   ]
  }
 ],
 "metadata": {
  "kernelspec": {
   "display_name": "Python 3 (ipykernel)",
   "language": "python",
   "name": "python3"
  },
  "language_info": {
   "codemirror_mode": {
    "name": "ipython",
    "version": 3
   },
   "file_extension": ".py",
   "mimetype": "text/x-python",
   "name": "python",
   "nbconvert_exporter": "python",
   "pygments_lexer": "ipython3",
   "version": "3.9.12"
  }
 },
 "nbformat": 4,
 "nbformat_minor": 5
}
