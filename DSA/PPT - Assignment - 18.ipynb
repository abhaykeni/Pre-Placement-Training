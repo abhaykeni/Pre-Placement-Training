{
 "cells": [
  {
   "cell_type": "markdown",
   "id": "940806f9",
   "metadata": {},
   "source": [
    "💡 1. **Merge Intervals**\n",
    "\n",
    "Given an array of `intervals` where `intervals[i] = [starti, endi]`, merge all overlapping intervals, and return *an array of the non-overlapping intervals that cover all the intervals in the input*.\n",
    "\n",
    "</aside>"
   ]
  },
  {
   "cell_type": "code",
   "execution_count": 2,
   "id": "7f612184",
   "metadata": {},
   "outputs": [
    {
     "name": "stdout",
     "output_type": "stream",
     "text": [
      "The Merged Intervals are : [1, 9] "
     ]
    }
   ],
   "source": [
    "def mergeIntervals(intervals):\n",
    "    intervals.sort()\n",
    "    stack = []\n",
    "    stack.append(intervals[0])\n",
    "    for i in intervals[1:]:\n",
    "        if stack[-1][0] <= i[0] <= stack[-1][-1]:\n",
    "            stack[-1][-1] = max(stack[-1][-1], i[-1])\n",
    "        else:\n",
    "            stack.append(i)\n",
    " \n",
    "    print(\"The Merged Intervals are :\", end=\" \")\n",
    "    for i in range(len(stack)):\n",
    "        print(stack[i], end=\" \")\n",
    " \n",
    " \n",
    "arr = [[6, 8], [1, 9], [2, 4], [4, 7]]\n",
    "mergeIntervals(arr)"
   ]
  },
  {
   "cell_type": "markdown",
   "id": "d5295d1e",
   "metadata": {},
   "source": [
    "💡 2. **Sort Colors**\n",
    "\n",
    "Given an array `nums` with `n` objects colored red, white, or blue, sort them **[in-place](https://en.wikipedia.org/wiki/In-place_algorithm)** so that objects of the same color are adjacent, with the colors in the order red, white, and blue.\n",
    "\n",
    "We will use the integers `0`, `1`, and `2` to represent the color red, white, and blue, respectively.\n",
    "\n",
    "You must solve this problem without using the library's sort function.\n",
    "\n",
    "</aside>"
   ]
  },
  {
   "cell_type": "code",
   "execution_count": 26,
   "id": "4e5307ea",
   "metadata": {},
   "outputs": [],
   "source": [
    "def sort012(a, arr_size):\n",
    "    lo = 0\n",
    "    hi = arr_size - 1\n",
    "    mid = 0\n",
    "    while mid <= hi:\n",
    "        if a[mid] == 0:\n",
    "            a[lo], a[mid] = a[mid], a[lo]\n",
    "            lo = lo + 1\n",
    "            mid = mid + 1\n",
    "        elif a[mid] == 1:\n",
    "            mid = mid + 1\n",
    "        else:\n",
    "            a[mid], a[hi] = a[hi], a[mid]\n",
    "            hi = hi - 1\n",
    "    return a\n",
    "  \n",
    "def printArray(a):\n",
    "    for k in a:\n",
    "        print(k, end=' ')"
   ]
  },
  {
   "cell_type": "code",
   "execution_count": 6,
   "id": "14ea9ee1",
   "metadata": {},
   "outputs": [
    {
     "name": "stdout",
     "output_type": "stream",
     "text": [
      "0 0 0 0 0 1 1 1 1 1 2 2 "
     ]
    }
   ],
   "source": [
    "arr = [0, 1, 1, 0, 1, 2, 1, 2, 0, 0, 0, 1]\n",
    "arr_size = len(arr)\n",
    "arr = sort012(arr, arr_size)\n",
    "printArray(arr)"
   ]
  },
  {
   "cell_type": "markdown",
   "id": "1f1faeb5",
   "metadata": {},
   "source": [
    "💡 3. **First Bad Version Solution**\n",
    "\n",
    "You are a product manager and currently leading a team to develop a new product. Unfortunately, the latest version of your product fails the quality check. Since each version is developed based on the previous version, all the versions after a bad version are also bad.\n",
    "\n",
    "Suppose you have `n` versions `[1, 2, ..., n]` and you want to find out the first bad one, which causes all the following ones to be bad.\n",
    "\n",
    "You are given an API `bool isBadVersion(version)` which returns whether `version` is bad. Implement a function to find the first bad version. You should minimize the number of calls to the API.\n",
    "\n",
    "</aside>"
   ]
  },
  {
   "cell_type": "code",
   "execution_count": 11,
   "id": "a112cc0e",
   "metadata": {},
   "outputs": [],
   "source": [
    "first_bad = 0\n",
    "def isBadVersion(version):\n",
    "    if version >= first_bad:\n",
    "        return True\n",
    "    return False\n",
    "class Solution:\n",
    "    def firstBadVersion(self, n):\n",
    "        if n <2:\n",
    "            return n\n",
    "        start = 1\n",
    "        end = n\n",
    "        while(start<=end):\n",
    "            mid = (start+end)//2\n",
    "            if isBadVersion(mid) and not isBadVersion(mid-1):\n",
    "                return mid\n",
    "            elif isBadVersion(mid-1):\n",
    "                end = mid-1\n",
    "            else:\n",
    "                start = mid+1\n"
   ]
  },
  {
   "cell_type": "code",
   "execution_count": 12,
   "id": "dabaad9a",
   "metadata": {},
   "outputs": [
    {
     "name": "stdout",
     "output_type": "stream",
     "text": [
      "4\n"
     ]
    }
   ],
   "source": [
    "ob1 = Solution()\n",
    "first_bad = 4\n",
    "op = ob1.firstBadVersion(5)\n",
    "print(op)"
   ]
  },
  {
   "cell_type": "markdown",
   "id": "00f88c83",
   "metadata": {},
   "source": [
    "💡 4. **Maximum Gap**\n",
    "\n",
    "Given an integer array `nums`, return *the maximum difference between two successive elements in its sorted form*. If the array contains less than two elements, return `0`.\n",
    "\n",
    "You must write an algorithm that runs in linear time and uses linear extra space.\n",
    "\n",
    "</aside>"
   ]
  },
  {
   "cell_type": "code",
   "execution_count": 13,
   "id": "effb4256",
   "metadata": {},
   "outputs": [],
   "source": [
    "def maxSortedAdjacentDiff(arr, n):\n",
    " \n",
    "    maxVal, minVal = arr[0], arr[0]\n",
    "    for i in range(1, n):\n",
    "        maxVal = max(maxVal, arr[i])\n",
    "        minVal = min(minVal, arr[i])\n",
    " \n",
    "    maxBucket = [INT_MIN] * (n - 1)\n",
    "    minBucket = [INT_MAX] * (n - 1)\n",
    "     \n",
    "    \n",
    "    delta = (maxVal - minVal) // (n - 1)\n",
    " \n",
    "    for i in range(0, n):\n",
    "        if arr[i] == maxVal or arr[i] == minVal:\n",
    "            continue\n",
    " \n",
    "       \n",
    "        index = (arr[i] - minVal) // delta\n",
    " \n",
    "     \n",
    "        if maxBucket[index] == INT_MIN:\n",
    "            maxBucket[index] = arr[i]\n",
    "        else:\n",
    "            maxBucket[index] = max(maxBucket[index],\n",
    "                                             arr[i])\n",
    " \n",
    "      \n",
    "        if minBucket[index] == INT_MAX:\n",
    "            minBucket[index] = arr[i]\n",
    "        else:\n",
    "            minBucket[index] = min(minBucket[index],\n",
    "                                             arr[i])\n",
    "            \n",
    "    prev_val, max_gap = minVal, 0\n",
    "     \n",
    "    for i in range(0, n - 1):\n",
    "        if minBucket[i] == INT_MAX:\n",
    "            continue\n",
    "             \n",
    "        max_gap = max(max_gap,\n",
    "                      minBucket[i] - prev_val)\n",
    "        prev_val = maxBucket[i]\n",
    "     \n",
    "    max_gap = max(max_gap, maxVal - prev_val)\n",
    " \n",
    "    return max_gap"
   ]
  },
  {
   "cell_type": "code",
   "execution_count": 14,
   "id": "780ce33d",
   "metadata": {},
   "outputs": [
    {
     "name": "stdout",
     "output_type": "stream",
     "text": [
      "5\n"
     ]
    }
   ],
   "source": [
    "arr = [1, 10, 5]\n",
    "n = len(arr)\n",
    "INT_MIN, INT_MAX = float('-inf'), float('inf')\n",
    "     \n",
    "print(maxSortedAdjacentDiff(arr, n))"
   ]
  },
  {
   "cell_type": "markdown",
   "id": "8bae684a",
   "metadata": {},
   "source": [
    "💡 5. **Contains Duplicate**\n",
    "\n",
    "Given an integer array `nums`, return `true` if any value appears **at least twice** in the array, and return `false` if every element is distinct.\n",
    "\n",
    "</aside>"
   ]
  },
  {
   "cell_type": "code",
   "execution_count": 15,
   "id": "7a9e1cf3",
   "metadata": {},
   "outputs": [],
   "source": [
    "def checkDuplicatesWithinK(arr, n, k):\n",
    " \n",
    "    myset = []\n",
    " \n",
    "    # Traverse the input array\n",
    "    for i in range(n):\n",
    "     \n",
    "        if arr[i] in myset:\n",
    "            return True\n",
    " \n",
    "        myset.append(arr[i])\n",
    "        if (i >= k):\n",
    "            myset.remove(arr[i - k])\n",
    "    return False\n",
    " "
   ]
  },
  {
   "cell_type": "code",
   "execution_count": 17,
   "id": "c56ea40e",
   "metadata": {},
   "outputs": [
    {
     "name": "stdout",
     "output_type": "stream",
     "text": [
      "True\n"
     ]
    }
   ],
   "source": [
    "arr = [10, 5, 3, 4, 3, 5, 6]\n",
    "n = len(arr)\n",
    "if (checkDuplicatesWithinK(arr, n, 3)):\n",
    "    print(True)\n",
    "else:\n",
    "    print(False)"
   ]
  },
  {
   "cell_type": "markdown",
   "id": "93d1864e",
   "metadata": {},
   "source": [
    "💡 6. **Minimum Number of Arrows to Burst Balloons**\n",
    "\n",
    "There are some spherical balloons taped onto a flat wall that represents the XY-plane. The balloons are represented as a 2D integer array `points` where `points[i] = [xstart, xend]` denotes a balloon whose **horizontal diameter** stretches between `xstart` and `xend`. You do not know the exact y-coordinates of the balloons.\n",
    "\n",
    "Arrows can be shot up **directly vertically** (in the positive y-direction) from different points along the x-axis. A balloon with `xstart` and `xend` is **burst** by an arrow shot at `x` if `xstart <= x <= xend`. There is **no limit** to the number of arrows that can be shot. A shot arrow keeps traveling up infinitely, bursting any balloons in its path.\n",
    "\n",
    "Given the array `points`, return *the **minimum** number of arrows that must be shot to burst all balloons*.\n",
    "\n",
    "</aside>"
   ]
  },
  {
   "cell_type": "code",
   "execution_count": 18,
   "id": "6062952c",
   "metadata": {},
   "outputs": [],
   "source": [
    "def minArrows(points):\n",
    "\n",
    "    points = sorted(points,  key = lambda x:x[1])\n",
    "    end = points[0][1];\n",
    "\n",
    "    arrow = 1\n",
    "    for i in range (1, len(points)) :\n",
    "\n",
    "        if (points[i][0] <= end) :\n",
    "            continue\n",
    "            \n",
    "        else :\n",
    "            end = points[i][1]       \n",
    "            arrow = arrow + 1\n",
    "    \n",
    "    return arrow;"
   ]
  },
  {
   "cell_type": "code",
   "execution_count": 19,
   "id": "eca0aebd",
   "metadata": {},
   "outputs": [
    {
     "name": "stdout",
     "output_type": "stream",
     "text": [
      "2\n"
     ]
    }
   ],
   "source": [
    "points = [[10, 16 ], [ 2, 8 ], [1, 6 ], [ 7, 12 ]]\n",
    "print(minArrows(points))"
   ]
  },
  {
   "cell_type": "markdown",
   "id": "1dad2af0",
   "metadata": {},
   "source": [
    "💡 7. **Longest Increasing Subsequence**\n",
    "\n",
    "Given an integer array `nums`, return *the length of the longest **strictly increasing***\n",
    "\n",
    "***subsequence***\n",
    "\n",
    "</aside>"
   ]
  },
  {
   "cell_type": "code",
   "execution_count": 20,
   "id": "c757c162",
   "metadata": {},
   "outputs": [],
   "source": [
    "def lis(a):\n",
    "    n = len(a)\n",
    " \n",
    "\n",
    "    b = sorted(list(set(a)))\n",
    "    m = len(b)\n",
    " \n",
    "    dp = [[-1 for i in range(m+1)] for j in range(n+1)]\n",
    " \n",
    "    for i in range(n+1):\n",
    " \n",
    "        for j in range(m+1):\n",
    "            if i == 0 or j == 0:\n",
    "                dp[i][j] = 0\n",
    "            elif a[i-1] == b[j-1]:\n",
    "                dp[i][j] = 1+dp[i-1][j-1]\n",
    "            else:\n",
    "                dp[i][j] = max(dp[i-1][j], dp[i][j-1])\n",
    "    return dp[-1][-1]"
   ]
  },
  {
   "cell_type": "code",
   "execution_count": 22,
   "id": "3f4fb10f",
   "metadata": {},
   "outputs": [
    {
     "name": "stdout",
     "output_type": "stream",
     "text": [
      "Length of list is 5\n"
     ]
    }
   ],
   "source": [
    "arr = [10, 22, 9, 33, 21, 50, 41, 60]\n",
    "print(\"Length of list is\", lis(arr))"
   ]
  },
  {
   "cell_type": "markdown",
   "id": "fbb1c32c",
   "metadata": {},
   "source": [
    "💡 8. **132 Pattern**\n",
    "\n",
    "Given an array of `n` integers `nums`, a **132 pattern** is a subsequence of three integers `nums[i]`, `nums[j]` and `nums[k]` such that `i < j < k` and `nums[i] < nums[k] < nums[j]`.\n",
    "\n",
    "Return `true` *if there is a **132 pattern** in* `nums`*, otherwise, return* `false`*.*\n",
    "\n",
    "</aside>"
   ]
  },
  {
   "cell_type": "code",
   "execution_count": 24,
   "id": "59eaf297",
   "metadata": {},
   "outputs": [],
   "source": [
    "def recreationalSpot(arr, n) :\n",
    " \n",
    "    small = [];\n",
    " \n",
    "    min1 = arr[0];\n",
    "    for i in range(n) :\n",
    "        if (min1 >= arr[i]) :\n",
    "            min1 = arr[i];\n",
    " \n",
    "           \n",
    "            small.append(-1);\n",
    "             \n",
    "        else :\n",
    "            small.append(min1);\n",
    " \n",
    "    s = [];\n",
    " \n",
    "    \n",
    "    for i in range(n - 1, 0, -1) :\n",
    " \n",
    "        while (len(s) != 0 and s[-1] <= small[i]) :\n",
    "            s.pop();\n",
    " \n",
    "        if (len(s) != 0 and small[i] != -1 and s[-1] < arr[i]) :\n",
    "            return True;\n",
    "             \n",
    "        s.append(arr[i]);\n",
    " \n",
    "    return False;\n",
    " "
   ]
  },
  {
   "cell_type": "code",
   "execution_count": 25,
   "id": "bfbd35a2",
   "metadata": {},
   "outputs": [
    {
     "name": "stdout",
     "output_type": "stream",
     "text": [
      "True\n"
     ]
    }
   ],
   "source": [
    "arr = [ 4, 7, 11, 5, 13, 2 ];\n",
    "N = len(arr);\n",
    " \n",
    "    \n",
    "if (recreationalSpot(arr, N)) :\n",
    "    print(\"True\")\n",
    "else :\n",
    "    print(\"False\")"
   ]
  },
  {
   "cell_type": "code",
   "execution_count": null,
   "id": "c875350a",
   "metadata": {},
   "outputs": [],
   "source": []
  }
 ],
 "metadata": {
  "kernelspec": {
   "display_name": "Python 3 (ipykernel)",
   "language": "python",
   "name": "python3"
  },
  "language_info": {
   "codemirror_mode": {
    "name": "ipython",
    "version": 3
   },
   "file_extension": ".py",
   "mimetype": "text/x-python",
   "name": "python",
   "nbconvert_exporter": "python",
   "pygments_lexer": "ipython3",
   "version": "3.9.12"
  }
 },
 "nbformat": 4,
 "nbformat_minor": 5
}
