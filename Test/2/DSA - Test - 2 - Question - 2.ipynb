{
 "cells": [
  {
   "cell_type": "markdown",
   "id": "10dc1ee0",
   "metadata": {},
   "source": [
    "You are given two non-empty linked lists representing two non-negative integers. The digits are stored in reverse order, and each of their nodes contains a single digit. Add the two numbers and return the sum as a linked list.\n",
    "\n",
    "You may assume the two numbers do not contain any leading zero, except the number 0 itself.\n",
    "\n",
    "\n",
    "Example 1:\n",
    "\n",
    "Input: l1 = [2,4,3], l2 = [5,6,4] Output: [7,0,8] Explanation: 342 + 465 = 807.\n",
    "\n",
    "Example 2:\n",
    "\n",
    "Input: l1 = [0], l2 = [0] Output: [0]\n",
    "\n",
    "Example 3:\n",
    "\n",
    "Input: l1 = [9,9,9,9,9,9,9], l2 = [9,9,9,9] Output: [8,9,9,9,0,0,0,1]"
   ]
  },
  {
   "cell_type": "code",
   "execution_count": 2,
   "id": "bc5a35d7",
   "metadata": {},
   "outputs": [],
   "source": [
    "class Node:\n",
    "    def __init__(self, data):\n",
    "        self.data = data\n",
    "        self.next = None\n",
    "         \n",
    "class LinkedList:\n",
    "    def __init__(self):\n",
    "        self.head = None\n",
    "    def push(self, new_data):\n",
    "        new_node = Node(new_data)\n",
    "        new_node.next = self.head\n",
    "        self.head = new_node\n",
    "         \n",
    "    def printList(self):\n",
    "        n = self.head\n",
    "        while n:\n",
    "            print(n.data, end=' ')\n",
    "            n = n.next\n",
    "        print()\n",
    "        \n",
    "def addTwoLists(first, second):\n",
    "    num1, num2 = 0, 0\n",
    "    while first.head:\n",
    "        num1 = num1*10 + first.head.data\n",
    "        first.head = first.head.next\n",
    "    while second.head:\n",
    "        num2 = num2*10 + second.head.data\n",
    "        second.head = second.head.next\n",
    "    num3 = num1 + num2\n",
    "    temp = LinkedList()\n",
    "    while num3:\n",
    "        last = num3 % 10\n",
    "        temp.push(last)\n",
    "        num3 = num3 // 10\n",
    "    return temp"
   ]
  },
  {
   "cell_type": "code",
   "execution_count": 6,
   "id": "59345406",
   "metadata": {},
   "outputs": [
    {
     "name": "stdout",
     "output_type": "stream",
     "text": [
      "Sum is :  8 0 7 \n"
     ]
    }
   ],
   "source": [
    "first = LinkedList()\n",
    "second = LinkedList()\n",
    "first.push(2)\n",
    "first.push(4)\n",
    "first.push(3)\n",
    "\n",
    "second.push(5)\n",
    "second.push(6)\n",
    "second.push(4)\n",
    "\n",
    "\n",
    "ans = addTwoLists(first, second)\n",
    " \n",
    "print(\"Sum is : \", end=' ')\n",
    "ans.printList()"
   ]
  },
  {
   "cell_type": "code",
   "execution_count": 5,
   "id": "0eef98fc",
   "metadata": {},
   "outputs": [
    {
     "name": "stdout",
     "output_type": "stream",
     "text": [
      "Sum is :  1 0 0 0 9 9 9 8 \n"
     ]
    }
   ],
   "source": [
    "first = LinkedList()\n",
    "second = LinkedList()\n",
    "first.push(9)\n",
    "first.push(9)\n",
    "first.push(9)\n",
    "first.push(9)\n",
    "first.push(9)\n",
    "first.push(9)\n",
    "first.push(9)\n",
    " \n",
    "second.push(9)\n",
    "second.push(9)\n",
    "second.push(9)\n",
    "second.push(9)\n",
    "\n",
    "ans = addTwoLists(first, second)\n",
    " \n",
    "print(\"Sum is : \", end=' ')\n",
    "ans.printList()"
   ]
  },
  {
   "cell_type": "code",
   "execution_count": null,
   "id": "632eee77",
   "metadata": {},
   "outputs": [],
   "source": []
  }
 ],
 "metadata": {
  "kernelspec": {
   "display_name": "Python 3 (ipykernel)",
   "language": "python",
   "name": "python3"
  },
  "language_info": {
   "codemirror_mode": {
    "name": "ipython",
    "version": 3
   },
   "file_extension": ".py",
   "mimetype": "text/x-python",
   "name": "python",
   "nbconvert_exporter": "python",
   "pygments_lexer": "ipython3",
   "version": "3.9.12"
  }
 },
 "nbformat": 4,
 "nbformat_minor": 5
}
