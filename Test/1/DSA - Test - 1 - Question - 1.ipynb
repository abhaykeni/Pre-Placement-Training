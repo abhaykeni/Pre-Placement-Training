{
 "cells": [
  {
   "cell_type": "markdown",
   "id": "0f636632",
   "metadata": {},
   "source": [
    "Move Zeroes\n",
    "Given an integer array nums, move all 0's to the end of it while maintaining the relative order of the non-zero elements.\n",
    "\n",
    "Note that you must do this in-place without making a copy of the array.\n",
    "\n",
    "Example 1:\n",
    "\n",
    "Input: nums = [0,1,0,3,12]\n",
    "\n",
    "Output: [1,3,12,0,0]\n",
    "\n",
    "Example 2:\n",
    "\n",
    "Input: nums = [0]\n",
    "\n",
    "Output: [0]\n",
    "\n",
    "Constraints:\n",
    "\n",
    "a. 1 <= nums.length <= 10^4\n",
    "\n",
    "b. -2^31 <= nums[i] <= 2^31 - 1"
   ]
  },
  {
   "cell_type": "code",
   "execution_count": 14,
   "id": "2b2309f8",
   "metadata": {},
   "outputs": [],
   "source": [
    "def push_zero(a):\n",
    "    if len(a)==1 and a[0]==0:\n",
    "        return 0\n",
    "    else:\n",
    "        for i in range(n):\n",
    "            if a[i]==0:\n",
    "                a[i:n-1] = a[i+1:n]\n",
    "                a[n-1] = 0\n",
    "        return(a)"
   ]
  },
  {
   "cell_type": "code",
   "execution_count": 15,
   "id": "b11e4be2",
   "metadata": {},
   "outputs": [
    {
     "name": "stdout",
     "output_type": "stream",
     "text": [
      "[1, 3, 12, 0, 0]\n"
     ]
    }
   ],
   "source": [
    "print(push_zero(a=[0,1,0,3,12]))"
   ]
  },
  {
   "cell_type": "code",
   "execution_count": 16,
   "id": "5025aa4e",
   "metadata": {},
   "outputs": [
    {
     "name": "stdout",
     "output_type": "stream",
     "text": [
      "0\n"
     ]
    }
   ],
   "source": [
    "print(push_zero(a=[0]))"
   ]
  },
  {
   "cell_type": "code",
   "execution_count": null,
   "id": "f3b3d991",
   "metadata": {},
   "outputs": [],
   "source": []
  }
 ],
 "metadata": {
  "kernelspec": {
   "display_name": "Python 3 (ipykernel)",
   "language": "python",
   "name": "python3"
  },
  "language_info": {
   "codemirror_mode": {
    "name": "ipython",
    "version": 3
   },
   "file_extension": ".py",
   "mimetype": "text/x-python",
   "name": "python",
   "nbconvert_exporter": "python",
   "pygments_lexer": "ipython3",
   "version": "3.9.12"
  }
 },
 "nbformat": 4,
 "nbformat_minor": 5
}
