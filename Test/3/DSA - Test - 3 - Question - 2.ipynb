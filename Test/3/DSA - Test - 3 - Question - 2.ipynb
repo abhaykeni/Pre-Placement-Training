{
 "cells": [
  {
   "cell_type": "code",
   "execution_count": 11,
   "id": "d8727369",
   "metadata": {},
   "outputs": [],
   "source": [
    "class Queue:    \n",
    "    def __init__(self):\n",
    "        self.q = []\n",
    "\n",
    "    def isEmpty(self):\n",
    "        return len(self.q) == 0 \n",
    "\n",
    "    def enqueue(self, x):\n",
    "        self.q.append(x)\n",
    "\n",
    "\n",
    "    def dequeue(self):\n",
    "        if self.isEmpty():\n",
    "            return(\"Error : Empty Queue\")\n",
    "        else:\n",
    "            return self.q.pop(0)"
   ]
  },
  {
   "cell_type": "code",
   "execution_count": 12,
   "id": "8965328b",
   "metadata": {},
   "outputs": [
    {
     "name": "stdout",
     "output_type": "stream",
     "text": [
      "True\n",
      "Error : Empty Queue\n",
      "[0, 1, 2, 3, 4, 5, 6, 7, 8, 9]\n",
      "False\n",
      "Removed 0\n",
      "Removed 1\n",
      "[2, 3, 4, 5, 6, 7, 8, 9]\n"
     ]
    }
   ],
   "source": [
    "q1 = Queue()\n",
    "\n",
    "print(q1.isEmpty())\n",
    "print(q1.dequeue())\n",
    "\n",
    "for i in range(0,10):\n",
    "    q1.enqueue(i)\n",
    "\n",
    "print(q1.q)\n",
    "print(q1.isEmpty())\n",
    "print(\"Removed\",q1.dequeue())\n",
    "print(\"Removed\",q1.dequeue())\n",
    "print(q1.q)"
   ]
  },
  {
   "cell_type": "code",
   "execution_count": null,
   "id": "24f57c7f",
   "metadata": {},
   "outputs": [],
   "source": []
  }
 ],
 "metadata": {
  "kernelspec": {
   "display_name": "Python 3 (ipykernel)",
   "language": "python",
   "name": "python3"
  },
  "language_info": {
   "codemirror_mode": {
    "name": "ipython",
    "version": 3
   },
   "file_extension": ".py",
   "mimetype": "text/x-python",
   "name": "python",
   "nbconvert_exporter": "python",
   "pygments_lexer": "ipython3",
   "version": "3.9.12"
  }
 },
 "nbformat": 4,
 "nbformat_minor": 5
}
