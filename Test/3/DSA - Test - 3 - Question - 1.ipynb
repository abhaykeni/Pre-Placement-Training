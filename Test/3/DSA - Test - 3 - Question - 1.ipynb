{
 "cells": [
  {
   "cell_type": "markdown",
   "id": "5b19ab3c",
   "metadata": {},
   "source": [
    "Implement a stack using a list in Python. Include the necessary methods such as push, pop, and isEmpty."
   ]
  },
  {
   "cell_type": "code",
   "execution_count": 11,
   "id": "09f2e843",
   "metadata": {},
   "outputs": [],
   "source": [
    "class Stack:    \n",
    "    def __init__(self):\n",
    "        self.stack = []\n",
    "\n",
    "    def isEmpty(self):\n",
    "        return len(self.stack) == 0 \n",
    "\n",
    "    def push(self, x):\n",
    "        self.stack.append(x)\n",
    "\n",
    "\n",
    "    def pop(self):\n",
    "        if self.isEmpty():\n",
    "            return(\"Error : stack underflow\")\n",
    "        else:\n",
    "            return self.stack.pop()"
   ]
  },
  {
   "cell_type": "code",
   "execution_count": 12,
   "id": "60910a99",
   "metadata": {},
   "outputs": [
    {
     "name": "stdout",
     "output_type": "stream",
     "text": [
      "True\n",
      "Error : stack underflow\n",
      "[0, 1, 2, 3, 4, 5, 6, 7, 8, 9]\n",
      "False\n",
      "Popped: 9\n",
      "Popped: 8\n",
      "[0, 1, 2, 3, 4, 5, 6, 7]\n"
     ]
    }
   ],
   "source": [
    "s1 = Stack()\n",
    "\n",
    "print(s1.isEmpty())\n",
    "print(s1.pop())\n",
    "\n",
    "for i in range(0,10):\n",
    "    s1.push(i)\n",
    "    \n",
    "print(s1.stack)\n",
    "\n",
    "print(s1.isEmpty())\n",
    "print(\"Popped:\",s1.pop())\n",
    "print(\"Popped:\",s1.pop())\n",
    "\n",
    "print(s1.stack)"
   ]
  },
  {
   "cell_type": "code",
   "execution_count": null,
   "id": "878049e7",
   "metadata": {},
   "outputs": [],
   "source": []
  }
 ],
 "metadata": {
  "kernelspec": {
   "display_name": "Python 3 (ipykernel)",
   "language": "python",
   "name": "python3"
  },
  "language_info": {
   "codemirror_mode": {
    "name": "ipython",
    "version": 3
   },
   "file_extension": ".py",
   "mimetype": "text/x-python",
   "name": "python",
   "nbconvert_exporter": "python",
   "pygments_lexer": "ipython3",
   "version": "3.9.12"
  }
 },
 "nbformat": 4,
 "nbformat_minor": 5
}
