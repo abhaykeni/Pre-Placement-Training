{
 "cells": [
  {
   "cell_type": "markdown",
   "id": "73e94c39",
   "metadata": {},
   "source": [
    "18. Implement a decorator function called ‘timer’ that measures the execution time of a function. The ‘timer’ decorator should print the time taken by the decorated function to execute. Use the ‘time’ module in Python to calculate the execution time."
   ]
  },
  {
   "cell_type": "code",
   "execution_count": 4,
   "id": "caefd78c",
   "metadata": {},
   "outputs": [
    {
     "name": "stdout",
     "output_type": "stream",
     "text": [
      "Function 'long_time' executed in 0.0723s\n"
     ]
    }
   ],
   "source": [
    "from time import time\n",
    "  \n",
    "def timer_func(func):\n",
    "    # This function shows the execution time of \n",
    "    # the function object passed\n",
    "    def wrap_func(*args, **kwargs):\n",
    "        t1 = time()\n",
    "        result = func(*args, **kwargs)\n",
    "        t2 = time()\n",
    "        print(f'Function {func.__name__!r} executed in {(t2-t1):.4f}s')\n",
    "        return result\n",
    "    return wrap_func\n",
    "  \n",
    "@timer_func\n",
    "def long_time(n):\n",
    "    for i in range(n):\n",
    "        for j in range(100000):\n",
    "            i*j\n",
    "  \n",
    "  \n",
    "long_time(5)"
   ]
  },
  {
   "cell_type": "code",
   "execution_count": null,
   "id": "ab0b0a83",
   "metadata": {},
   "outputs": [],
   "source": []
  }
 ],
 "metadata": {
  "kernelspec": {
   "display_name": "Python 3 (ipykernel)",
   "language": "python",
   "name": "python3"
  },
  "language_info": {
   "codemirror_mode": {
    "name": "ipython",
    "version": 3
   },
   "file_extension": ".py",
   "mimetype": "text/x-python",
   "name": "python",
   "nbconvert_exporter": "python",
   "pygments_lexer": "ipython3",
   "version": "3.9.12"
  }
 },
 "nbformat": 4,
 "nbformat_minor": 5
}
